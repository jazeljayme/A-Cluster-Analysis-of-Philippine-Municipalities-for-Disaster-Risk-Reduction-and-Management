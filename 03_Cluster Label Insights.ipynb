{
 "cells": [
  {
   "cell_type": "code",
   "execution_count": 1,
   "id": "fbf25eec",
   "metadata": {
    "ExecuteTime": {
     "end_time": "2021-12-13T06:54:40.539438Z",
     "start_time": "2021-12-13T06:54:37.152320Z"
    }
   },
   "outputs": [
    {
     "name": "stderr",
     "output_type": "stream",
     "text": [
      "Matplotlib created a temporary config/cache directory at /tmp/matplotlib-tw3o01l9 because the default path (/home/cnepomuceno/.cache/matplotlib) is not a writable directory; it is highly recommended to set the MPLCONFIGDIR environment variable to a writable directory, in particular to speed up the import of Matplotlib and to better support multiprocessing.\n"
     ]
    }
   ],
   "source": [
    "import pandas as pd\n",
    "import numpy as np\n",
    "import matplotlib.pyplot as plt\n",
    "import seaborn as sns\n",
    "import re\n",
    "import warnings\n",
    "import os.path\n",
    "import matplotlib.patches as mpatches\n",
    "import sqlite3\n",
    "import datetime\n",
    "import nltk\n",
    "nltk.download('stopwords', quiet=True)\n",
    "import plotly.express as px\n",
    "from nltk.corpus import stopwords\n",
    "from IPython.display import Image\n",
    "from IPython.core.display import HTML\n",
    "from wordcloud import WordCloud\n",
    "\n",
    "from sqlalchemy import create_engine\n",
    "from sqlalchemy.engine.reflection import Inspector\n",
    "\n",
    "import warnings\n",
    "warnings.simplefilter(action='ignore', category=FutureWarning)\n",
    "from warnings import simplefilter\n",
    "from sklearn.exceptions import ConvergenceWarning\n",
    "simplefilter(\"ignore\", category=ConvergenceWarning)\n",
    "\n",
    "plt.rcParams[\"figure.figsize\"] = (12, 8)\n",
    "\n",
    "from sklearn import decomposition\n",
    "from sklearn.cluster import KMeans\n",
    "from scipy.spatial.distance import euclidean, cityblock\n",
    "from sklearn.metrics import calinski_harabasz_score, silhouette_score\n",
    "from sklearn.base import clone"
   ]
  },
  {
   "cell_type": "code",
   "execution_count": 2,
   "id": "b88c44f3",
   "metadata": {
    "ExecuteTime": {
     "end_time": "2021-12-13T06:54:43.091132Z",
     "start_time": "2021-12-13T06:54:43.083390Z"
    }
   },
   "outputs": [],
   "source": [
    "# def boxplot(df, decade):\n",
    "#     \"\"\"Return boxplots of features in the `df` per `decade`.\"\"\"\n",
    "\n",
    "#     df = pd.DataFrame(df, columns=features)\n",
    "#     df['cluster'] = y_predict\n",
    "    \n",
    "#     spotify_color = (sns.color_palette('Greens')[1::2][::-1] \n",
    "#                      + sns.color_palette('binary')[0:4])\n",
    "#     order = decade\n",
    "#     fig, ax = plt.subplots(3, 3, figsize=(6, 6), dpi=100)\n",
    "#     features_for_plot = [['loudness', 'danceability', 'energy'],\n",
    "#                          ['acousticness', 'valence', 'tempo'],\n",
    "#                          ['instrumentalness', 'speechiness', 'liveness']]\n",
    "#     for i in range(3):\n",
    "#         for j in range(3):\n",
    "#             sns.boxplot(data=df, x='cluster', y=features_for_plot[i][j],\n",
    "#                         palette=spotify_color, linewidth=1, ax=ax[i][j])\n",
    "#             ax[i][j].set(title=features_for_plot[i][j], xlabel='cluster', \n",
    "#                          ylabel='')\n",
    "#     plt.tight_layout()\n",
    "#     plt.show()\n",
    "    \n",
    "\n",
    "# spotify_color = (sns.color_palette('Greens')[1::2][::-1] \n",
    "#                  + sns.color_palette('binary')[0:4])\n",
    "\n",
    "# features = ['danceability', 'energy', 'key', 'loudness', 'mode',\n",
    "#             'speechiness', 'acousticness', 'instrumentalness',\n",
    "#             'liveness', 'valence', 'tempo']\n",
    "\n",
    "# len_features = len(features)\n",
    "\n",
    "# decade_list = [50, 60, 70, 80, 90, 0, 10]\n",
    "# clusters_per_decade = [3, 2, 2, 2, 3, 3, 4]\n",
    "# pcs_per_decade = [7, 7, 7, 7, 7, 7, 7]"
   ]
  },
  {
   "cell_type": "code",
   "execution_count": 3,
   "id": "6a6659a1",
   "metadata": {
    "ExecuteTime": {
     "end_time": "2021-12-13T06:54:43.989206Z",
     "start_time": "2021-12-13T06:54:43.712746Z"
    }
   },
   "outputs": [
    {
     "data": {
      "text/html": [
       "<div>\n",
       "<style scoped>\n",
       "    .dataframe tbody tr th:only-of-type {\n",
       "        vertical-align: middle;\n",
       "    }\n",
       "\n",
       "    .dataframe tbody tr th {\n",
       "        vertical-align: top;\n",
       "    }\n",
       "\n",
       "    .dataframe thead th {\n",
       "        text-align: right;\n",
       "    }\n",
       "</style>\n",
       "<table border=\"1\" class=\"dataframe\">\n",
       "  <thead>\n",
       "    <tr style=\"text-align: right;\">\n",
       "      <th></th>\n",
       "      <th>Unnamed: 0</th>\n",
       "      <th>province</th>\n",
       "      <th>municipality</th>\n",
       "      <th>geom</th>\n",
       "      <th>amenity_counts</th>\n",
       "      <th>school_count</th>\n",
       "      <th>hospital_count</th>\n",
       "      <th>pop</th>\n",
       "      <th>tot_tax_revenue</th>\n",
       "      <th>tot_current_oper_income</th>\n",
       "      <th>...</th>\n",
       "      <th>major_2019</th>\n",
       "      <th>major_2020</th>\n",
       "      <th>major_2021</th>\n",
       "      <th>upper_90_mag</th>\n",
       "      <th>mean_mag_all</th>\n",
       "      <th>max_mag_all</th>\n",
       "      <th>eq_count_since_2010</th>\n",
       "      <th>cluster_label</th>\n",
       "      <th>cluster_label2</th>\n",
       "      <th>island</th>\n",
       "    </tr>\n",
       "  </thead>\n",
       "  <tbody>\n",
       "    <tr>\n",
       "      <th>0</th>\n",
       "      <td>0</td>\n",
       "      <td>Abra</td>\n",
       "      <td>Bangued</td>\n",
       "      <td>MULTIPOLYGON (((120.62709808 17.49300003, 120....</td>\n",
       "      <td>44.0</td>\n",
       "      <td>2.0</td>\n",
       "      <td>0.0</td>\n",
       "      <td>48163.0</td>\n",
       "      <td>36.556294</td>\n",
       "      <td>230.577076</td>\n",
       "      <td>...</td>\n",
       "      <td>0.0</td>\n",
       "      <td>0.0</td>\n",
       "      <td>0.0</td>\n",
       "      <td>[5.5]</td>\n",
       "      <td>5.50</td>\n",
       "      <td>5.5</td>\n",
       "      <td>1.0</td>\n",
       "      <td>0.0</td>\n",
       "      <td>2.0</td>\n",
       "      <td>Luzon</td>\n",
       "    </tr>\n",
       "    <tr>\n",
       "      <th>1</th>\n",
       "      <td>1</td>\n",
       "      <td>Abra</td>\n",
       "      <td>Boliney</td>\n",
       "      <td>MULTIPOLYGON (((120.99041748 17.39801979, 120....</td>\n",
       "      <td>9.0</td>\n",
       "      <td>0.0</td>\n",
       "      <td>0.0</td>\n",
       "      <td>3573.0</td>\n",
       "      <td>0.035633</td>\n",
       "      <td>56.689883</td>\n",
       "      <td>...</td>\n",
       "      <td>0.0</td>\n",
       "      <td>0.0</td>\n",
       "      <td>0.0</td>\n",
       "      <td>[0]</td>\n",
       "      <td>0.00</td>\n",
       "      <td>0.0</td>\n",
       "      <td>1.0</td>\n",
       "      <td>0.0</td>\n",
       "      <td>2.0</td>\n",
       "      <td>Luzon</td>\n",
       "    </tr>\n",
       "    <tr>\n",
       "      <th>2</th>\n",
       "      <td>2</td>\n",
       "      <td>Abra</td>\n",
       "      <td>Bucay</td>\n",
       "      <td>MULTIPOLYGON (((120.70787811 17.45395088, 120....</td>\n",
       "      <td>3.0</td>\n",
       "      <td>0.0</td>\n",
       "      <td>0.0</td>\n",
       "      <td>17115.0</td>\n",
       "      <td>1.019565</td>\n",
       "      <td>93.647242</td>\n",
       "      <td>...</td>\n",
       "      <td>0.0</td>\n",
       "      <td>0.0</td>\n",
       "      <td>0.0</td>\n",
       "      <td>[4.6]</td>\n",
       "      <td>4.95</td>\n",
       "      <td>5.3</td>\n",
       "      <td>2.0</td>\n",
       "      <td>0.0</td>\n",
       "      <td>2.0</td>\n",
       "      <td>Luzon</td>\n",
       "    </tr>\n",
       "    <tr>\n",
       "      <th>3</th>\n",
       "      <td>3</td>\n",
       "      <td>Abra</td>\n",
       "      <td>Bucloc</td>\n",
       "      <td>MULTIPOLYGON (((120.78955841 17.41699028, 120....</td>\n",
       "      <td>6.0</td>\n",
       "      <td>0.0</td>\n",
       "      <td>0.0</td>\n",
       "      <td>2501.0</td>\n",
       "      <td>0.129150</td>\n",
       "      <td>44.789104</td>\n",
       "      <td>...</td>\n",
       "      <td>0.0</td>\n",
       "      <td>0.0</td>\n",
       "      <td>0.0</td>\n",
       "      <td>[0]</td>\n",
       "      <td>0.00</td>\n",
       "      <td>0.0</td>\n",
       "      <td>1.0</td>\n",
       "      <td>0.0</td>\n",
       "      <td>2.0</td>\n",
       "      <td>Luzon</td>\n",
       "    </tr>\n",
       "    <tr>\n",
       "      <th>4</th>\n",
       "      <td>4</td>\n",
       "      <td>Abra</td>\n",
       "      <td>Daguioman</td>\n",
       "      <td>MULTIPOLYGON (((120.9291687 17.41307068, 120.9...</td>\n",
       "      <td>10.0</td>\n",
       "      <td>0.0</td>\n",
       "      <td>0.0</td>\n",
       "      <td>2088.0</td>\n",
       "      <td>0.277660</td>\n",
       "      <td>51.242322</td>\n",
       "      <td>...</td>\n",
       "      <td>0.0</td>\n",
       "      <td>0.0</td>\n",
       "      <td>0.0</td>\n",
       "      <td>[0]</td>\n",
       "      <td>0.00</td>\n",
       "      <td>0.0</td>\n",
       "      <td>1.0</td>\n",
       "      <td>0.0</td>\n",
       "      <td>2.0</td>\n",
       "      <td>Luzon</td>\n",
       "    </tr>\n",
       "  </tbody>\n",
       "</table>\n",
       "<p>5 rows × 106 columns</p>\n",
       "</div>"
      ],
      "text/plain": [
       "   Unnamed: 0 province municipality  \\\n",
       "0           0     Abra      Bangued   \n",
       "1           1     Abra      Boliney   \n",
       "2           2     Abra        Bucay   \n",
       "3           3     Abra       Bucloc   \n",
       "4           4     Abra    Daguioman   \n",
       "\n",
       "                                                geom  amenity_counts  \\\n",
       "0  MULTIPOLYGON (((120.62709808 17.49300003, 120....            44.0   \n",
       "1  MULTIPOLYGON (((120.99041748 17.39801979, 120....             9.0   \n",
       "2  MULTIPOLYGON (((120.70787811 17.45395088, 120....             3.0   \n",
       "3  MULTIPOLYGON (((120.78955841 17.41699028, 120....             6.0   \n",
       "4  MULTIPOLYGON (((120.9291687 17.41307068, 120.9...            10.0   \n",
       "\n",
       "   school_count  hospital_count      pop  tot_tax_revenue  \\\n",
       "0           2.0             0.0  48163.0        36.556294   \n",
       "1           0.0             0.0   3573.0         0.035633   \n",
       "2           0.0             0.0  17115.0         1.019565   \n",
       "3           0.0             0.0   2501.0         0.129150   \n",
       "4           0.0             0.0   2088.0         0.277660   \n",
       "\n",
       "   tot_current_oper_income  ...  major_2019 major_2020 major_2021  \\\n",
       "0               230.577076  ...         0.0        0.0        0.0   \n",
       "1                56.689883  ...         0.0        0.0        0.0   \n",
       "2                93.647242  ...         0.0        0.0        0.0   \n",
       "3                44.789104  ...         0.0        0.0        0.0   \n",
       "4                51.242322  ...         0.0        0.0        0.0   \n",
       "\n",
       "  upper_90_mag mean_mag_all  max_mag_all  eq_count_since_2010  cluster_label  \\\n",
       "0        [5.5]         5.50          5.5                  1.0            0.0   \n",
       "1          [0]         0.00          0.0                  1.0            0.0   \n",
       "2        [4.6]         4.95          5.3                  2.0            0.0   \n",
       "3          [0]         0.00          0.0                  1.0            0.0   \n",
       "4          [0]         0.00          0.0                  1.0            0.0   \n",
       "\n",
       "   cluster_label2  island  \n",
       "0             2.0   Luzon  \n",
       "1             2.0   Luzon  \n",
       "2             2.0   Luzon  \n",
       "3             2.0   Luzon  \n",
       "4             2.0   Luzon  \n",
       "\n",
       "[5 rows x 106 columns]"
      ]
     },
     "execution_count": 3,
     "metadata": {},
     "output_type": "execute_result"
    }
   ],
   "source": [
    "data = pd.read_csv('eq_cluster_labels.csv')\n",
    "data.head()"
   ]
  },
  {
   "cell_type": "code",
   "execution_count": 4,
   "id": "123bebbb",
   "metadata": {
    "ExecuteTime": {
     "end_time": "2021-12-13T06:54:44.643357Z",
     "start_time": "2021-12-13T06:54:44.635471Z"
    }
   },
   "outputs": [
    {
     "data": {
      "text/plain": [
       "Index(['Unnamed: 0', 'province', 'municipality', 'geom', 'amenity_counts',\n",
       "       'school_count', 'hospital_count', 'pop', 'tot_tax_revenue',\n",
       "       'tot_current_oper_income',\n",
       "       ...\n",
       "       'major_2019', 'major_2020', 'major_2021', 'upper_90_mag',\n",
       "       'mean_mag_all', 'max_mag_all', 'eq_count_since_2010', 'cluster_label',\n",
       "       'cluster_label2', 'island'],\n",
       "      dtype='object', length=106)"
      ]
     },
     "execution_count": 4,
     "metadata": {},
     "output_type": "execute_result"
    }
   ],
   "source": [
    "data.columns"
   ]
  },
  {
   "cell_type": "code",
   "execution_count": 5,
   "id": "0cf4dfc4",
   "metadata": {
    "ExecuteTime": {
     "end_time": "2021-12-13T06:54:45.063214Z",
     "start_time": "2021-12-13T06:54:45.054198Z"
    },
    "scrolled": true
   },
   "outputs": [
    {
     "data": {
      "text/plain": [
       "['Unnamed: 0',\n",
       " 'province',\n",
       " 'municipality',\n",
       " 'geom',\n",
       " 'amenity_counts',\n",
       " 'school_count',\n",
       " 'hospital_count',\n",
       " 'pop',\n",
       " 'tot_tax_revenue',\n",
       " 'tot_current_oper_income',\n",
       " 'pop_density',\n",
       " 'Point',\n",
       " 'coordinates',\n",
       " 'magnitude',\n",
       " 'time',\n",
       " 'mean_mag_2010',\n",
       " 'mean_mag_2011',\n",
       " 'mean_mag_2012',\n",
       " 'mean_mag_2013',\n",
       " 'mean_mag_2014',\n",
       " 'mean_mag_2015',\n",
       " 'mean_mag_2016',\n",
       " 'mean_mag_2017',\n",
       " 'mean_mag_2018',\n",
       " 'mean_mag_2019',\n",
       " 'mean_mag_2020',\n",
       " 'mean_mag_2021',\n",
       " 'max_mag_2010',\n",
       " 'max_mag_2011',\n",
       " 'max_mag_2012',\n",
       " 'max_mag_2013',\n",
       " 'max_mag_2014',\n",
       " 'max_mag_2015',\n",
       " 'max_mag_2016',\n",
       " 'max_mag_2017',\n",
       " 'max_mag_2018',\n",
       " 'max_mag_2019',\n",
       " 'max_mag_2020',\n",
       " 'max_mag_2021',\n",
       " 'min_mag_2010',\n",
       " 'min_mag_2011',\n",
       " 'min_mag_2012',\n",
       " 'min_mag_2013',\n",
       " 'min_mag_2014',\n",
       " 'min_mag_2015',\n",
       " 'min_mag_2016',\n",
       " 'min_mag_2017',\n",
       " 'min_mag_2018',\n",
       " 'min_mag_2019',\n",
       " 'min_mag_2020',\n",
       " 'min_mag_2021',\n",
       " 'light_2010',\n",
       " 'light_2011',\n",
       " 'light_2012',\n",
       " 'light_2013',\n",
       " 'light_2014',\n",
       " 'light_2015',\n",
       " 'light_2016',\n",
       " 'light_2017',\n",
       " 'light_2018',\n",
       " 'light_2019',\n",
       " 'light_2020',\n",
       " 'light_2021',\n",
       " 'moderate_2010',\n",
       " 'moderate_2011',\n",
       " 'moderate_2012',\n",
       " 'moderate_2013',\n",
       " 'moderate_2014',\n",
       " 'moderate_2015',\n",
       " 'moderate_2016',\n",
       " 'moderate_2017',\n",
       " 'moderate_2018',\n",
       " 'moderate_2019',\n",
       " 'moderate_2020',\n",
       " 'moderate_2021',\n",
       " 'strong_2010',\n",
       " 'strong_2011',\n",
       " 'strong_2012',\n",
       " 'strong_2013',\n",
       " 'strong_2014',\n",
       " 'strong_2015',\n",
       " 'strong_2016',\n",
       " 'strong_2017',\n",
       " 'strong_2018',\n",
       " 'strong_2019',\n",
       " 'strong_2020',\n",
       " 'strong_2021',\n",
       " 'major_2010',\n",
       " 'major_2011',\n",
       " 'major_2012',\n",
       " 'major_2013',\n",
       " 'major_2014',\n",
       " 'major_2015',\n",
       " 'major_2016',\n",
       " 'major_2017',\n",
       " 'major_2018',\n",
       " 'major_2019',\n",
       " 'major_2020',\n",
       " 'major_2021',\n",
       " 'upper_90_mag',\n",
       " 'mean_mag_all',\n",
       " 'max_mag_all',\n",
       " 'eq_count_since_2010',\n",
       " 'cluster_label',\n",
       " 'cluster_label2',\n",
       " 'island']"
      ]
     },
     "execution_count": 5,
     "metadata": {},
     "output_type": "execute_result"
    }
   ],
   "source": [
    "data.columns.tolist()"
   ]
  },
  {
   "cell_type": "code",
   "execution_count": 6,
   "id": "e7e976c4",
   "metadata": {
    "ExecuteTime": {
     "end_time": "2021-12-13T06:54:45.433689Z",
     "start_time": "2021-12-13T06:54:45.423963Z"
    }
   },
   "outputs": [],
   "source": [
    "data.drop(labels=['Unnamed: 0'], axis=1, inplace=True)"
   ]
  },
  {
   "cell_type": "code",
   "execution_count": 7,
   "id": "781c7418",
   "metadata": {
    "ExecuteTime": {
     "end_time": "2021-12-13T06:54:45.714100Z",
     "start_time": "2021-12-13T06:54:45.705574Z"
    }
   },
   "outputs": [],
   "source": [
    "features = data.drop(labels=['cluster_label',\n",
    "                             'province', 'municipality', 'geom',\n",
    "                             'cluster_label2', 'Point', 'coordinates',\n",
    "                             'magnitude', 'time',], axis=1).columns.tolist()"
   ]
  },
  {
   "cell_type": "code",
   "execution_count": 8,
   "id": "4fbbec96",
   "metadata": {
    "ExecuteTime": {
     "end_time": "2021-12-13T06:54:45.968991Z",
     "start_time": "2021-12-13T06:54:45.963921Z"
    }
   },
   "outputs": [],
   "source": [
    "features = ['mean_mag_all', 'max_mag_all', 'eq_count_since_2010',\n",
    "            'amenity_counts', 'school_count', 'hospital_count',\n",
    "            'pop', 'tot_tax_revenue', 'tot_current_oper_income',\n",
    "            'pop_density']"
   ]
  },
  {
   "cell_type": "code",
   "execution_count": 9,
   "id": "bae7f2e8",
   "metadata": {
    "ExecuteTime": {
     "end_time": "2021-12-13T06:54:46.238845Z",
     "start_time": "2021-12-13T06:54:46.232489Z"
    }
   },
   "outputs": [
    {
     "data": {
      "text/plain": [
       "10"
      ]
     },
     "execution_count": 9,
     "metadata": {},
     "output_type": "execute_result"
    }
   ],
   "source": [
    "len(features)"
   ]
  },
  {
   "cell_type": "code",
   "execution_count": 10,
   "id": "80b0857d",
   "metadata": {
    "ExecuteTime": {
     "end_time": "2021-12-13T06:54:46.494561Z",
     "start_time": "2021-12-13T06:54:46.482239Z"
    }
   },
   "outputs": [],
   "source": [
    "def boxplot(df, decade):\n",
    "    \"\"\"Return boxplots of features in the `df` per `decade`.\"\"\"\n",
    "\n",
    "    df = pd.DataFrame(df, columns=features)\n",
    "    df['cluster'] = y_predict\n",
    "    \n",
    "    spotify_color = (sns.color_palette('Greens')[1::2][::-1] \n",
    "                     + sns.color_palette('binary')[0:4])\n",
    "    order = decade\n",
    "    fig, ax = plt.subplots(3, 3, figsize=(6, 6), dpi=100)\n",
    "    features_for_plot = [['loudness', 'danceability', 'energy'],\n",
    "                         ['acousticness', 'valence', 'tempo'],\n",
    "                         ['instrumentalness', 'speechiness', 'liveness']]\n",
    "    for i in range(3):\n",
    "        for j in range(3):\n",
    "            sns.boxplot(data=df, x='cluster', y=features_for_plot[i][j],\n",
    "                        palette=spotify_color, linewidth=1, ax=ax[i][j])\n",
    "            ax[i][j].set(title=features_for_plot[i][j], xlabel='cluster', \n",
    "                         ylabel='')\n",
    "    plt.tight_layout()\n",
    "    plt.show()"
   ]
  },
  {
   "cell_type": "code",
   "execution_count": 11,
   "id": "af27e66b",
   "metadata": {
    "ExecuteTime": {
     "end_time": "2021-12-13T06:54:46.722837Z",
     "start_time": "2021-12-13T06:54:46.716003Z"
    }
   },
   "outputs": [
    {
     "data": {
      "text/plain": [
       "dtype('float64')"
      ]
     },
     "execution_count": 11,
     "metadata": {},
     "output_type": "execute_result"
    }
   ],
   "source": [
    "data['cluster_label2'].dtypes"
   ]
  },
  {
   "cell_type": "code",
   "execution_count": 12,
   "id": "977b70c5",
   "metadata": {
    "ExecuteTime": {
     "end_time": "2021-12-13T06:54:47.033451Z",
     "start_time": "2021-12-13T06:54:46.985446Z"
    },
    "scrolled": false
   },
   "outputs": [
    {
     "data": {
      "text/html": [
       "<div>\n",
       "<style scoped>\n",
       "    .dataframe tbody tr th:only-of-type {\n",
       "        vertical-align: middle;\n",
       "    }\n",
       "\n",
       "    .dataframe tbody tr th {\n",
       "        vertical-align: top;\n",
       "    }\n",
       "\n",
       "    .dataframe thead th {\n",
       "        text-align: right;\n",
       "    }\n",
       "</style>\n",
       "<table border=\"1\" class=\"dataframe\">\n",
       "  <thead>\n",
       "    <tr style=\"text-align: right;\">\n",
       "      <th></th>\n",
       "      <th>province</th>\n",
       "      <th>municipality</th>\n",
       "      <th>geom</th>\n",
       "      <th>amenity_counts</th>\n",
       "      <th>school_count</th>\n",
       "      <th>hospital_count</th>\n",
       "      <th>pop</th>\n",
       "      <th>tot_tax_revenue</th>\n",
       "      <th>tot_current_oper_income</th>\n",
       "      <th>pop_density</th>\n",
       "      <th>...</th>\n",
       "      <th>major_2020</th>\n",
       "      <th>major_2021</th>\n",
       "      <th>upper_90_mag</th>\n",
       "      <th>mean_mag_all</th>\n",
       "      <th>max_mag_all</th>\n",
       "      <th>eq_count_since_2010</th>\n",
       "      <th>cluster_label</th>\n",
       "      <th>cluster_label2</th>\n",
       "      <th>island</th>\n",
       "      <th>cluster_label3</th>\n",
       "    </tr>\n",
       "  </thead>\n",
       "  <tbody>\n",
       "    <tr>\n",
       "      <th>0</th>\n",
       "      <td>Abra</td>\n",
       "      <td>Bangued</td>\n",
       "      <td>MULTIPOLYGON (((120.62709808 17.49300003, 120....</td>\n",
       "      <td>44.0</td>\n",
       "      <td>2.0</td>\n",
       "      <td>0.0</td>\n",
       "      <td>48163.0</td>\n",
       "      <td>36.556294</td>\n",
       "      <td>230.577076</td>\n",
       "      <td>4.575788e+06</td>\n",
       "      <td>...</td>\n",
       "      <td>0.0</td>\n",
       "      <td>0.0</td>\n",
       "      <td>[5.5]</td>\n",
       "      <td>5.50</td>\n",
       "      <td>5.5</td>\n",
       "      <td>1.0</td>\n",
       "      <td>0.0</td>\n",
       "      <td>2.0</td>\n",
       "      <td>Luzon</td>\n",
       "      <td>C</td>\n",
       "    </tr>\n",
       "    <tr>\n",
       "      <th>1</th>\n",
       "      <td>Abra</td>\n",
       "      <td>Boliney</td>\n",
       "      <td>MULTIPOLYGON (((120.99041748 17.39801979, 120....</td>\n",
       "      <td>9.0</td>\n",
       "      <td>0.0</td>\n",
       "      <td>0.0</td>\n",
       "      <td>3573.0</td>\n",
       "      <td>0.035633</td>\n",
       "      <td>56.689883</td>\n",
       "      <td>2.300790e+05</td>\n",
       "      <td>...</td>\n",
       "      <td>0.0</td>\n",
       "      <td>0.0</td>\n",
       "      <td>[0]</td>\n",
       "      <td>0.00</td>\n",
       "      <td>0.0</td>\n",
       "      <td>1.0</td>\n",
       "      <td>0.0</td>\n",
       "      <td>2.0</td>\n",
       "      <td>Luzon</td>\n",
       "      <td>C</td>\n",
       "    </tr>\n",
       "    <tr>\n",
       "      <th>2</th>\n",
       "      <td>Abra</td>\n",
       "      <td>Bucay</td>\n",
       "      <td>MULTIPOLYGON (((120.70787811 17.45395088, 120....</td>\n",
       "      <td>3.0</td>\n",
       "      <td>0.0</td>\n",
       "      <td>0.0</td>\n",
       "      <td>17115.0</td>\n",
       "      <td>1.019565</td>\n",
       "      <td>93.647242</td>\n",
       "      <td>1.926863e+06</td>\n",
       "      <td>...</td>\n",
       "      <td>0.0</td>\n",
       "      <td>0.0</td>\n",
       "      <td>[4.6]</td>\n",
       "      <td>4.95</td>\n",
       "      <td>5.3</td>\n",
       "      <td>2.0</td>\n",
       "      <td>0.0</td>\n",
       "      <td>2.0</td>\n",
       "      <td>Luzon</td>\n",
       "      <td>C</td>\n",
       "    </tr>\n",
       "    <tr>\n",
       "      <th>3</th>\n",
       "      <td>Abra</td>\n",
       "      <td>Bucloc</td>\n",
       "      <td>MULTIPOLYGON (((120.78955841 17.41699028, 120....</td>\n",
       "      <td>6.0</td>\n",
       "      <td>0.0</td>\n",
       "      <td>0.0</td>\n",
       "      <td>2501.0</td>\n",
       "      <td>0.129150</td>\n",
       "      <td>44.789104</td>\n",
       "      <td>5.735264e+05</td>\n",
       "      <td>...</td>\n",
       "      <td>0.0</td>\n",
       "      <td>0.0</td>\n",
       "      <td>[0]</td>\n",
       "      <td>0.00</td>\n",
       "      <td>0.0</td>\n",
       "      <td>1.0</td>\n",
       "      <td>0.0</td>\n",
       "      <td>2.0</td>\n",
       "      <td>Luzon</td>\n",
       "      <td>C</td>\n",
       "    </tr>\n",
       "    <tr>\n",
       "      <th>4</th>\n",
       "      <td>Abra</td>\n",
       "      <td>Daguioman</td>\n",
       "      <td>MULTIPOLYGON (((120.9291687 17.41307068, 120.9...</td>\n",
       "      <td>10.0</td>\n",
       "      <td>0.0</td>\n",
       "      <td>0.0</td>\n",
       "      <td>2088.0</td>\n",
       "      <td>0.277660</td>\n",
       "      <td>51.242322</td>\n",
       "      <td>2.523502e+05</td>\n",
       "      <td>...</td>\n",
       "      <td>0.0</td>\n",
       "      <td>0.0</td>\n",
       "      <td>[0]</td>\n",
       "      <td>0.00</td>\n",
       "      <td>0.0</td>\n",
       "      <td>1.0</td>\n",
       "      <td>0.0</td>\n",
       "      <td>2.0</td>\n",
       "      <td>Luzon</td>\n",
       "      <td>C</td>\n",
       "    </tr>\n",
       "    <tr>\n",
       "      <th>...</th>\n",
       "      <td>...</td>\n",
       "      <td>...</td>\n",
       "      <td>...</td>\n",
       "      <td>...</td>\n",
       "      <td>...</td>\n",
       "      <td>...</td>\n",
       "      <td>...</td>\n",
       "      <td>...</td>\n",
       "      <td>...</td>\n",
       "      <td>...</td>\n",
       "      <td>...</td>\n",
       "      <td>...</td>\n",
       "      <td>...</td>\n",
       "      <td>...</td>\n",
       "      <td>...</td>\n",
       "      <td>...</td>\n",
       "      <td>...</td>\n",
       "      <td>...</td>\n",
       "      <td>...</td>\n",
       "      <td>...</td>\n",
       "      <td>...</td>\n",
       "    </tr>\n",
       "    <tr>\n",
       "      <th>1642</th>\n",
       "      <td>Zamboanga Sibugay</td>\n",
       "      <td>Naga</td>\n",
       "      <td>MULTIPOLYGON (((122.77500153 7.76833296, 122.7...</td>\n",
       "      <td>2.0</td>\n",
       "      <td>0.0</td>\n",
       "      <td>0.0</td>\n",
       "      <td>38547.0</td>\n",
       "      <td>1.971273</td>\n",
       "      <td>111.794689</td>\n",
       "      <td>2.861438e+06</td>\n",
       "      <td>...</td>\n",
       "      <td>0.0</td>\n",
       "      <td>0.0</td>\n",
       "      <td>[6.1, 7.3]</td>\n",
       "      <td>7.00</td>\n",
       "      <td>7.6</td>\n",
       "      <td>3.0</td>\n",
       "      <td>0.0</td>\n",
       "      <td>0.0</td>\n",
       "      <td>Mindanao</td>\n",
       "      <td>A</td>\n",
       "    </tr>\n",
       "    <tr>\n",
       "      <th>1643</th>\n",
       "      <td>Zamboanga Sibugay</td>\n",
       "      <td>Talusan</td>\n",
       "      <td>MULTIPOLYGON (((122.91916656 7.34111023, 122.9...</td>\n",
       "      <td>1.0</td>\n",
       "      <td>0.0</td>\n",
       "      <td>0.0</td>\n",
       "      <td>29969.0</td>\n",
       "      <td>0.395521</td>\n",
       "      <td>67.680146</td>\n",
       "      <td>7.223952e+06</td>\n",
       "      <td>...</td>\n",
       "      <td>0.0</td>\n",
       "      <td>0.0</td>\n",
       "      <td>[6.6, 6.1, 7.3]</td>\n",
       "      <td>6.90</td>\n",
       "      <td>7.6</td>\n",
       "      <td>4.0</td>\n",
       "      <td>0.0</td>\n",
       "      <td>0.0</td>\n",
       "      <td>Mindanao</td>\n",
       "      <td>A</td>\n",
       "    </tr>\n",
       "    <tr>\n",
       "      <th>1644</th>\n",
       "      <td>Zamboanga Sibugay</td>\n",
       "      <td>Olutanga</td>\n",
       "      <td>MULTIPOLYGON (((122.85804749 7.27652979, 122.8...</td>\n",
       "      <td>2.0</td>\n",
       "      <td>0.0</td>\n",
       "      <td>0.0</td>\n",
       "      <td>33671.0</td>\n",
       "      <td>0.820690</td>\n",
       "      <td>93.391956</td>\n",
       "      <td>5.978291e+06</td>\n",
       "      <td>...</td>\n",
       "      <td>0.0</td>\n",
       "      <td>0.0</td>\n",
       "      <td>[6.6, 6.1, 7.3]</td>\n",
       "      <td>6.90</td>\n",
       "      <td>7.6</td>\n",
       "      <td>4.0</td>\n",
       "      <td>0.0</td>\n",
       "      <td>0.0</td>\n",
       "      <td>Mindanao</td>\n",
       "      <td>A</td>\n",
       "    </tr>\n",
       "    <tr>\n",
       "      <th>1645</th>\n",
       "      <td>Zamboanga Sibugay</td>\n",
       "      <td>Payao</td>\n",
       "      <td>MULTIPOLYGON (((122.69194794 7.46228981, 122.6...</td>\n",
       "      <td>8.0</td>\n",
       "      <td>0.0</td>\n",
       "      <td>0.0</td>\n",
       "      <td>31686.0</td>\n",
       "      <td>1.209460</td>\n",
       "      <td>97.101100</td>\n",
       "      <td>1.979630e+06</td>\n",
       "      <td>...</td>\n",
       "      <td>0.0</td>\n",
       "      <td>0.0</td>\n",
       "      <td>[6.1, 7.3]</td>\n",
       "      <td>7.00</td>\n",
       "      <td>7.6</td>\n",
       "      <td>3.0</td>\n",
       "      <td>0.0</td>\n",
       "      <td>0.0</td>\n",
       "      <td>Mindanao</td>\n",
       "      <td>A</td>\n",
       "    </tr>\n",
       "    <tr>\n",
       "      <th>1646</th>\n",
       "      <td>Zamboanga Sibugay</td>\n",
       "      <td>Siay</td>\n",
       "      <td>MULTIPOLYGON (((122.81555176 7.728055, 122.815...</td>\n",
       "      <td>2.0</td>\n",
       "      <td>0.0</td>\n",
       "      <td>0.0</td>\n",
       "      <td>41572.0</td>\n",
       "      <td>2.042040</td>\n",
       "      <td>124.253050</td>\n",
       "      <td>2.717797e+06</td>\n",
       "      <td>...</td>\n",
       "      <td>0.0</td>\n",
       "      <td>0.0</td>\n",
       "      <td>[6.1, 7.3]</td>\n",
       "      <td>7.00</td>\n",
       "      <td>7.6</td>\n",
       "      <td>3.0</td>\n",
       "      <td>0.0</td>\n",
       "      <td>0.0</td>\n",
       "      <td>Mindanao</td>\n",
       "      <td>A</td>\n",
       "    </tr>\n",
       "  </tbody>\n",
       "</table>\n",
       "<p>1647 rows × 106 columns</p>\n",
       "</div>"
      ],
      "text/plain": [
       "               province municipality  \\\n",
       "0                  Abra      Bangued   \n",
       "1                  Abra      Boliney   \n",
       "2                  Abra        Bucay   \n",
       "3                  Abra       Bucloc   \n",
       "4                  Abra    Daguioman   \n",
       "...                 ...          ...   \n",
       "1642  Zamboanga Sibugay         Naga   \n",
       "1643  Zamboanga Sibugay      Talusan   \n",
       "1644  Zamboanga Sibugay     Olutanga   \n",
       "1645  Zamboanga Sibugay        Payao   \n",
       "1646  Zamboanga Sibugay         Siay   \n",
       "\n",
       "                                                   geom  amenity_counts  \\\n",
       "0     MULTIPOLYGON (((120.62709808 17.49300003, 120....            44.0   \n",
       "1     MULTIPOLYGON (((120.99041748 17.39801979, 120....             9.0   \n",
       "2     MULTIPOLYGON (((120.70787811 17.45395088, 120....             3.0   \n",
       "3     MULTIPOLYGON (((120.78955841 17.41699028, 120....             6.0   \n",
       "4     MULTIPOLYGON (((120.9291687 17.41307068, 120.9...            10.0   \n",
       "...                                                 ...             ...   \n",
       "1642  MULTIPOLYGON (((122.77500153 7.76833296, 122.7...             2.0   \n",
       "1643  MULTIPOLYGON (((122.91916656 7.34111023, 122.9...             1.0   \n",
       "1644  MULTIPOLYGON (((122.85804749 7.27652979, 122.8...             2.0   \n",
       "1645  MULTIPOLYGON (((122.69194794 7.46228981, 122.6...             8.0   \n",
       "1646  MULTIPOLYGON (((122.81555176 7.728055, 122.815...             2.0   \n",
       "\n",
       "      school_count  hospital_count      pop  tot_tax_revenue  \\\n",
       "0              2.0             0.0  48163.0        36.556294   \n",
       "1              0.0             0.0   3573.0         0.035633   \n",
       "2              0.0             0.0  17115.0         1.019565   \n",
       "3              0.0             0.0   2501.0         0.129150   \n",
       "4              0.0             0.0   2088.0         0.277660   \n",
       "...            ...             ...      ...              ...   \n",
       "1642           0.0             0.0  38547.0         1.971273   \n",
       "1643           0.0             0.0  29969.0         0.395521   \n",
       "1644           0.0             0.0  33671.0         0.820690   \n",
       "1645           0.0             0.0  31686.0         1.209460   \n",
       "1646           0.0             0.0  41572.0         2.042040   \n",
       "\n",
       "      tot_current_oper_income   pop_density  ... major_2020 major_2021  \\\n",
       "0                  230.577076  4.575788e+06  ...        0.0        0.0   \n",
       "1                   56.689883  2.300790e+05  ...        0.0        0.0   \n",
       "2                   93.647242  1.926863e+06  ...        0.0        0.0   \n",
       "3                   44.789104  5.735264e+05  ...        0.0        0.0   \n",
       "4                   51.242322  2.523502e+05  ...        0.0        0.0   \n",
       "...                       ...           ...  ...        ...        ...   \n",
       "1642               111.794689  2.861438e+06  ...        0.0        0.0   \n",
       "1643                67.680146  7.223952e+06  ...        0.0        0.0   \n",
       "1644                93.391956  5.978291e+06  ...        0.0        0.0   \n",
       "1645                97.101100  1.979630e+06  ...        0.0        0.0   \n",
       "1646               124.253050  2.717797e+06  ...        0.0        0.0   \n",
       "\n",
       "         upper_90_mag mean_mag_all  max_mag_all  eq_count_since_2010  \\\n",
       "0               [5.5]         5.50          5.5                  1.0   \n",
       "1                 [0]         0.00          0.0                  1.0   \n",
       "2               [4.6]         4.95          5.3                  2.0   \n",
       "3                 [0]         0.00          0.0                  1.0   \n",
       "4                 [0]         0.00          0.0                  1.0   \n",
       "...               ...          ...          ...                  ...   \n",
       "1642       [6.1, 7.3]         7.00          7.6                  3.0   \n",
       "1643  [6.6, 6.1, 7.3]         6.90          7.6                  4.0   \n",
       "1644  [6.6, 6.1, 7.3]         6.90          7.6                  4.0   \n",
       "1645       [6.1, 7.3]         7.00          7.6                  3.0   \n",
       "1646       [6.1, 7.3]         7.00          7.6                  3.0   \n",
       "\n",
       "      cluster_label  cluster_label2    island  cluster_label3  \n",
       "0               0.0             2.0     Luzon               C  \n",
       "1               0.0             2.0     Luzon               C  \n",
       "2               0.0             2.0     Luzon               C  \n",
       "3               0.0             2.0     Luzon               C  \n",
       "4               0.0             2.0     Luzon               C  \n",
       "...             ...             ...       ...             ...  \n",
       "1642            0.0             0.0  Mindanao               A  \n",
       "1643            0.0             0.0  Mindanao               A  \n",
       "1644            0.0             0.0  Mindanao               A  \n",
       "1645            0.0             0.0  Mindanao               A  \n",
       "1646            0.0             0.0  Mindanao               A  \n",
       "\n",
       "[1647 rows x 106 columns]"
      ]
     },
     "execution_count": 12,
     "metadata": {},
     "output_type": "execute_result"
    }
   ],
   "source": [
    "change_val = {0.0: 'A', 1.0: 'B', 2.0: 'C', 3.0: 'D'}\n",
    "data['cluster_label3'] = data['cluster_label2'].map(change_val)\n",
    "data"
   ]
  },
  {
   "cell_type": "code",
   "execution_count": 13,
   "id": "1ffe1b65",
   "metadata": {
    "ExecuteTime": {
     "end_time": "2021-12-13T06:54:47.219090Z",
     "start_time": "2021-12-13T06:54:47.210726Z"
    }
   },
   "outputs": [
    {
     "name": "stdout",
     "output_type": "stream",
     "text": [
      "['#35193e', '#701f57', '#ad1759', '#e13342', '#f37651', '#f6b48f']\n"
     ]
    }
   ],
   "source": [
    "print(sns.color_palette(\"rocket\").as_hex())"
   ]
  },
  {
   "cell_type": "code",
   "execution_count": 14,
   "id": "99ce5d12",
   "metadata": {
    "ExecuteTime": {
     "end_time": "2021-12-13T06:54:47.479154Z",
     "start_time": "2021-12-13T06:54:47.471232Z"
    }
   },
   "outputs": [
    {
     "data": {
      "text/html": [
       "<svg  width=\"330\" height=\"55\"><rect x=\"0\" y=\"0\" width=\"55\" height=\"55\" style=\"fill:#35193e;stroke-width:2;stroke:rgb(255,255,255)\"/><rect x=\"55\" y=\"0\" width=\"55\" height=\"55\" style=\"fill:#701f57;stroke-width:2;stroke:rgb(255,255,255)\"/><rect x=\"110\" y=\"0\" width=\"55\" height=\"55\" style=\"fill:#ad1759;stroke-width:2;stroke:rgb(255,255,255)\"/><rect x=\"165\" y=\"0\" width=\"55\" height=\"55\" style=\"fill:#e13342;stroke-width:2;stroke:rgb(255,255,255)\"/><rect x=\"220\" y=\"0\" width=\"55\" height=\"55\" style=\"fill:#f37651;stroke-width:2;stroke:rgb(255,255,255)\"/><rect x=\"275\" y=\"0\" width=\"55\" height=\"55\" style=\"fill:#f6b48f;stroke-width:2;stroke:rgb(255,255,255)\"/></svg>"
      ],
      "text/plain": [
       "['#35193e', '#701f57', '#ad1759', '#e13342', '#f37651', '#f6b48f']"
      ]
     },
     "execution_count": 14,
     "metadata": {},
     "output_type": "execute_result"
    }
   ],
   "source": [
    "(sns.color_palette(\"rocket\").as_hex())"
   ]
  },
  {
   "cell_type": "code",
   "execution_count": 52,
   "id": "0bae07fd",
   "metadata": {
    "ExecuteTime": {
     "end_time": "2021-12-13T07:56:40.417413Z",
     "start_time": "2021-12-13T07:56:40.175473Z"
    },
    "scrolled": false
   },
   "outputs": [
    {
     "data": {
      "image/png": "[encoded data removed]",
      "text/plain": [
       "<Figure size 360x360 with 1 Axes>"
      ]
     },
     "metadata": {},
     "output_type": "display_data"
    }
   ],
   "source": [
    "# Plot mean magnitude\n",
    "\n",
    "fig, ax = plt.subplots(figsize=(5,5))\n",
    "sns.set_style('whitegrid')\n",
    "fig = sns.boxplot(data=data, x='cluster_label3', y='mean_mag_all',\n",
    "            linewidth=1, palette='rocket',\n",
    "            order=['A', 'B', 'C', 'D'], ax=ax, showfliers = False)\n",
    "fig.set_ylim([3,8])\n",
    "fig.set_ylabel('', fontsize=14)\n",
    "fig.set_xlabel('Cluster Label', fontsize=14)\n",
    "fig.set_title('Mean Magnitude of all Earthquakes', fontsize=14)\n",
    "fig.tick_params(labelsize=11);\n",
    "plt.savefig('boxplot_mag.png')"
   ]
  },
  {
   "cell_type": "code",
   "execution_count": 53,
   "id": "2c3e96ff",
   "metadata": {
    "ExecuteTime": {
     "end_time": "2021-12-13T07:58:36.894742Z",
     "start_time": "2021-12-13T07:58:36.647546Z"
    }
   },
   "outputs": [
    {
     "data": {
      "image/png": "[encoded data removed]",
      "text/plain": [
       "<Figure size 360x360 with 1 Axes>"
      ]
     },
     "metadata": {},
     "output_type": "display_data"
    }
   ],
   "source": [
    "# fig, ax = plt.subplots(figsize=(6,6))\n",
    "\n",
    "# # sns.set(font_scale = 1)\n",
    "# sns.set_style('whitegrid')\n",
    "# # color_map = {'A': '#35193e', 'B': '#701f57', 'C': '#f37651', 'D': '#f6b48f'}\n",
    "# sns.boxplot(data=data, x='cluster_label3', y='eq_count_since_2010',\n",
    "#             linewidth=1, palette='rocket',\n",
    "#             order=['A', 'B', 'C', 'D'], ax=ax)\n",
    "# # plt.ylim([3,8])\n",
    "# plt.xlabel('Cluster Name')\n",
    "# plt.ylabel('Total Number of Earthquakes (2010-2021)');\n",
    "\n",
    "# Plot mean magnitude\n",
    "\n",
    "# fig, ax = plt.subplots(figsize=(5,5))\n",
    "# sns.set_style('whitegrid')\n",
    "# fig = sns.boxplot(data=data, x='cluster_label3', y='eq_count_since_2010',\n",
    "#             linewidth=1, palette='rocket',\n",
    "#             order=['A', 'B', 'C', 'D'], ax=ax, showfliers = False)\n",
    "# # fig.set_ylim([3,8])\n",
    "# fig.set_xlabel('Cluster Name', fontsize=14)\n",
    "# fig.set_ylabel('Total Number of Earthquakes', fontsize=14)\n",
    "# fig.tick_params(labelsize=11);\n",
    "# plt.savefig('boxplot_eqcount.png')\n",
    "\n",
    "\n",
    "fig, ax = plt.subplots(figsize=(5,5))\n",
    "sns.set_style('whitegrid')\n",
    "fig = sns.boxplot(data=data, x='cluster_label3', y='eq_count_since_2010',\n",
    "            linewidth=1, palette='rocket',\n",
    "            order=['A', 'B', 'C', 'D'], ax=ax, showfliers = False)\n",
    "# fig.set_ylim([3,8])\n",
    "fig.set_ylabel('', fontsize=14)\n",
    "fig.set_xlabel('Cluster Label', fontsize=14)\n",
    "fig.set_title('Total Number of Earthquakes', fontsize=14)\n",
    "fig.tick_params(labelsize=11);\n",
    "plt.savefig('boxplot_eqcount.png')"
   ]
  },
  {
   "cell_type": "code",
   "execution_count": 54,
   "id": "eb642ae3",
   "metadata": {
    "ExecuteTime": {
     "end_time": "2021-12-13T07:59:49.287523Z",
     "start_time": "2021-12-13T07:59:49.029283Z"
    }
   },
   "outputs": [
    {
     "data": {
      "image/png": "[encoded data removed]",
      "text/plain": [
       "<Figure size 360x360 with 1 Axes>"
      ]
     },
     "metadata": {},
     "output_type": "display_data"
    }
   ],
   "source": [
    "# fig, ax = plt.subplots(figsize=(6,6))\n",
    "\n",
    "# # sns.set(font_scale = 1)\n",
    "# sns.set_style('whitegrid')\n",
    "# # color_map = {'A': '#35193e', 'B': '#701f57', 'C': '#f37651', 'D': '#f6b48f'}\n",
    "# sns.boxplot(data=data, x='cluster_label3', y='amenity_counts',\n",
    "#             linewidth=1, palette='rocket',\n",
    "#             order=['A', 'B', 'C', 'D'], ax=ax, showfliers = False)\n",
    "# plt.ylim([0,300])\n",
    "# plt.xlabel('Cluster Name')\n",
    "# plt.ylabel('Total Number of Amenities');\n",
    "\n",
    "# fig, ax = plt.subplots(figsize=(5,5))\n",
    "# sns.set_style('whitegrid')\n",
    "# fig = sns.boxplot(data=data, x='cluster_label3', y='amenity_counts',\n",
    "#             linewidth=1, palette='rocket',\n",
    "#             order=['A', 'B', 'C', 'D'], ax=ax, showfliers = False)\n",
    "# # fig.set_ylim([3,8])\n",
    "# fig.set_xlabel('Cluster Name', fontsize=14)\n",
    "# fig.set_ylabel('Total Number of Amenities', fontsize=14)\n",
    "# fig.tick_params(labelsize=11);\n",
    "# plt.savefig('boxplot_amenity.png')\n",
    "\n",
    "\n",
    "fig, ax = plt.subplots(figsize=(5,5))\n",
    "sns.set_style('whitegrid')\n",
    "fig = sns.boxplot(data=data, x='cluster_label3', y='amenity_counts',\n",
    "            linewidth=1, palette='rocket',\n",
    "            order=['A', 'B', 'C', 'D'], ax=ax, showfliers = False)\n",
    "# fig.set_ylim([3,8])\n",
    "fig.set_ylabel('', fontsize=14)\n",
    "fig.set_xlabel('Cluster Label', fontsize=14)\n",
    "fig.set_title('Total Number of Amenities', fontsize=14)\n",
    "fig.tick_params(labelsize=11);\n",
    "plt.savefig('boxplot_amenity.png')"
   ]
  },
  {
   "cell_type": "code",
   "execution_count": 55,
   "id": "d03bdbd3",
   "metadata": {
    "ExecuteTime": {
     "end_time": "2021-12-13T08:00:58.101508Z",
     "start_time": "2021-12-13T08:00:57.848213Z"
    }
   },
   "outputs": [
    {
     "data": {
      "image/png": "[encoded data removed]",
      "text/plain": [
       "<Figure size 360x360 with 1 Axes>"
      ]
     },
     "metadata": {},
     "output_type": "display_data"
    }
   ],
   "source": [
    "# fig, ax = plt.subplots(figsize=(6,6))\n",
    "\n",
    "# # sns.set(font_scale = 1)\n",
    "# sns.set_style('whitegrid')\n",
    "# # color_map = {'A': '#35193e', 'B': '#701f57', 'C': '#f37651', 'D': '#f6b48f'}\n",
    "# sns.boxplot(data=data, x='cluster_label3', y='pop_density',\n",
    "#             linewidth=1, palette='rocket',\n",
    "#             order=['A', 'B', 'C', 'D'], ax=ax, showfliers = False)\n",
    "# # plt.ylim([0,300])\n",
    "# plt.xlabel('Cluster Name')\n",
    "# plt.ylabel('Population Density (per unit area)');\n",
    "\n",
    "# fig, ax = plt.subplots(figsize=(5,5))\n",
    "# sns.set_style('whitegrid')\n",
    "# fig = sns.boxplot(data=data, x='cluster_label3', y='pop_density',\n",
    "#             linewidth=1, palette='rocket',\n",
    "#             order=['A', 'B', 'C', 'D'], ax=ax, showfliers = False)\n",
    "# # fig.set_ylim([3,8])\n",
    "# fig.set_xlabel('Cluster Name', fontsize=14)\n",
    "# fig.set_ylabel('Population Density (per unit area)', fontsize=14)\n",
    "# fig.tick_params(labelsize=11);\n",
    "# plt.savefig('boxplot_pop.png')\n",
    "\n",
    "\n",
    "fig, ax = plt.subplots(figsize=(5,5))\n",
    "sns.set_style('whitegrid')\n",
    "fig = sns.boxplot(data=data, x='cluster_label3', y='pop_density',\n",
    "            linewidth=1, palette='rocket',\n",
    "            order=['A', 'B', 'C', 'D'], ax=ax, showfliers = False)\n",
    "# fig.set_ylim([3,8])\n",
    "fig.set_ylabel('', fontsize=14)\n",
    "fig.set_xlabel('Cluster Label', fontsize=14)\n",
    "fig.set_title('Population Density (per unit area)', fontsize=14)\n",
    "fig.tick_params(labelsize=11);\n",
    "plt.savefig('boxplot_pop.png')"
   ]
  },
  {
   "cell_type": "code",
   "execution_count": 56,
   "id": "177b60a7",
   "metadata": {
    "ExecuteTime": {
     "end_time": "2021-12-13T08:02:13.694201Z",
     "start_time": "2021-12-13T08:02:13.460574Z"
    }
   },
   "outputs": [
    {
     "data": {
      "image/png": "[encoded data removed]",
      "text/plain": [
       "<Figure size 360x360 with 1 Axes>"
      ]
     },
     "metadata": {},
     "output_type": "display_data"
    }
   ],
   "source": [
    "# fig, ax = plt.subplots(figsize=(5,5))\n",
    "# sns.set_style('whitegrid')\n",
    "# fig = sns.boxplot(data=data, x='cluster_label3', y='tot_tax_revenue',\n",
    "#             linewidth=1, palette='rocket',\n",
    "#             order=['A', 'B', 'C', 'D'], ax=ax, showfliers = False)\n",
    "# # fig.set_ylim([3,8])\n",
    "# fig.set_xlabel('Cluster Name', fontsize=14)\n",
    "# fig.set_ylabel('Total Tax Revenue', fontsize=14)\n",
    "# fig.tick_params(labelsize=11);\n",
    "# plt.savefig('boxplot_tax.png')\n",
    "\n",
    "\n",
    "fig, ax = plt.subplots(figsize=(5,5))\n",
    "sns.set_style('whitegrid')\n",
    "fig = sns.boxplot(data=data, x='cluster_label3', y='tot_tax_revenue',\n",
    "            linewidth=1, palette='rocket',\n",
    "            order=['A', 'B', 'C', 'D'], ax=ax, showfliers = False)\n",
    "# fig.set_ylim([3,8])\n",
    "fig.set_ylabel('', fontsize=14)\n",
    "fig.set_xlabel('Cluster Label', fontsize=14)\n",
    "fig.set_title('Total Tax Revenue', fontsize=14)\n",
    "fig.tick_params(labelsize=11);\n",
    "plt.savefig('boxplot_tax.png')"
   ]
  },
  {
   "cell_type": "code",
   "execution_count": 57,
   "id": "ef41c180",
   "metadata": {
    "ExecuteTime": {
     "end_time": "2021-12-13T08:03:24.603246Z",
     "start_time": "2021-12-13T08:03:24.346814Z"
    }
   },
   "outputs": [
    {
     "data": {
      "image/png": "[encoded data removed]",
      "text/plain": [
       "<Figure size 360x360 with 1 Axes>"
      ]
     },
     "metadata": {},
     "output_type": "display_data"
    }
   ],
   "source": [
    "# fig, ax = plt.subplots(figsize=(5,5))\n",
    "# sns.set_style('whitegrid')\n",
    "# fig = sns.boxplot(data=data, x='cluster_label3', y='max_mag_all',\n",
    "#             linewidth=1, palette='rocket',\n",
    "#             order=['A', 'B', 'C', 'D'], ax=ax, showfliers = False)\n",
    "# # fig.set_ylim([3,8])\n",
    "# fig.set_xlabel('Cluster Name', fontsize=14)\n",
    "# fig.set_ylabel('Maximum Magnitude Experienced', fontsize=14)\n",
    "# fig.tick_params(labelsize=11);\n",
    "# plt.savefig('boxplot_maxmag.png')\n",
    "\n",
    "\n",
    "fig, ax = plt.subplots(figsize=(5,5))\n",
    "sns.set_style('whitegrid')\n",
    "fig = sns.boxplot(data=data, x='cluster_label3', y='max_mag_all',\n",
    "            linewidth=1, palette='rocket',\n",
    "            order=['A', 'B', 'C', 'D'], ax=ax, showfliers = False)\n",
    "# fig.set_ylim([3,8])\n",
    "fig.set_ylabel('', fontsize=14)\n",
    "fig.set_xlabel('Cluster Label', fontsize=14)\n",
    "fig.set_title('Maximum Magnitude Experienced', fontsize=14)\n",
    "fig.tick_params(labelsize=11);\n",
    "plt.savefig('boxplot_maxmag.png')"
   ]
  },
  {
   "cell_type": "code",
   "execution_count": null,
   "id": "231bf4db",
   "metadata": {
    "ExecuteTime": {
     "end_time": "2021-12-13T06:45:47.509711Z",
     "start_time": "2021-12-13T06:45:47.498153Z"
    }
   },
   "outputs": [],
   "source": [
    "data.amenity_counts.value_counts()"
   ]
  },
  {
   "cell_type": "code",
   "execution_count": null,
   "id": "052ce00a",
   "metadata": {
    "ExecuteTime": {
     "end_time": "2021-12-08T16:15:56.946729Z",
     "start_time": "2021-12-08T16:15:56.941706Z"
    }
   },
   "outputs": [],
   "source": [
    "def boxplot(df):\n",
    "    \"\"\"Return boxplots of features in the `df` per `decade`.\"\"\"\n",
    "\n",
    "    fig, ax = plt.subplots(4, 3, figsize=(15, 15))\n",
    "    ax = ax.flatten()\n",
    "\n",
    "    for i in range(10):\n",
    "        sns.boxplot(data=df, x='cluster_label2', y=features[i], linewidth=1, ax=ax[i])\n",
    "        ax[i].set(title=features[i], xlabel='cluster', \n",
    "                     ylabel='')\n",
    "    plt.tight_layout()\n",
    "    plt.show()"
   ]
  },
  {
   "cell_type": "code",
   "execution_count": null,
   "id": "7b7cba3d",
   "metadata": {
    "ExecuteTime": {
     "end_time": "2021-12-13T06:42:35.180915Z",
     "start_time": "2021-12-13T06:42:35.174031Z"
    }
   },
   "outputs": [],
   "source": [
    "data.columns"
   ]
  },
  {
   "cell_type": "code",
   "execution_count": null,
   "id": "9b68606f",
   "metadata": {
    "ExecuteTime": {
     "end_time": "2021-12-08T16:15:57.141787Z",
     "start_time": "2021-12-08T16:15:57.134925Z"
    }
   },
   "outputs": [],
   "source": [
    "data.cluster_label2.value_counts()"
   ]
  },
  {
   "cell_type": "code",
   "execution_count": null,
   "id": "c6ad0f80",
   "metadata": {
    "ExecuteTime": {
     "end_time": "2021-12-08T16:15:57.358226Z",
     "start_time": "2021-12-08T16:15:57.352979Z"
    }
   },
   "outputs": [],
   "source": [
    "data.cluster_label2.unique()"
   ]
  },
  {
   "cell_type": "code",
   "execution_count": 37,
   "id": "83d6d190",
   "metadata": {
    "ExecuteTime": {
     "end_time": "2021-12-13T07:17:12.301695Z",
     "start_time": "2021-12-13T07:17:12.294027Z"
    }
   },
   "outputs": [
    {
     "data": {
      "text/plain": [
       "Index(['province', 'municipality', 'geom', 'amenity_counts', 'school_count',\n",
       "       'hospital_count', 'pop', 'tot_tax_revenue', 'tot_current_oper_income',\n",
       "       'pop_density',\n",
       "       ...\n",
       "       'major_2020', 'major_2021', 'upper_90_mag', 'mean_mag_all',\n",
       "       'max_mag_all', 'eq_count_since_2010', 'cluster_label', 'cluster_label2',\n",
       "       'island', 'cluster_label3'],\n",
       "      dtype='object', length=106)"
      ]
     },
     "execution_count": 37,
     "metadata": {},
     "output_type": "execute_result"
    }
   ],
   "source": [
    "data.columns"
   ]
  },
  {
   "cell_type": "code",
   "execution_count": null,
   "id": "2b1598d5",
   "metadata": {
    "ExecuteTime": {
     "end_time": "2021-12-08T16:15:57.765189Z",
     "start_time": "2021-12-08T16:15:57.758466Z"
    }
   },
   "outputs": [],
   "source": [
    "data[data.cluster_label2 == 1]['province'].unique()"
   ]
  },
  {
   "cell_type": "code",
   "execution_count": null,
   "id": "9c82cf13",
   "metadata": {
    "ExecuteTime": {
     "end_time": "2021-12-08T16:15:57.981892Z",
     "start_time": "2021-12-08T16:15:57.974830Z"
    }
   },
   "outputs": [],
   "source": [
    "data[data.cluster_label2 == 3]['province'].unique()"
   ]
  },
  {
   "cell_type": "code",
   "execution_count": null,
   "id": "6bc7a064",
   "metadata": {
    "ExecuteTime": {
     "end_time": "2021-12-08T16:15:58.200520Z",
     "start_time": "2021-12-08T16:15:58.192050Z"
    }
   },
   "outputs": [],
   "source": [
    "data[data.cluster_label2 == 2]['province'].unique()"
   ]
  },
  {
   "cell_type": "code",
   "execution_count": null,
   "id": "bb2c22f0",
   "metadata": {
    "ExecuteTime": {
     "end_time": "2021-12-08T16:15:58.389961Z",
     "start_time": "2021-12-08T16:15:58.382987Z"
    }
   },
   "outputs": [],
   "source": [
    "data[data.cluster_label2 == 0]['province'].unique()"
   ]
  },
  {
   "cell_type": "code",
   "execution_count": null,
   "id": "971f58e2",
   "metadata": {
    "ExecuteTime": {
     "end_time": "2021-12-08T16:16:00.957149Z",
     "start_time": "2021-12-08T16:15:58.596465Z"
    },
    "scrolled": false
   },
   "outputs": [],
   "source": [
    "boxplot(data)"
   ]
  },
  {
   "cell_type": "code",
   "execution_count": null,
   "id": "32ba4e65",
   "metadata": {
    "ExecuteTime": {
     "end_time": "2021-12-08T16:16:00.989785Z",
     "start_time": "2021-12-08T16:16:00.959669Z"
    }
   },
   "outputs": [],
   "source": [
    "clustered = data.groupby('cluster_label2').mean().reset_index(0)\n",
    "clustered"
   ]
  },
  {
   "cell_type": "code",
   "execution_count": null,
   "id": "c3dddaeb",
   "metadata": {
    "ExecuteTime": {
     "end_time": "2021-12-08T16:16:00.995659Z",
     "start_time": "2021-12-08T16:16:00.991162Z"
    }
   },
   "outputs": [],
   "source": [
    "clustered.columns"
   ]
  },
  {
   "cell_type": "code",
   "execution_count": null,
   "id": "9b315503",
   "metadata": {
    "ExecuteTime": {
     "end_time": "2021-12-08T16:16:01.001760Z",
     "start_time": "2021-12-08T16:16:00.997832Z"
    }
   },
   "outputs": [],
   "source": [
    "clustered = clustered[['cluster_label2', 'amenity_counts', 'school_count',\n",
    "                       'hospital_count', 'pop_density', 'tot_tax_revenue',\n",
    "                       'tot_current_oper_income',\n",
    "                       'mean_mag_all', 'max_mag_all', 'eq_count_since_2010']]"
   ]
  },
  {
   "cell_type": "code",
   "execution_count": null,
   "id": "abcb5fc6",
   "metadata": {
    "ExecuteTime": {
     "end_time": "2021-12-08T16:16:01.018104Z",
     "start_time": "2021-12-08T16:16:01.003269Z"
    }
   },
   "outputs": [],
   "source": [
    "import pandas as pd\n",
    "from sklearn import preprocessing\n",
    "\n",
    "x = clustered.values #returns a numpy array\n",
    "min_max_scaler = preprocessing.MinMaxScaler()\n",
    "x_scaled = min_max_scaler.fit_transform(x)\n",
    "df = pd.DataFrame(x_scaled)\n",
    "df"
   ]
  },
  {
   "cell_type": "code",
   "execution_count": null,
   "id": "b7d19493",
   "metadata": {
    "ExecuteTime": {
     "end_time": "2021-12-08T16:16:01.022048Z",
     "start_time": "2021-12-08T16:16:01.019661Z"
    }
   },
   "outputs": [],
   "source": [
    "df.columns = clustered.columns"
   ]
  },
  {
   "cell_type": "code",
   "execution_count": null,
   "id": "c30a197b",
   "metadata": {
    "ExecuteTime": {
     "end_time": "2021-12-08T16:16:01.036652Z",
     "start_time": "2021-12-08T16:16:01.023456Z"
    }
   },
   "outputs": [],
   "source": [
    "df"
   ]
  },
  {
   "cell_type": "code",
   "execution_count": null,
   "id": "95fa90bc",
   "metadata": {
    "ExecuteTime": {
     "end_time": "2021-12-08T16:16:01.043450Z",
     "start_time": "2021-12-08T16:16:01.038096Z"
    }
   },
   "outputs": [],
   "source": [
    "bar_plot = pd.melt(df, id_vars='cluster_label2', var_name='features', value_name='value')"
   ]
  },
  {
   "cell_type": "code",
   "execution_count": null,
   "id": "48535c3f",
   "metadata": {
    "ExecuteTime": {
     "end_time": "2021-12-08T16:16:01.279971Z",
     "start_time": "2021-12-08T16:16:01.268229Z"
    }
   },
   "outputs": [],
   "source": [
    "bar_plot"
   ]
  },
  {
   "cell_type": "code",
   "execution_count": null,
   "id": "dc4454ba",
   "metadata": {
    "ExecuteTime": {
     "end_time": "2021-12-08T16:16:02.889992Z",
     "start_time": "2021-12-08T16:16:02.315301Z"
    }
   },
   "outputs": [],
   "source": [
    "# plt.rcParams['figure.figsize']=(20, 15)\n",
    "\n",
    "g = sns.catplot(x='cluster_label2', y='value', hue='features', data=bar_plot,\n",
    "            kind='bar')\n",
    "g.fig.set_size_inches(8,8)"
   ]
  },
  {
   "cell_type": "code",
   "execution_count": null,
   "id": "c436d7d6",
   "metadata": {},
   "outputs": [],
   "source": []
  },
  {
   "cell_type": "code",
   "execution_count": null,
   "id": "dec777a1",
   "metadata": {},
   "outputs": [],
   "source": []
  }
 ],
 "metadata": {
  "kernelspec": {
   "display_name": "Python 3 (ipykernel)",
   "language": "python",
   "name": "python3"
  },
  "language_info": {
   "codemirror_mode": {
    "name": "ipython",
    "version": 3
   },
   "file_extension": ".py",
   "mimetype": "text/x-python",
   "name": "python",
   "nbconvert_exporter": "python",
   "pygments_lexer": "ipython3",
   "version": "3.9.13"
  },
  "toc": {
   "base_numbering": 1,
   "nav_menu": {},
   "number_sections": false,
   "sideBar": true,
   "skip_h1_title": false,
   "title_cell": "Table of Contents",
   "title_sidebar": "Contents",
   "toc_cell": false,
   "toc_position": {},
   "toc_section_display": true,
   "toc_window_display": false
  }
 },
 "nbformat": 4,
 "nbformat_minor": 5
}
