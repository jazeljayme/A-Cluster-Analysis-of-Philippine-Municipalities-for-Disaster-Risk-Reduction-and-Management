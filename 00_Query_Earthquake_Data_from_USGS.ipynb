{
 "cells": [
  {
   "cell_type": "code",
   "execution_count": 1,
   "id": "667959a3",
   "metadata": {
    "ExecuteTime": {
     "end_time": "2021-12-05T19:37:06.953166Z",
     "start_time": "2021-12-05T19:37:06.048537Z"
    }
   },
   "outputs": [],
   "source": [
    "import requests\n",
    "import json\n",
    "import bs4\n",
    "import pandas as pd\n",
    "import datetime\n",
    "import sqlite3\n",
    "import ast\n",
    "import warnings\n",
    "\n",
    "from geopy.geocoders import Nominatim\n",
    "from datetime import datetime\n",
    "\n",
    "warnings.filterwarnings('ignore')"
   ]
  },
  {
   "cell_type": "code",
   "execution_count": 2,
   "id": "92292597",
   "metadata": {
    "ExecuteTime": {
     "end_time": "2021-12-05T19:37:10.088691Z",
     "start_time": "2021-12-05T19:37:06.955652Z"
    }
   },
   "outputs": [
    {
     "name": "stdout",
     "output_type": "stream",
     "text": [
      "Success! API status code:  200\n"
     ]
    }
   ],
   "source": [
    "# Get Philippine earthquake data from 2010 to present\n",
    "# Get only earthquake with magnitude 4 to 10\n",
    "\n",
    "baseurl = 'https://earthquake.usgs.gov/fdsnws/event/1/query?'\n",
    "params = {'format': 'geojson',\n",
    "          'starttime': \"2010-01-01\",\n",
    "          'endtime': '2021-11-30',\n",
    "          'minmagnitude': '4',\n",
    "          'maxmagnitude': '10',\n",
    "          'minlatitude': '5',\n",
    "          'maxlatitude': '20',\n",
    "          'minlongitude': '115',\n",
    "          'maxlongitude': '130',\n",
    "          'orderby': 'time',\n",
    "          'limit': '20000',\n",
    "          'eventtype': 'earthquake'\n",
    "         }\n",
    "res = requests.get(baseurl, params=params)\n",
    "if res.status_code == 200:\n",
    "    print(\"Success! API status code: \", res.status_code)\n",
    "else:\n",
    "    print(\"An error occurred.\")\n",
    "    \n",
    "data = res.json()"
   ]
  },
  {
   "cell_type": "code",
   "execution_count": 3,
   "id": "f27c10fa",
   "metadata": {
    "ExecuteTime": {
     "end_time": "2021-12-05T19:37:10.724248Z",
     "start_time": "2021-12-05T19:37:10.090956Z"
    }
   },
   "outputs": [
    {
     "data": {
      "text/html": [
       "<div>\n",
       "<style scoped>\n",
       "    .dataframe tbody tr th:only-of-type {\n",
       "        vertical-align: middle;\n",
       "    }\n",
       "\n",
       "    .dataframe tbody tr th {\n",
       "        vertical-align: top;\n",
       "    }\n",
       "\n",
       "    .dataframe thead th {\n",
       "        text-align: right;\n",
       "    }\n",
       "</style>\n",
       "<table border=\"1\" class=\"dataframe\">\n",
       "  <thead>\n",
       "    <tr style=\"text-align: right;\">\n",
       "      <th></th>\n",
       "      <th>data_type</th>\n",
       "      <th>id</th>\n",
       "      <th>mag</th>\n",
       "      <th>place</th>\n",
       "      <th>time</th>\n",
       "      <th>updated</th>\n",
       "      <th>tz</th>\n",
       "      <th>url</th>\n",
       "      <th>detail</th>\n",
       "      <th>felt</th>\n",
       "      <th>...</th>\n",
       "      <th>types</th>\n",
       "      <th>nst</th>\n",
       "      <th>dmin</th>\n",
       "      <th>rms</th>\n",
       "      <th>gap</th>\n",
       "      <th>magType</th>\n",
       "      <th>parameter_type</th>\n",
       "      <th>title</th>\n",
       "      <th>coordinate_type</th>\n",
       "      <th>coordinates</th>\n",
       "    </tr>\n",
       "  </thead>\n",
       "  <tbody>\n",
       "    <tr>\n",
       "      <th>0</th>\n",
       "      <td>Feature</td>\n",
       "      <td>us6000g88j</td>\n",
       "      <td>4.4</td>\n",
       "      <td>38 km ENE of Santa Monica, Philippines</td>\n",
       "      <td>2021-11-26 23:14:12.287</td>\n",
       "      <td>2021-12-04 22:50:42.040</td>\n",
       "      <td>None</td>\n",
       "      <td>https://earthquake.usgs.gov/earthquakes/eventp...</td>\n",
       "      <td>https://earthquake.usgs.gov/fdsnws/event/1/que...</td>\n",
       "      <td>NaN</td>\n",
       "      <td>...</td>\n",
       "      <td>,origin,phase-data,</td>\n",
       "      <td>NaN</td>\n",
       "      <td>3.188</td>\n",
       "      <td>0.70</td>\n",
       "      <td>115.0</td>\n",
       "      <td>mb</td>\n",
       "      <td>earthquake</td>\n",
       "      <td>M 4.4 - 38 km ENE of Santa Monica, Philippines</td>\n",
       "      <td>Point</td>\n",
       "      <td>[126.3446, 10.1871, 46.31]</td>\n",
       "    </tr>\n",
       "    <tr>\n",
       "      <th>1</th>\n",
       "      <td>Feature</td>\n",
       "      <td>us7000fx8r</td>\n",
       "      <td>4.7</td>\n",
       "      <td>28 km NE of Santa Monica, Philippines</td>\n",
       "      <td>2021-11-26 15:47:45.409</td>\n",
       "      <td>2021-11-26 16:23:54.040</td>\n",
       "      <td>None</td>\n",
       "      <td>https://earthquake.usgs.gov/earthquakes/eventp...</td>\n",
       "      <td>https://earthquake.usgs.gov/fdsnws/event/1/que...</td>\n",
       "      <td>NaN</td>\n",
       "      <td>...</td>\n",
       "      <td>,origin,phase-data,</td>\n",
       "      <td>NaN</td>\n",
       "      <td>3.164</td>\n",
       "      <td>1.04</td>\n",
       "      <td>108.0</td>\n",
       "      <td>mb</td>\n",
       "      <td>earthquake</td>\n",
       "      <td>M 4.7 - 28 km NE of Santa Monica, Philippines</td>\n",
       "      <td>Point</td>\n",
       "      <td>[126.2369, 10.1861, 49.04]</td>\n",
       "    </tr>\n",
       "    <tr>\n",
       "      <th>2</th>\n",
       "      <td>Feature</td>\n",
       "      <td>us7000fx8i</td>\n",
       "      <td>4.4</td>\n",
       "      <td>76 km ENE of Sulangan, Philippines</td>\n",
       "      <td>2021-11-26 14:50:07.267</td>\n",
       "      <td>2021-11-27 07:25:13.040</td>\n",
       "      <td>None</td>\n",
       "      <td>https://earthquake.usgs.gov/earthquakes/eventp...</td>\n",
       "      <td>https://earthquake.usgs.gov/fdsnws/event/1/que...</td>\n",
       "      <td>NaN</td>\n",
       "      <td>...</td>\n",
       "      <td>,origin,phase-data,</td>\n",
       "      <td>NaN</td>\n",
       "      <td>4.102</td>\n",
       "      <td>0.43</td>\n",
       "      <td>84.0</td>\n",
       "      <td>mb</td>\n",
       "      <td>earthquake</td>\n",
       "      <td>M 4.4 - 76 km ENE of Sulangan, Philippines</td>\n",
       "      <td>Point</td>\n",
       "      <td>[126.5123, 11.0924, 10]</td>\n",
       "    </tr>\n",
       "    <tr>\n",
       "      <th>3</th>\n",
       "      <td>Feature</td>\n",
       "      <td>us7000fwed</td>\n",
       "      <td>4.9</td>\n",
       "      <td>21 km ENE of La Paz, Philippines</td>\n",
       "      <td>2021-11-23 08:09:43.696</td>\n",
       "      <td>2021-11-23 10:05:38.037</td>\n",
       "      <td>None</td>\n",
       "      <td>https://earthquake.usgs.gov/earthquakes/eventp...</td>\n",
       "      <td>https://earthquake.usgs.gov/fdsnws/event/1/que...</td>\n",
       "      <td>4.0</td>\n",
       "      <td>...</td>\n",
       "      <td>,dyfi,origin,phase-data,</td>\n",
       "      <td>NaN</td>\n",
       "      <td>2.150</td>\n",
       "      <td>0.65</td>\n",
       "      <td>113.0</td>\n",
       "      <td>mb</td>\n",
       "      <td>earthquake</td>\n",
       "      <td>M 4.9 - 21 km ENE of La Paz, Philippines</td>\n",
       "      <td>Point</td>\n",
       "      <td>[126.4475, 9.0538, 66.59]</td>\n",
       "    </tr>\n",
       "    <tr>\n",
       "      <th>4</th>\n",
       "      <td>Feature</td>\n",
       "      <td>us7000fx9d</td>\n",
       "      <td>4.4</td>\n",
       "      <td>11 km W of Da-an Sur, Philippines</td>\n",
       "      <td>2021-11-22 12:49:49.582</td>\n",
       "      <td>2021-11-29 08:44:40.450</td>\n",
       "      <td>None</td>\n",
       "      <td>https://earthquake.usgs.gov/earthquakes/eventp...</td>\n",
       "      <td>https://earthquake.usgs.gov/fdsnws/event/1/que...</td>\n",
       "      <td>1.0</td>\n",
       "      <td>...</td>\n",
       "      <td>,dyfi,origin,phase-data,</td>\n",
       "      <td>NaN</td>\n",
       "      <td>7.122</td>\n",
       "      <td>0.52</td>\n",
       "      <td>130.0</td>\n",
       "      <td>mb</td>\n",
       "      <td>earthquake</td>\n",
       "      <td>M 4.4 - 11 km W of Da-an Sur, Philippines</td>\n",
       "      <td>Point</td>\n",
       "      <td>[122.3188, 11.2532, 31.62]</td>\n",
       "    </tr>\n",
       "    <tr>\n",
       "      <th>...</th>\n",
       "      <td>...</td>\n",
       "      <td>...</td>\n",
       "      <td>...</td>\n",
       "      <td>...</td>\n",
       "      <td>...</td>\n",
       "      <td>...</td>\n",
       "      <td>...</td>\n",
       "      <td>...</td>\n",
       "      <td>...</td>\n",
       "      <td>...</td>\n",
       "      <td>...</td>\n",
       "      <td>...</td>\n",
       "      <td>...</td>\n",
       "      <td>...</td>\n",
       "      <td>...</td>\n",
       "      <td>...</td>\n",
       "      <td>...</td>\n",
       "      <td>...</td>\n",
       "      <td>...</td>\n",
       "      <td>...</td>\n",
       "      <td>...</td>\n",
       "    </tr>\n",
       "    <tr>\n",
       "      <th>5793</th>\n",
       "      <td>Feature</td>\n",
       "      <td>usp000h5wf</td>\n",
       "      <td>4.6</td>\n",
       "      <td>94 km NNE of Namuac, Philippines</td>\n",
       "      <td>2010-01-10 00:37:37.850</td>\n",
       "      <td>2014-11-07 01:40:26.126</td>\n",
       "      <td>None</td>\n",
       "      <td>https://earthquake.usgs.gov/earthquakes/eventp...</td>\n",
       "      <td>https://earthquake.usgs.gov/fdsnws/event/1/que...</td>\n",
       "      <td>NaN</td>\n",
       "      <td>...</td>\n",
       "      <td>,impact-text,origin,phase-data,</td>\n",
       "      <td>16.0</td>\n",
       "      <td>NaN</td>\n",
       "      <td>0.86</td>\n",
       "      <td>122.3</td>\n",
       "      <td>mb</td>\n",
       "      <td>earthquake</td>\n",
       "      <td>M 4.6 - 94 km NNE of Namuac, Philippines</td>\n",
       "      <td>Point</td>\n",
       "      <td>[121.452, 19.416, 36.8]</td>\n",
       "    </tr>\n",
       "    <tr>\n",
       "      <th>5794</th>\n",
       "      <td>Feature</td>\n",
       "      <td>usp000h5v2</td>\n",
       "      <td>5.4</td>\n",
       "      <td>71 km ESE of Pondaguitan, Philippines</td>\n",
       "      <td>2010-01-08 12:14:59.610</td>\n",
       "      <td>2016-11-10 02:22:30.488</td>\n",
       "      <td>None</td>\n",
       "      <td>https://earthquake.usgs.gov/earthquakes/eventp...</td>\n",
       "      <td>https://earthquake.usgs.gov/fdsnws/event/1/que...</td>\n",
       "      <td>NaN</td>\n",
       "      <td>...</td>\n",
       "      <td>,focal-mechanism,impact-text,moment-tensor,ori...</td>\n",
       "      <td>147.0</td>\n",
       "      <td>NaN</td>\n",
       "      <td>0.88</td>\n",
       "      <td>43.8</td>\n",
       "      <td>mwc</td>\n",
       "      <td>earthquake</td>\n",
       "      <td>M 5.4 - 71 km ESE of Pondaguitan, Philippines</td>\n",
       "      <td>Point</td>\n",
       "      <td>[126.759, 6.077, 120.1]</td>\n",
       "    </tr>\n",
       "    <tr>\n",
       "      <th>5795</th>\n",
       "      <td>Feature</td>\n",
       "      <td>usp000h5nb</td>\n",
       "      <td>5.2</td>\n",
       "      <td>14 km ENE of Pondaguitan, Philippines</td>\n",
       "      <td>2010-01-03 21:38:41.510</td>\n",
       "      <td>2014-11-07 01:40:24.172</td>\n",
       "      <td>None</td>\n",
       "      <td>https://earthquake.usgs.gov/earthquakes/eventp...</td>\n",
       "      <td>https://earthquake.usgs.gov/fdsnws/event/1/que...</td>\n",
       "      <td>NaN</td>\n",
       "      <td>...</td>\n",
       "      <td>,impact-text,origin,phase-data,</td>\n",
       "      <td>90.0</td>\n",
       "      <td>NaN</td>\n",
       "      <td>0.81</td>\n",
       "      <td>75.2</td>\n",
       "      <td>mb</td>\n",
       "      <td>earthquake</td>\n",
       "      <td>M 5.2 - 14 km ENE of Pondaguitan, Philippines</td>\n",
       "      <td>Point</td>\n",
       "      <td>[126.293, 6.426, 60.3]</td>\n",
       "    </tr>\n",
       "    <tr>\n",
       "      <th>5796</th>\n",
       "      <td>Feature</td>\n",
       "      <td>usp000h5jy</td>\n",
       "      <td>4.7</td>\n",
       "      <td>125 km NNE of Cabodiongan, Philippines</td>\n",
       "      <td>2010-01-01 05:37:13.490</td>\n",
       "      <td>2014-11-07 01:40:22.558</td>\n",
       "      <td>None</td>\n",
       "      <td>https://earthquake.usgs.gov/earthquakes/eventp...</td>\n",
       "      <td>https://earthquake.usgs.gov/fdsnws/event/1/que...</td>\n",
       "      <td>NaN</td>\n",
       "      <td>...</td>\n",
       "      <td>,impact-text,origin,phase-data,</td>\n",
       "      <td>60.0</td>\n",
       "      <td>NaN</td>\n",
       "      <td>0.64</td>\n",
       "      <td>55.4</td>\n",
       "      <td>mb</td>\n",
       "      <td>earthquake</td>\n",
       "      <td>M 4.7 - 125 km NNE of Cabodiongan, Philippines</td>\n",
       "      <td>Point</td>\n",
       "      <td>[125.554, 13.687, 22.9]</td>\n",
       "    </tr>\n",
       "    <tr>\n",
       "      <th>5797</th>\n",
       "      <td>Feature</td>\n",
       "      <td>usp000h5jx</td>\n",
       "      <td>4.4</td>\n",
       "      <td>180 km SE of Pondaguitan, Philippines</td>\n",
       "      <td>2010-01-01 04:42:53.630</td>\n",
       "      <td>2014-11-07 01:40:22.538</td>\n",
       "      <td>None</td>\n",
       "      <td>https://earthquake.usgs.gov/earthquakes/eventp...</td>\n",
       "      <td>https://earthquake.usgs.gov/fdsnws/event/1/que...</td>\n",
       "      <td>NaN</td>\n",
       "      <td>...</td>\n",
       "      <td>,impact-text,origin,phase-data,</td>\n",
       "      <td>33.0</td>\n",
       "      <td>NaN</td>\n",
       "      <td>0.72</td>\n",
       "      <td>117.7</td>\n",
       "      <td>mb</td>\n",
       "      <td>earthquake</td>\n",
       "      <td>M 4.4 - 180 km SE of Pondaguitan, Philippines</td>\n",
       "      <td>Point</td>\n",
       "      <td>[127.121, 5.027, 80.8]</td>\n",
       "    </tr>\n",
       "  </tbody>\n",
       "</table>\n",
       "<p>5798 rows × 30 columns</p>\n",
       "</div>"
      ],
      "text/plain": [
       "     data_type          id  mag                                   place  \\\n",
       "0      Feature  us6000g88j  4.4  38 km ENE of Santa Monica, Philippines   \n",
       "1      Feature  us7000fx8r  4.7   28 km NE of Santa Monica, Philippines   \n",
       "2      Feature  us7000fx8i  4.4      76 km ENE of Sulangan, Philippines   \n",
       "3      Feature  us7000fwed  4.9        21 km ENE of La Paz, Philippines   \n",
       "4      Feature  us7000fx9d  4.4       11 km W of Da-an Sur, Philippines   \n",
       "...        ...         ...  ...                                     ...   \n",
       "5793   Feature  usp000h5wf  4.6        94 km NNE of Namuac, Philippines   \n",
       "5794   Feature  usp000h5v2  5.4   71 km ESE of Pondaguitan, Philippines   \n",
       "5795   Feature  usp000h5nb  5.2   14 km ENE of Pondaguitan, Philippines   \n",
       "5796   Feature  usp000h5jy  4.7  125 km NNE of Cabodiongan, Philippines   \n",
       "5797   Feature  usp000h5jx  4.4   180 km SE of Pondaguitan, Philippines   \n",
       "\n",
       "                        time                 updated    tz  \\\n",
       "0    2021-11-26 23:14:12.287 2021-12-04 22:50:42.040  None   \n",
       "1    2021-11-26 15:47:45.409 2021-11-26 16:23:54.040  None   \n",
       "2    2021-11-26 14:50:07.267 2021-11-27 07:25:13.040  None   \n",
       "3    2021-11-23 08:09:43.696 2021-11-23 10:05:38.037  None   \n",
       "4    2021-11-22 12:49:49.582 2021-11-29 08:44:40.450  None   \n",
       "...                      ...                     ...   ...   \n",
       "5793 2010-01-10 00:37:37.850 2014-11-07 01:40:26.126  None   \n",
       "5794 2010-01-08 12:14:59.610 2016-11-10 02:22:30.488  None   \n",
       "5795 2010-01-03 21:38:41.510 2014-11-07 01:40:24.172  None   \n",
       "5796 2010-01-01 05:37:13.490 2014-11-07 01:40:22.558  None   \n",
       "5797 2010-01-01 04:42:53.630 2014-11-07 01:40:22.538  None   \n",
       "\n",
       "                                                    url  \\\n",
       "0     https://earthquake.usgs.gov/earthquakes/eventp...   \n",
       "1     https://earthquake.usgs.gov/earthquakes/eventp...   \n",
       "2     https://earthquake.usgs.gov/earthquakes/eventp...   \n",
       "3     https://earthquake.usgs.gov/earthquakes/eventp...   \n",
       "4     https://earthquake.usgs.gov/earthquakes/eventp...   \n",
       "...                                                 ...   \n",
       "5793  https://earthquake.usgs.gov/earthquakes/eventp...   \n",
       "5794  https://earthquake.usgs.gov/earthquakes/eventp...   \n",
       "5795  https://earthquake.usgs.gov/earthquakes/eventp...   \n",
       "5796  https://earthquake.usgs.gov/earthquakes/eventp...   \n",
       "5797  https://earthquake.usgs.gov/earthquakes/eventp...   \n",
       "\n",
       "                                                 detail  felt  ...  \\\n",
       "0     https://earthquake.usgs.gov/fdsnws/event/1/que...   NaN  ...   \n",
       "1     https://earthquake.usgs.gov/fdsnws/event/1/que...   NaN  ...   \n",
       "2     https://earthquake.usgs.gov/fdsnws/event/1/que...   NaN  ...   \n",
       "3     https://earthquake.usgs.gov/fdsnws/event/1/que...   4.0  ...   \n",
       "4     https://earthquake.usgs.gov/fdsnws/event/1/que...   1.0  ...   \n",
       "...                                                 ...   ...  ...   \n",
       "5793  https://earthquake.usgs.gov/fdsnws/event/1/que...   NaN  ...   \n",
       "5794  https://earthquake.usgs.gov/fdsnws/event/1/que...   NaN  ...   \n",
       "5795  https://earthquake.usgs.gov/fdsnws/event/1/que...   NaN  ...   \n",
       "5796  https://earthquake.usgs.gov/fdsnws/event/1/que...   NaN  ...   \n",
       "5797  https://earthquake.usgs.gov/fdsnws/event/1/que...   NaN  ...   \n",
       "\n",
       "                                                  types    nst   dmin   rms  \\\n",
       "0                                   ,origin,phase-data,    NaN  3.188  0.70   \n",
       "1                                   ,origin,phase-data,    NaN  3.164  1.04   \n",
       "2                                   ,origin,phase-data,    NaN  4.102  0.43   \n",
       "3                              ,dyfi,origin,phase-data,    NaN  2.150  0.65   \n",
       "4                              ,dyfi,origin,phase-data,    NaN  7.122  0.52   \n",
       "...                                                 ...    ...    ...   ...   \n",
       "5793                    ,impact-text,origin,phase-data,   16.0    NaN  0.86   \n",
       "5794  ,focal-mechanism,impact-text,moment-tensor,ori...  147.0    NaN  0.88   \n",
       "5795                    ,impact-text,origin,phase-data,   90.0    NaN  0.81   \n",
       "5796                    ,impact-text,origin,phase-data,   60.0    NaN  0.64   \n",
       "5797                    ,impact-text,origin,phase-data,   33.0    NaN  0.72   \n",
       "\n",
       "        gap  magType parameter_type  \\\n",
       "0     115.0       mb     earthquake   \n",
       "1     108.0       mb     earthquake   \n",
       "2      84.0       mb     earthquake   \n",
       "3     113.0       mb     earthquake   \n",
       "4     130.0       mb     earthquake   \n",
       "...     ...      ...            ...   \n",
       "5793  122.3       mb     earthquake   \n",
       "5794   43.8      mwc     earthquake   \n",
       "5795   75.2       mb     earthquake   \n",
       "5796   55.4       mb     earthquake   \n",
       "5797  117.7       mb     earthquake   \n",
       "\n",
       "                                               title coordinate_type  \\\n",
       "0     M 4.4 - 38 km ENE of Santa Monica, Philippines           Point   \n",
       "1      M 4.7 - 28 km NE of Santa Monica, Philippines           Point   \n",
       "2         M 4.4 - 76 km ENE of Sulangan, Philippines           Point   \n",
       "3           M 4.9 - 21 km ENE of La Paz, Philippines           Point   \n",
       "4          M 4.4 - 11 km W of Da-an Sur, Philippines           Point   \n",
       "...                                              ...             ...   \n",
       "5793        M 4.6 - 94 km NNE of Namuac, Philippines           Point   \n",
       "5794   M 5.4 - 71 km ESE of Pondaguitan, Philippines           Point   \n",
       "5795   M 5.2 - 14 km ENE of Pondaguitan, Philippines           Point   \n",
       "5796  M 4.7 - 125 km NNE of Cabodiongan, Philippines           Point   \n",
       "5797   M 4.4 - 180 km SE of Pondaguitan, Philippines           Point   \n",
       "\n",
       "                     coordinates  \n",
       "0     [126.3446, 10.1871, 46.31]  \n",
       "1     [126.2369, 10.1861, 49.04]  \n",
       "2        [126.5123, 11.0924, 10]  \n",
       "3      [126.4475, 9.0538, 66.59]  \n",
       "4     [122.3188, 11.2532, 31.62]  \n",
       "...                          ...  \n",
       "5793     [121.452, 19.416, 36.8]  \n",
       "5794     [126.759, 6.077, 120.1]  \n",
       "5795      [126.293, 6.426, 60.3]  \n",
       "5796     [125.554, 13.687, 22.9]  \n",
       "5797      [127.121, 5.027, 80.8]  \n",
       "\n",
       "[5798 rows x 30 columns]"
      ]
     },
     "execution_count": 3,
     "metadata": {},
     "output_type": "execute_result"
    }
   ],
   "source": [
    "usgs_api_df = pd.json_normalize(data['features'], max_level=3)\n",
    "usgs_api_df.columns = ['data_type', 'id', 'mag', 'place', 'time', 'updated',\n",
    "                       'tz', 'url', 'detail', 'felt', 'cdi', 'mmi', 'alert',\n",
    "                       'status', 'tsunami', 'sig', 'net', 'code', 'ids',\n",
    "                       'sources', 'types', 'nst', 'dmin', 'rms', 'gap',\n",
    "                       'magType', 'parameter_type', 'title',\n",
    "                       'coordinate_type', 'coordinates']\n",
    "\n",
    "usgs_api_df['time'] = pd.to_datetime(\n",
    "    usgs_api_df['time'].astype(int), unit='ms')\n",
    "usgs_api_df['updated'] = pd.to_datetime(\n",
    "    usgs_api_df['updated'].astype(int), unit='ms')\n",
    "\n",
    "usgs_api_df"
   ]
  },
  {
   "cell_type": "code",
   "execution_count": 4,
   "id": "5f8c1532",
   "metadata": {
    "ExecuteTime": {
     "end_time": "2021-12-05T19:37:10.731224Z",
     "start_time": "2021-12-05T19:37:10.726793Z"
    }
   },
   "outputs": [
    {
     "data": {
      "text/plain": [
       "Index(['data_type', 'id', 'mag', 'place', 'time', 'updated', 'tz', 'url',\n",
       "       'detail', 'felt', 'cdi', 'mmi', 'alert', 'status', 'tsunami', 'sig',\n",
       "       'net', 'code', 'ids', 'sources', 'types', 'nst', 'dmin', 'rms', 'gap',\n",
       "       'magType', 'parameter_type', 'title', 'coordinate_type', 'coordinates'],\n",
       "      dtype='object')"
      ]
     },
     "execution_count": 4,
     "metadata": {},
     "output_type": "execute_result"
    }
   ],
   "source": [
    "usgs_api_df.columns"
   ]
  },
  {
   "cell_type": "code",
   "execution_count": 5,
   "id": "ce24e9c1",
   "metadata": {
    "ExecuteTime": {
     "end_time": "2021-12-05T19:37:10.739833Z",
     "start_time": "2021-12-05T19:37:10.733479Z"
    }
   },
   "outputs": [
    {
     "data": {
      "text/plain": [
       "array(['Point'], dtype=object)"
      ]
     },
     "execution_count": 5,
     "metadata": {},
     "output_type": "execute_result"
    }
   ],
   "source": [
    "usgs_api_df['coordinate_type'].unique()"
   ]
  },
  {
   "cell_type": "code",
   "execution_count": 6,
   "id": "6bbc9cc1",
   "metadata": {
    "ExecuteTime": {
     "end_time": "2021-12-05T19:37:10.747384Z",
     "start_time": "2021-12-05T19:37:10.741718Z"
    }
   },
   "outputs": [
    {
     "data": {
      "text/plain": [
       "1352    [124.7935, 5.3468, 10]\n",
       "Name: coordinates, dtype: object"
      ]
     },
     "execution_count": 6,
     "metadata": {},
     "output_type": "execute_result"
    }
   ],
   "source": [
    "usgs_api_df['coordinates'].sample()"
   ]
  },
  {
   "cell_type": "markdown",
   "id": "66c4d784",
   "metadata": {},
   "source": [
    "**NOTE:** Coordinates are given in the WGS84 reference frame. The three values represent the longitude, latitude and depth in order."
   ]
  },
  {
   "cell_type": "markdown",
   "id": "379a60c4",
   "metadata": {},
   "source": [
    "Data Dictionary \n",
    "https://earthquake.usgs.gov/data/comcat/index.php#felt\n",
    "\n",
    "* mag - The magnitude for the event. size of the earthquake \n",
    "* place - Textual description of named geographic region near to the event. This may be a city name, or a Flinn-Engdahl Region name.\n",
    "* time - Time when the event occurred. \n",
    "* updated - Time when the event was most recently updated. \n",
    "* tz - Timezone offset from UTC in minutes at the event epicenter.\n",
    "* felt - The total number of felt reports submitted to the DYFI? system.\n",
    "* cdi - The maximum reported intensity for the event. Computed by DYFI. While typically reported as a roman numeral, for the purposes of this API, intensity is expected as the decimal equivalent of the roman numeral. intensity  is measure of shaking at each location, and this varies from place to place,\n",
    "* mmi - The maximum estimated instrumental intensity for the event. Computed by ShakeMap. While typically reported as a roman numeral, for the purposes of this API, intensity is expected as the decimal equivalent of the roman numeral. Learn more about magnitude vs. intensity.\n",
    "* alert - The alert level from the PAGER earthquake impact scale. ( The PAGER system provides fatality and economic loss impact estimates following significant earthquakes worldwide.)\n",
    "* status - Indicates whether the event has been reviewed by a human.\n",
    "* sig - A number describing how significant the event is. Larger numbers indicate a more significant event. This value is determined on a number of factors, including: magnitude, maximum MMI, felt reports, and estimated impact.\n",
    "* magType- The method or algorithm used to calculate the preferred magnitude for the event."
   ]
  },
  {
   "cell_type": "code",
   "execution_count": 7,
   "id": "cd2ab9d9",
   "metadata": {
    "ExecuteTime": {
     "end_time": "2021-12-05T19:37:10.772186Z",
     "start_time": "2021-12-05T19:37:10.749085Z"
    }
   },
   "outputs": [
    {
     "data": {
      "text/html": [
       "<div>\n",
       "<style scoped>\n",
       "    .dataframe tbody tr th:only-of-type {\n",
       "        vertical-align: middle;\n",
       "    }\n",
       "\n",
       "    .dataframe tbody tr th {\n",
       "        vertical-align: top;\n",
       "    }\n",
       "\n",
       "    .dataframe thead th {\n",
       "        text-align: right;\n",
       "    }\n",
       "</style>\n",
       "<table border=\"1\" class=\"dataframe\">\n",
       "  <thead>\n",
       "    <tr style=\"text-align: right;\">\n",
       "      <th></th>\n",
       "      <th>mag</th>\n",
       "      <th>place</th>\n",
       "      <th>time</th>\n",
       "      <th>updated</th>\n",
       "      <th>felt</th>\n",
       "      <th>cdi</th>\n",
       "      <th>mmi</th>\n",
       "      <th>alert</th>\n",
       "      <th>sig</th>\n",
       "      <th>magType</th>\n",
       "      <th>coordinates</th>\n",
       "    </tr>\n",
       "  </thead>\n",
       "  <tbody>\n",
       "    <tr>\n",
       "      <th>0</th>\n",
       "      <td>4.4</td>\n",
       "      <td>38 km ENE of Santa Monica, Philippines</td>\n",
       "      <td>2021-11-26 23:14:12.287</td>\n",
       "      <td>2021-12-04 22:50:42.040</td>\n",
       "      <td>NaN</td>\n",
       "      <td>NaN</td>\n",
       "      <td>NaN</td>\n",
       "      <td>None</td>\n",
       "      <td>298</td>\n",
       "      <td>mb</td>\n",
       "      <td>[126.3446, 10.1871, 46.31]</td>\n",
       "    </tr>\n",
       "    <tr>\n",
       "      <th>1</th>\n",
       "      <td>4.7</td>\n",
       "      <td>28 km NE of Santa Monica, Philippines</td>\n",
       "      <td>2021-11-26 15:47:45.409</td>\n",
       "      <td>2021-11-26 16:23:54.040</td>\n",
       "      <td>NaN</td>\n",
       "      <td>NaN</td>\n",
       "      <td>NaN</td>\n",
       "      <td>None</td>\n",
       "      <td>340</td>\n",
       "      <td>mb</td>\n",
       "      <td>[126.2369, 10.1861, 49.04]</td>\n",
       "    </tr>\n",
       "    <tr>\n",
       "      <th>2</th>\n",
       "      <td>4.4</td>\n",
       "      <td>76 km ENE of Sulangan, Philippines</td>\n",
       "      <td>2021-11-26 14:50:07.267</td>\n",
       "      <td>2021-11-27 07:25:13.040</td>\n",
       "      <td>NaN</td>\n",
       "      <td>NaN</td>\n",
       "      <td>NaN</td>\n",
       "      <td>None</td>\n",
       "      <td>298</td>\n",
       "      <td>mb</td>\n",
       "      <td>[126.5123, 11.0924, 10]</td>\n",
       "    </tr>\n",
       "    <tr>\n",
       "      <th>3</th>\n",
       "      <td>4.9</td>\n",
       "      <td>21 km ENE of La Paz, Philippines</td>\n",
       "      <td>2021-11-23 08:09:43.696</td>\n",
       "      <td>2021-11-23 10:05:38.037</td>\n",
       "      <td>4.0</td>\n",
       "      <td>4.6</td>\n",
       "      <td>NaN</td>\n",
       "      <td>None</td>\n",
       "      <td>371</td>\n",
       "      <td>mb</td>\n",
       "      <td>[126.4475, 9.0538, 66.59]</td>\n",
       "    </tr>\n",
       "    <tr>\n",
       "      <th>4</th>\n",
       "      <td>4.4</td>\n",
       "      <td>11 km W of Da-an Sur, Philippines</td>\n",
       "      <td>2021-11-22 12:49:49.582</td>\n",
       "      <td>2021-11-29 08:44:40.450</td>\n",
       "      <td>1.0</td>\n",
       "      <td>2.0</td>\n",
       "      <td>NaN</td>\n",
       "      <td>None</td>\n",
       "      <td>298</td>\n",
       "      <td>mb</td>\n",
       "      <td>[122.3188, 11.2532, 31.62]</td>\n",
       "    </tr>\n",
       "    <tr>\n",
       "      <th>...</th>\n",
       "      <td>...</td>\n",
       "      <td>...</td>\n",
       "      <td>...</td>\n",
       "      <td>...</td>\n",
       "      <td>...</td>\n",
       "      <td>...</td>\n",
       "      <td>...</td>\n",
       "      <td>...</td>\n",
       "      <td>...</td>\n",
       "      <td>...</td>\n",
       "      <td>...</td>\n",
       "    </tr>\n",
       "    <tr>\n",
       "      <th>5793</th>\n",
       "      <td>4.6</td>\n",
       "      <td>94 km NNE of Namuac, Philippines</td>\n",
       "      <td>2010-01-10 00:37:37.850</td>\n",
       "      <td>2014-11-07 01:40:26.126</td>\n",
       "      <td>NaN</td>\n",
       "      <td>NaN</td>\n",
       "      <td>NaN</td>\n",
       "      <td>None</td>\n",
       "      <td>326</td>\n",
       "      <td>mb</td>\n",
       "      <td>[121.452, 19.416, 36.8]</td>\n",
       "    </tr>\n",
       "    <tr>\n",
       "      <th>5794</th>\n",
       "      <td>5.4</td>\n",
       "      <td>71 km ESE of Pondaguitan, Philippines</td>\n",
       "      <td>2010-01-08 12:14:59.610</td>\n",
       "      <td>2016-11-10 02:22:30.488</td>\n",
       "      <td>NaN</td>\n",
       "      <td>NaN</td>\n",
       "      <td>NaN</td>\n",
       "      <td>None</td>\n",
       "      <td>449</td>\n",
       "      <td>mwc</td>\n",
       "      <td>[126.759, 6.077, 120.1]</td>\n",
       "    </tr>\n",
       "    <tr>\n",
       "      <th>5795</th>\n",
       "      <td>5.2</td>\n",
       "      <td>14 km ENE of Pondaguitan, Philippines</td>\n",
       "      <td>2010-01-03 21:38:41.510</td>\n",
       "      <td>2014-11-07 01:40:24.172</td>\n",
       "      <td>NaN</td>\n",
       "      <td>NaN</td>\n",
       "      <td>NaN</td>\n",
       "      <td>None</td>\n",
       "      <td>416</td>\n",
       "      <td>mb</td>\n",
       "      <td>[126.293, 6.426, 60.3]</td>\n",
       "    </tr>\n",
       "    <tr>\n",
       "      <th>5796</th>\n",
       "      <td>4.7</td>\n",
       "      <td>125 km NNE of Cabodiongan, Philippines</td>\n",
       "      <td>2010-01-01 05:37:13.490</td>\n",
       "      <td>2014-11-07 01:40:22.558</td>\n",
       "      <td>NaN</td>\n",
       "      <td>NaN</td>\n",
       "      <td>NaN</td>\n",
       "      <td>None</td>\n",
       "      <td>340</td>\n",
       "      <td>mb</td>\n",
       "      <td>[125.554, 13.687, 22.9]</td>\n",
       "    </tr>\n",
       "    <tr>\n",
       "      <th>5797</th>\n",
       "      <td>4.4</td>\n",
       "      <td>180 km SE of Pondaguitan, Philippines</td>\n",
       "      <td>2010-01-01 04:42:53.630</td>\n",
       "      <td>2014-11-07 01:40:22.538</td>\n",
       "      <td>NaN</td>\n",
       "      <td>NaN</td>\n",
       "      <td>NaN</td>\n",
       "      <td>None</td>\n",
       "      <td>298</td>\n",
       "      <td>mb</td>\n",
       "      <td>[127.121, 5.027, 80.8]</td>\n",
       "    </tr>\n",
       "  </tbody>\n",
       "</table>\n",
       "<p>5798 rows × 11 columns</p>\n",
       "</div>"
      ],
      "text/plain": [
       "      mag                                   place                    time  \\\n",
       "0     4.4  38 km ENE of Santa Monica, Philippines 2021-11-26 23:14:12.287   \n",
       "1     4.7   28 km NE of Santa Monica, Philippines 2021-11-26 15:47:45.409   \n",
       "2     4.4      76 km ENE of Sulangan, Philippines 2021-11-26 14:50:07.267   \n",
       "3     4.9        21 km ENE of La Paz, Philippines 2021-11-23 08:09:43.696   \n",
       "4     4.4       11 km W of Da-an Sur, Philippines 2021-11-22 12:49:49.582   \n",
       "...   ...                                     ...                     ...   \n",
       "5793  4.6        94 km NNE of Namuac, Philippines 2010-01-10 00:37:37.850   \n",
       "5794  5.4   71 km ESE of Pondaguitan, Philippines 2010-01-08 12:14:59.610   \n",
       "5795  5.2   14 km ENE of Pondaguitan, Philippines 2010-01-03 21:38:41.510   \n",
       "5796  4.7  125 km NNE of Cabodiongan, Philippines 2010-01-01 05:37:13.490   \n",
       "5797  4.4   180 km SE of Pondaguitan, Philippines 2010-01-01 04:42:53.630   \n",
       "\n",
       "                     updated  felt  cdi  mmi alert  sig magType  \\\n",
       "0    2021-12-04 22:50:42.040   NaN  NaN  NaN  None  298      mb   \n",
       "1    2021-11-26 16:23:54.040   NaN  NaN  NaN  None  340      mb   \n",
       "2    2021-11-27 07:25:13.040   NaN  NaN  NaN  None  298      mb   \n",
       "3    2021-11-23 10:05:38.037   4.0  4.6  NaN  None  371      mb   \n",
       "4    2021-11-29 08:44:40.450   1.0  2.0  NaN  None  298      mb   \n",
       "...                      ...   ...  ...  ...   ...  ...     ...   \n",
       "5793 2014-11-07 01:40:26.126   NaN  NaN  NaN  None  326      mb   \n",
       "5794 2016-11-10 02:22:30.488   NaN  NaN  NaN  None  449     mwc   \n",
       "5795 2014-11-07 01:40:24.172   NaN  NaN  NaN  None  416      mb   \n",
       "5796 2014-11-07 01:40:22.558   NaN  NaN  NaN  None  340      mb   \n",
       "5797 2014-11-07 01:40:22.538   NaN  NaN  NaN  None  298      mb   \n",
       "\n",
       "                     coordinates  \n",
       "0     [126.3446, 10.1871, 46.31]  \n",
       "1     [126.2369, 10.1861, 49.04]  \n",
       "2        [126.5123, 11.0924, 10]  \n",
       "3      [126.4475, 9.0538, 66.59]  \n",
       "4     [122.3188, 11.2532, 31.62]  \n",
       "...                          ...  \n",
       "5793     [121.452, 19.416, 36.8]  \n",
       "5794     [126.759, 6.077, 120.1]  \n",
       "5795      [126.293, 6.426, 60.3]  \n",
       "5796     [125.554, 13.687, 22.9]  \n",
       "5797      [127.121, 5.027, 80.8]  \n",
       "\n",
       "[5798 rows x 11 columns]"
      ]
     },
     "metadata": {},
     "output_type": "display_data"
    }
   ],
   "source": [
    "# Get only relevant columns\n",
    "ph_quakes = usgs_api_df[['mag',\n",
    "                         'place',\n",
    "                         'time',\n",
    "                         'updated',\n",
    "                         'felt',\n",
    "                         'cdi',\n",
    "                         'mmi',\n",
    "                         'alert', \n",
    "                         'sig',\n",
    "                         'magType',\n",
    "                         'coordinates']]\n",
    "display(ph_quakes)"
   ]
  },
  {
   "cell_type": "code",
   "execution_count": 8,
   "id": "3d40879e",
   "metadata": {
    "ExecuteTime": {
     "end_time": "2021-12-05T19:37:10.782967Z",
     "start_time": "2021-12-05T19:37:10.774105Z"
    }
   },
   "outputs": [
    {
     "data": {
      "text/plain": [
       "0       126.3446\n",
       "1       126.2369\n",
       "2       126.5123\n",
       "3       126.4475\n",
       "4       122.3188\n",
       "          ...   \n",
       "5793    121.4520\n",
       "5794    126.7590\n",
       "5795    126.2930\n",
       "5796    125.5540\n",
       "5797    127.1210\n",
       "Name: coordinates, Length: 5798, dtype: float64"
      ]
     },
     "execution_count": 8,
     "metadata": {},
     "output_type": "execute_result"
    }
   ],
   "source": [
    "ph_quakes['coordinates'].apply(lambda x: x[0])"
   ]
  },
  {
   "cell_type": "code",
   "execution_count": 9,
   "id": "aa3d054a",
   "metadata": {
    "ExecuteTime": {
     "end_time": "2021-12-05T19:37:10.794051Z",
     "start_time": "2021-12-05T19:37:10.784638Z"
    }
   },
   "outputs": [],
   "source": [
    "ph_quakes['longitude'] = ph_quakes['coordinates'].apply(lambda x: x[0])\n",
    "ph_quakes['latitude'] = ph_quakes['coordinates'].apply(lambda x: x[1])"
   ]
  },
  {
   "cell_type": "code",
   "execution_count": 10,
   "id": "189cff5f",
   "metadata": {
    "ExecuteTime": {
     "end_time": "2021-12-05T19:37:10.809866Z",
     "start_time": "2021-12-05T19:37:10.795535Z"
    }
   },
   "outputs": [
    {
     "data": {
      "text/html": [
       "<div>\n",
       "<style scoped>\n",
       "    .dataframe tbody tr th:only-of-type {\n",
       "        vertical-align: middle;\n",
       "    }\n",
       "\n",
       "    .dataframe tbody tr th {\n",
       "        vertical-align: top;\n",
       "    }\n",
       "\n",
       "    .dataframe thead th {\n",
       "        text-align: right;\n",
       "    }\n",
       "</style>\n",
       "<table border=\"1\" class=\"dataframe\">\n",
       "  <thead>\n",
       "    <tr style=\"text-align: right;\">\n",
       "      <th></th>\n",
       "      <th>mag</th>\n",
       "      <th>place</th>\n",
       "      <th>time</th>\n",
       "      <th>updated</th>\n",
       "      <th>felt</th>\n",
       "      <th>cdi</th>\n",
       "      <th>mmi</th>\n",
       "      <th>alert</th>\n",
       "      <th>sig</th>\n",
       "      <th>magType</th>\n",
       "      <th>coordinates</th>\n",
       "      <th>longitude</th>\n",
       "      <th>latitude</th>\n",
       "    </tr>\n",
       "  </thead>\n",
       "  <tbody>\n",
       "    <tr>\n",
       "      <th>0</th>\n",
       "      <td>4.4</td>\n",
       "      <td>38 km ENE of Santa Monica, Philippines</td>\n",
       "      <td>2021-11-26 23:14:12.287</td>\n",
       "      <td>2021-12-04 22:50:42.040</td>\n",
       "      <td>NaN</td>\n",
       "      <td>NaN</td>\n",
       "      <td>NaN</td>\n",
       "      <td>None</td>\n",
       "      <td>298</td>\n",
       "      <td>mb</td>\n",
       "      <td>[126.3446, 10.1871, 46.31]</td>\n",
       "      <td>126.3446</td>\n",
       "      <td>10.1871</td>\n",
       "    </tr>\n",
       "    <tr>\n",
       "      <th>1</th>\n",
       "      <td>4.7</td>\n",
       "      <td>28 km NE of Santa Monica, Philippines</td>\n",
       "      <td>2021-11-26 15:47:45.409</td>\n",
       "      <td>2021-11-26 16:23:54.040</td>\n",
       "      <td>NaN</td>\n",
       "      <td>NaN</td>\n",
       "      <td>NaN</td>\n",
       "      <td>None</td>\n",
       "      <td>340</td>\n",
       "      <td>mb</td>\n",
       "      <td>[126.2369, 10.1861, 49.04]</td>\n",
       "      <td>126.2369</td>\n",
       "      <td>10.1861</td>\n",
       "    </tr>\n",
       "  </tbody>\n",
       "</table>\n",
       "</div>"
      ],
      "text/plain": [
       "   mag                                   place                    time  \\\n",
       "0  4.4  38 km ENE of Santa Monica, Philippines 2021-11-26 23:14:12.287   \n",
       "1  4.7   28 km NE of Santa Monica, Philippines 2021-11-26 15:47:45.409   \n",
       "\n",
       "                  updated  felt  cdi  mmi alert  sig magType  \\\n",
       "0 2021-12-04 22:50:42.040   NaN  NaN  NaN  None  298      mb   \n",
       "1 2021-11-26 16:23:54.040   NaN  NaN  NaN  None  340      mb   \n",
       "\n",
       "                  coordinates  longitude  latitude  \n",
       "0  [126.3446, 10.1871, 46.31]   126.3446   10.1871  \n",
       "1  [126.2369, 10.1861, 49.04]   126.2369   10.1861  "
      ]
     },
     "execution_count": 10,
     "metadata": {},
     "output_type": "execute_result"
    }
   ],
   "source": [
    "ph_quakes.head(2)"
   ]
  },
  {
   "cell_type": "code",
   "execution_count": 11,
   "id": "4068eb0e",
   "metadata": {
    "ExecuteTime": {
     "end_time": "2021-12-05T19:37:11.076331Z",
     "start_time": "2021-12-05T19:37:10.812112Z"
    }
   },
   "outputs": [],
   "source": [
    "import geopandas as gpd\n",
    "import psycopg2\n",
    "from shapely.geometry import Point, LineString, Polygon"
   ]
  },
  {
   "cell_type": "code",
   "execution_count": 12,
   "id": "0263bfc7",
   "metadata": {
    "ExecuteTime": {
     "end_time": "2021-12-05T19:37:11.119004Z",
     "start_time": "2021-12-05T19:37:11.078088Z"
    }
   },
   "outputs": [],
   "source": [
    "ph_quakes['Point'] = ph_quakes['coordinates'].apply(lambda x: Point(x[:2]))"
   ]
  },
  {
   "cell_type": "code",
   "execution_count": 13,
   "id": "e0a2c1a5",
   "metadata": {
    "ExecuteTime": {
     "end_time": "2021-12-05T19:37:11.141109Z",
     "start_time": "2021-12-05T19:37:11.136672Z"
    }
   },
   "outputs": [],
   "source": [
    "# df = gpd.read_postgis('''\n",
    "# select * \n",
    "# from gadm.ph\n",
    "# ''', con = conn)"
   ]
  },
  {
   "cell_type": "code",
   "execution_count": 14,
   "id": "653eaa12",
   "metadata": {
    "ExecuteTime": {
     "end_time": "2021-12-05T19:37:11.570546Z",
     "start_time": "2021-12-05T19:37:11.565798Z"
    }
   },
   "outputs": [],
   "source": [
    "# df.head(2)"
   ]
  },
  {
   "cell_type": "markdown",
   "id": "48bb1987",
   "metadata": {},
   "source": [
    "The most common SRID for geographic coordinates is 4326, which corresponds to “longitude/latitude on the WGS84 spheroid”. You can see the definition here: https://epsg.io/4326"
   ]
  },
  {
   "cell_type": "code",
   "execution_count": 15,
   "id": "aed4bdce",
   "metadata": {
    "ExecuteTime": {
     "end_time": "2021-12-05T19:37:12.511199Z",
     "start_time": "2021-12-05T19:37:12.501267Z"
    }
   },
   "outputs": [],
   "source": [
    "conn = psycopg2.connect(dbname=\"postgis\", \n",
    "                 user=\"gsa2022\", \n",
    "                 password=\"g5!V%T1Vmd\", \n",
    "                 host=\"192.168.212.99\", \n",
    "                 port=32771)\n",
    "                        \n",
    " #ERROR: InsufficientPrivilege: permission denied to create database\n"
   ]
  },
  {
   "cell_type": "code",
   "execution_count": 16,
   "id": "cd3df6e3",
   "metadata": {
    "ExecuteTime": {
     "end_time": "2021-12-05T19:37:12.945754Z",
     "start_time": "2021-12-05T19:37:12.940562Z"
    }
   },
   "outputs": [],
   "source": [
    "# pd.read_sql(\"\"\"with epicenter as (\n",
    "#   SELECT ST_SetSRID(ST_MakePoint(lat, long), 4326) as point\n",
    "#   FROM json_to_recordset(%s) AS z(long double precision, lat double precision)\n",
    "#   )\n",
    "#   ,\n",
    "#   select ph.*,\n",
    "#           st_buffer()\n",
    "#   from public.ph_point as ph\n",
    "  \n",
    "#   \"\"\", params = (json_string,), con=conn)"
   ]
  },
  {
   "cell_type": "code",
   "execution_count": 17,
   "id": "f05ad20c",
   "metadata": {
    "ExecuteTime": {
     "end_time": "2021-12-05T19:37:13.427561Z",
     "start_time": "2021-12-05T19:37:13.400912Z"
    }
   },
   "outputs": [
    {
     "data": {
      "text/plain": [
       "mag               0\n",
       "place             1\n",
       "time              0\n",
       "updated           0\n",
       "felt           4546\n",
       "cdi            4546\n",
       "mmi            5617\n",
       "alert          5661\n",
       "sig               0\n",
       "magType           0\n",
       "coordinates       0\n",
       "longitude         0\n",
       "latitude          0\n",
       "Point             0\n",
       "dtype: int64"
      ]
     },
     "execution_count": 17,
     "metadata": {},
     "output_type": "execute_result"
    }
   ],
   "source": [
    "ph_quakes.isna().sum()"
   ]
  },
  {
   "cell_type": "code",
   "execution_count": 18,
   "id": "57cd75e8",
   "metadata": {
    "ExecuteTime": {
     "end_time": "2021-12-05T19:37:13.886089Z",
     "start_time": "2021-12-05T19:37:13.857238Z"
    }
   },
   "outputs": [
    {
     "data": {
      "text/html": [
       "<div>\n",
       "<style scoped>\n",
       "    .dataframe tbody tr th:only-of-type {\n",
       "        vertical-align: middle;\n",
       "    }\n",
       "\n",
       "    .dataframe tbody tr th {\n",
       "        vertical-align: top;\n",
       "    }\n",
       "\n",
       "    .dataframe thead th {\n",
       "        text-align: right;\n",
       "    }\n",
       "</style>\n",
       "<table border=\"1\" class=\"dataframe\">\n",
       "  <thead>\n",
       "    <tr style=\"text-align: right;\">\n",
       "      <th></th>\n",
       "      <th>mag</th>\n",
       "      <th>place</th>\n",
       "      <th>time</th>\n",
       "      <th>updated</th>\n",
       "      <th>felt</th>\n",
       "      <th>cdi</th>\n",
       "      <th>mmi</th>\n",
       "      <th>alert</th>\n",
       "      <th>sig</th>\n",
       "      <th>magType</th>\n",
       "      <th>coordinates</th>\n",
       "      <th>longitude</th>\n",
       "      <th>latitude</th>\n",
       "      <th>Point</th>\n",
       "    </tr>\n",
       "  </thead>\n",
       "  <tbody>\n",
       "    <tr>\n",
       "      <th>0</th>\n",
       "      <td>4.4</td>\n",
       "      <td>38 km ENE of Santa Monica, Philippines</td>\n",
       "      <td>2021-11-26 23:14:12.287</td>\n",
       "      <td>2021-12-04 22:50:42.040</td>\n",
       "      <td>NaN</td>\n",
       "      <td>NaN</td>\n",
       "      <td>NaN</td>\n",
       "      <td>None</td>\n",
       "      <td>298</td>\n",
       "      <td>mb</td>\n",
       "      <td>[126.3446, 10.1871, 46.31]</td>\n",
       "      <td>126.3446</td>\n",
       "      <td>10.1871</td>\n",
       "      <td>POINT (126.3446 10.1871)</td>\n",
       "    </tr>\n",
       "    <tr>\n",
       "      <th>1</th>\n",
       "      <td>4.7</td>\n",
       "      <td>28 km NE of Santa Monica, Philippines</td>\n",
       "      <td>2021-11-26 15:47:45.409</td>\n",
       "      <td>2021-11-26 16:23:54.040</td>\n",
       "      <td>NaN</td>\n",
       "      <td>NaN</td>\n",
       "      <td>NaN</td>\n",
       "      <td>None</td>\n",
       "      <td>340</td>\n",
       "      <td>mb</td>\n",
       "      <td>[126.2369, 10.1861, 49.04]</td>\n",
       "      <td>126.2369</td>\n",
       "      <td>10.1861</td>\n",
       "      <td>POINT (126.2369 10.1861)</td>\n",
       "    </tr>\n",
       "  </tbody>\n",
       "</table>\n",
       "</div>"
      ],
      "text/plain": [
       "   mag                                   place                    time  \\\n",
       "0  4.4  38 km ENE of Santa Monica, Philippines 2021-11-26 23:14:12.287   \n",
       "1  4.7   28 km NE of Santa Monica, Philippines 2021-11-26 15:47:45.409   \n",
       "\n",
       "                  updated  felt  cdi  mmi alert  sig magType  \\\n",
       "0 2021-12-04 22:50:42.040   NaN  NaN  NaN  None  298      mb   \n",
       "1 2021-11-26 16:23:54.040   NaN  NaN  NaN  None  340      mb   \n",
       "\n",
       "                  coordinates  longitude  latitude                     Point  \n",
       "0  [126.3446, 10.1871, 46.31]   126.3446   10.1871  POINT (126.3446 10.1871)  \n",
       "1  [126.2369, 10.1861, 49.04]   126.2369   10.1861  POINT (126.2369 10.1861)  "
      ]
     },
     "execution_count": 18,
     "metadata": {},
     "output_type": "execute_result"
    }
   ],
   "source": [
    "ph_quakes.head(2)"
   ]
  },
  {
   "cell_type": "code",
   "execution_count": 19,
   "id": "a9530f07",
   "metadata": {
    "ExecuteTime": {
     "end_time": "2021-12-05T19:37:14.438693Z",
     "start_time": "2021-12-05T19:37:14.427853Z"
    }
   },
   "outputs": [],
   "source": [
    "ph_quakes.sort_values(by='time', ascending=False, inplace=True)"
   ]
  },
  {
   "cell_type": "markdown",
   "id": "f94d63ae",
   "metadata": {},
   "source": [
    "- 4.0-4.9\tLight.\t\n",
    "        Noticeable shaking of indoor items, rattling noises. Significant damage unlikely.\n",
    "- 5.0-5.9\tModerate.\n",
    "        Can cause major damage to poorly constructed buildings over small regions. At most slight damage to well-designed buildings.\n",
    "- 6.0-6.9   Strong.\n",
    "        Can be destructive in areas up to about 160 kilometres (100 mi) across in populated areas.\n",
    "- 7.0-7.9\tMajor.\n",
    "        Can cause serious damage over larger areas.\n",
    "- 8.0-8.9\tGreat.\n",
    "        Can cause serious damage in areas several hundred miles across.\n",
    "- 9.0-9.9    Epic.\n",
    "         Devastating in areas several thousand miles across."
   ]
  },
  {
   "cell_type": "code",
   "execution_count": 20,
   "id": "707f391e",
   "metadata": {
    "ExecuteTime": {
     "end_time": "2021-12-05T19:37:17.388719Z",
     "start_time": "2021-12-05T19:37:15.538002Z"
    }
   },
   "outputs": [
    {
     "name": "stderr",
     "output_type": "stream",
     "text": [
      "Matplotlib created a temporary config/cache directory at /tmp/matplotlib-2gb8rbjt because the default path (/home/jjayme/.cache/matplotlib) is not a writable directory; it is highly recommended to set the MPLCONFIGDIR environment variable to a writable directory, in particular to speed up the import of Matplotlib and to better support multiprocessing.\n"
     ]
    },
    {
     "data": {
      "text/plain": [
       "<AxesSubplot:>"
      ]
     },
     "execution_count": 20,
     "metadata": {},
     "output_type": "execute_result"
    },
    {
     "data": {
      "image/png": "[encoded data removed]",
      "text/plain": [
       "<Figure size 432x288 with 1 Axes>"
      ]
     },
     "metadata": {
      "needs_background": "light"
     },
     "output_type": "display_data"
    }
   ],
   "source": [
    "ph_quakes['mag'].hist()"
   ]
  },
  {
   "cell_type": "code",
   "execution_count": 21,
   "id": "31fd063f",
   "metadata": {
    "ExecuteTime": {
     "end_time": "2021-12-05T19:37:17.398980Z",
     "start_time": "2021-12-05T19:37:17.390770Z"
    }
   },
   "outputs": [
    {
     "data": {
      "text/plain": [
       "count    5798.000000\n",
       "mean        4.570697\n",
       "std         0.372625\n",
       "min         4.000000\n",
       "25%         4.300000\n",
       "50%         4.500000\n",
       "75%         4.700000\n",
       "max         7.600000\n",
       "Name: mag, dtype: float64"
      ]
     },
     "execution_count": 21,
     "metadata": {},
     "output_type": "execute_result"
    }
   ],
   "source": [
    "ph_quakes['mag'].describe()"
   ]
  },
  {
   "cell_type": "code",
   "execution_count": 22,
   "id": "dcc0ef19",
   "metadata": {
    "ExecuteTime": {
     "end_time": "2021-12-05T19:37:17.408442Z",
     "start_time": "2021-12-05T19:37:17.400459Z"
    }
   },
   "outputs": [],
   "source": [
    "ph_quakes['light'] = (ph_quakes['mag'] >= 4.0) & (ph_quakes['mag'] < 5.0)\n",
    "ph_quakes['moderate'] = (ph_quakes['mag'] >= 5.0) & (ph_quakes['mag'] < 6.0)\n",
    "ph_quakes['strong'] = (ph_quakes['mag'] >= 6.0) & (ph_quakes['mag'] < 7.0)\n",
    "ph_quakes['major'] = (ph_quakes['mag'] >= 7.0) & (ph_quakes['mag'] < 8.0)"
   ]
  },
  {
   "cell_type": "code",
   "execution_count": 23,
   "id": "e3e8e934",
   "metadata": {
    "ExecuteTime": {
     "end_time": "2021-12-05T19:37:17.545678Z",
     "start_time": "2021-12-05T19:37:17.524463Z"
    }
   },
   "outputs": [],
   "source": [
    "light_df = ph_quakes[ph_quakes['light']==1]\n",
    "moderate_df = ph_quakes[ph_quakes['moderate']==1]\n",
    "strong_df = ph_quakes[ph_quakes['strong']==1]\n",
    "major_df = ph_quakes[ph_quakes['major']==1]"
   ]
  },
  {
   "cell_type": "code",
   "execution_count": 24,
   "id": "bf955134",
   "metadata": {
    "ExecuteTime": {
     "end_time": "2021-12-05T19:37:18.230799Z",
     "start_time": "2021-12-05T19:37:18.221201Z"
    }
   },
   "outputs": [
    {
     "data": {
      "text/plain": [
       "((5100, 18), (644, 18), (47, 18), (7, 18))"
      ]
     },
     "execution_count": 24,
     "metadata": {},
     "output_type": "execute_result"
    }
   ],
   "source": [
    "light_df.shape, moderate_df.shape, strong_df.shape, major_df.shape"
   ]
  },
  {
   "cell_type": "code",
   "execution_count": 25,
   "id": "97e04b2f",
   "metadata": {
    "ExecuteTime": {
     "end_time": "2021-12-05T19:37:18.837782Z",
     "start_time": "2021-12-05T19:37:18.801326Z"
    }
   },
   "outputs": [],
   "source": [
    "coords = list()\n",
    "for lng, lt in ph_quakes['coordinates'].apply(lambda x: x[:2]):\n",
    "    d1 = {'lat': None, 'long': None}\n",
    "    d1['lat'] = lt\n",
    "    d1['long'] =lng\n",
    "    coords.append(d1)\n",
    "import json\n",
    "json_all = json.dumps(coords)"
   ]
  },
  {
   "cell_type": "code",
   "execution_count": 26,
   "id": "a038ace1",
   "metadata": {
    "ExecuteTime": {
     "end_time": "2021-12-05T19:37:19.449354Z",
     "start_time": "2021-12-05T19:37:19.339609Z"
    }
   },
   "outputs": [],
   "source": [
    "coords = list()\n",
    "for lng, lt in light_df['coordinates'].apply(lambda x: x[:2]):\n",
    "    d1 = {'lat': None, 'long': None}\n",
    "    d1['lat'] = lt\n",
    "    d1['long'] =lng\n",
    "    coords.append(d1)\n",
    "import json\n",
    "json_light = json.dumps(coords)\n",
    "\n",
    "\n",
    "coords = list()\n",
    "for lng, lt in moderate_df['coordinates'].apply(lambda x: x[:2]):\n",
    "    d1 = {'lat': None, 'long': None}\n",
    "    d1['lat'] = lt\n",
    "    d1['long'] =lng\n",
    "    coords.append(d1)\n",
    "import json\n",
    "json_moderate = json.dumps(coords)\n",
    "\n",
    "coords = list()\n",
    "for lng, lt in strong_df['coordinates'].apply(lambda x: x[:2]):\n",
    "    d1 = {'lat': None, 'long': None}\n",
    "    d1['lat'] = lt\n",
    "    d1['long'] =lng\n",
    "    coords.append(d1)\n",
    "import json\n",
    "json_strong = json.dumps(coords)\n",
    "\n",
    "\n",
    "coords = list()\n",
    "for lng, lt in major_df['coordinates'].apply(lambda x: x[:2]):\n",
    "    d1 = {'lat': None, 'long': None}\n",
    "    d1['lat'] = lt\n",
    "    d1['long'] =lng\n",
    "    coords.append(d1)\n",
    "import json\n",
    "json_major = json.dumps(coords)"
   ]
  },
  {
   "cell_type": "markdown",
   "id": "2d1b51e4",
   "metadata": {},
   "source": [
    "# Cities and Municipalities affected from Epicenter"
   ]
  },
  {
   "cell_type": "markdown",
   "id": "ad589569",
   "metadata": {},
   "source": [
    "# Strong - 100km"
   ]
  },
  {
   "cell_type": "code",
   "execution_count": 27,
   "id": "89cfeaf1",
   "metadata": {
    "ExecuteTime": {
     "end_time": "2021-12-05T19:37:45.523312Z",
     "start_time": "2021-12-05T19:37:23.634371Z"
    }
   },
   "outputs": [],
   "source": [
    "df_strong_affected = gpd.read_postgis(\"\"\"\n",
    "  with epicenter as (\n",
    "  SELECT ST_transform(ST_SetSRID(ST_MakePoint(long, lat), 4326), 3123) as point,\n",
    "  ROW_NUMBER() OVER (ORDER BY (SELECT 1)) AS id\n",
    "  FROM json_to_recordset(%s) AS z(long double precision, lat double precision)\n",
    "  )\n",
    "  \n",
    "  select g.*, ha.point, ha.id\n",
    "  from gadm.ph as g\n",
    "  JOIN epicenter ha\n",
    "  ON ST_DWITHIN(ha.point, st_transform(g.geom, 3123), 100000)\n",
    "  \"\"\", params = (json_strong,), con=conn, geom_col='geom')"
   ]
  },
  {
   "cell_type": "code",
   "execution_count": 28,
   "id": "737baac5",
   "metadata": {
    "ExecuteTime": {
     "end_time": "2021-12-05T19:37:45.552307Z",
     "start_time": "2021-12-05T19:37:45.526710Z"
    }
   },
   "outputs": [
    {
     "data": {
      "text/html": [
       "<div>\n",
       "<style scoped>\n",
       "    .dataframe tbody tr th:only-of-type {\n",
       "        vertical-align: middle;\n",
       "    }\n",
       "\n",
       "    .dataframe tbody tr th {\n",
       "        vertical-align: top;\n",
       "    }\n",
       "\n",
       "    .dataframe thead th {\n",
       "        text-align: right;\n",
       "    }\n",
       "</style>\n",
       "<table border=\"1\" class=\"dataframe\">\n",
       "  <thead>\n",
       "    <tr style=\"text-align: right;\">\n",
       "      <th></th>\n",
       "      <th>gid</th>\n",
       "      <th>gid_0</th>\n",
       "      <th>name_0</th>\n",
       "      <th>gid_1</th>\n",
       "      <th>name_1</th>\n",
       "      <th>nl_name_1</th>\n",
       "      <th>gid_2</th>\n",
       "      <th>name_2</th>\n",
       "      <th>varname_2</th>\n",
       "      <th>nl_name_2</th>\n",
       "      <th>type_2</th>\n",
       "      <th>engtype_2</th>\n",
       "      <th>cc_2</th>\n",
       "      <th>hasc_2</th>\n",
       "      <th>geom</th>\n",
       "      <th>point</th>\n",
       "      <th>id</th>\n",
       "    </tr>\n",
       "  </thead>\n",
       "  <tbody>\n",
       "    <tr>\n",
       "      <th>0</th>\n",
       "      <td>1514</td>\n",
       "      <td>PHL</td>\n",
       "      <td>Philippines</td>\n",
       "      <td>PHL.75_1</td>\n",
       "      <td>Surigao del Sur</td>\n",
       "      <td>None</td>\n",
       "      <td>PHL.75.1_1</td>\n",
       "      <td>Barobo</td>\n",
       "      <td>None</td>\n",
       "      <td>None</td>\n",
       "      <td>Bayan|Munisipyo</td>\n",
       "      <td>Municipality</td>\n",
       "      <td>166801</td>\n",
       "      <td>PH.SS.BR</td>\n",
       "      <td>MULTIPOLYGON (((126.17639 8.56222, 126.17611 8...</td>\n",
       "      <td>0101000020330C00007B872B28C68530419D5E7F6AA8AD...</td>\n",
       "      <td>5</td>\n",
       "    </tr>\n",
       "    <tr>\n",
       "      <th>1</th>\n",
       "      <td>1514</td>\n",
       "      <td>PHL</td>\n",
       "      <td>Philippines</td>\n",
       "      <td>PHL.75_1</td>\n",
       "      <td>Surigao del Sur</td>\n",
       "      <td>None</td>\n",
       "      <td>PHL.75.1_1</td>\n",
       "      <td>Barobo</td>\n",
       "      <td>None</td>\n",
       "      <td>None</td>\n",
       "      <td>Bayan|Munisipyo</td>\n",
       "      <td>Municipality</td>\n",
       "      <td>166801</td>\n",
       "      <td>PH.SS.BR</td>\n",
       "      <td>MULTIPOLYGON (((126.17639 8.56222, 126.17611 8...</td>\n",
       "      <td>0101000020330C0000B071CF25AF4A30418704E073A93C...</td>\n",
       "      <td>38</td>\n",
       "    </tr>\n",
       "  </tbody>\n",
       "</table>\n",
       "</div>"
      ],
      "text/plain": [
       "    gid gid_0       name_0     gid_1           name_1 nl_name_1       gid_2  \\\n",
       "0  1514   PHL  Philippines  PHL.75_1  Surigao del Sur      None  PHL.75.1_1   \n",
       "1  1514   PHL  Philippines  PHL.75_1  Surigao del Sur      None  PHL.75.1_1   \n",
       "\n",
       "   name_2 varname_2 nl_name_2           type_2     engtype_2    cc_2  \\\n",
       "0  Barobo      None      None  Bayan|Munisipyo  Municipality  166801   \n",
       "1  Barobo      None      None  Bayan|Munisipyo  Municipality  166801   \n",
       "\n",
       "     hasc_2                                               geom  \\\n",
       "0  PH.SS.BR  MULTIPOLYGON (((126.17639 8.56222, 126.17611 8...   \n",
       "1  PH.SS.BR  MULTIPOLYGON (((126.17639 8.56222, 126.17611 8...   \n",
       "\n",
       "                                               point  id  \n",
       "0  0101000020330C00007B872B28C68530419D5E7F6AA8AD...   5  \n",
       "1  0101000020330C0000B071CF25AF4A30418704E073A93C...  38  "
      ]
     },
     "execution_count": 28,
     "metadata": {},
     "output_type": "execute_result"
    }
   ],
   "source": [
    "df_strong_affected.head(2)"
   ]
  },
  {
   "cell_type": "code",
   "execution_count": 29,
   "id": "96206979",
   "metadata": {
    "ExecuteTime": {
     "end_time": "2021-12-05T19:37:45.618867Z",
     "start_time": "2021-12-05T19:37:45.553935Z"
    }
   },
   "outputs": [],
   "source": [
    "ids= strong_df.reset_index(drop=True).index\n",
    "strong_df['id'] = ids\n",
    "strong_eq_cities_affected = df_strong_affected.merge(strong_df, on = 'id')"
   ]
  },
  {
   "cell_type": "code",
   "execution_count": 30,
   "id": "4dba8f4c",
   "metadata": {
    "ExecuteTime": {
     "end_time": "2021-12-05T19:37:45.645990Z",
     "start_time": "2021-12-05T19:37:45.621696Z"
    }
   },
   "outputs": [
    {
     "data": {
      "text/html": [
       "<div>\n",
       "<style scoped>\n",
       "    .dataframe tbody tr th:only-of-type {\n",
       "        vertical-align: middle;\n",
       "    }\n",
       "\n",
       "    .dataframe tbody tr th {\n",
       "        vertical-align: top;\n",
       "    }\n",
       "\n",
       "    .dataframe thead th {\n",
       "        text-align: right;\n",
       "    }\n",
       "</style>\n",
       "<table border=\"1\" class=\"dataframe\">\n",
       "  <thead>\n",
       "    <tr style=\"text-align: right;\">\n",
       "      <th></th>\n",
       "      <th>gid</th>\n",
       "      <th>gid_0</th>\n",
       "      <th>name_0</th>\n",
       "      <th>gid_1</th>\n",
       "      <th>name_1</th>\n",
       "      <th>nl_name_1</th>\n",
       "      <th>gid_2</th>\n",
       "      <th>name_2</th>\n",
       "      <th>varname_2</th>\n",
       "      <th>nl_name_2</th>\n",
       "      <th>...</th>\n",
       "      <th>sig</th>\n",
       "      <th>magType</th>\n",
       "      <th>coordinates</th>\n",
       "      <th>longitude</th>\n",
       "      <th>latitude</th>\n",
       "      <th>Point</th>\n",
       "      <th>light</th>\n",
       "      <th>moderate</th>\n",
       "      <th>strong</th>\n",
       "      <th>major</th>\n",
       "    </tr>\n",
       "  </thead>\n",
       "  <tbody>\n",
       "    <tr>\n",
       "      <th>0</th>\n",
       "      <td>1514</td>\n",
       "      <td>PHL</td>\n",
       "      <td>Philippines</td>\n",
       "      <td>PHL.75_1</td>\n",
       "      <td>Surigao del Sur</td>\n",
       "      <td>None</td>\n",
       "      <td>PHL.75.1_1</td>\n",
       "      <td>Barobo</td>\n",
       "      <td>None</td>\n",
       "      <td>None</td>\n",
       "      <td>...</td>\n",
       "      <td>634</td>\n",
       "      <td>mww</td>\n",
       "      <td>[125.8285, 6.2693, 120]</td>\n",
       "      <td>125.8285</td>\n",
       "      <td>6.2693</td>\n",
       "      <td>POINT (125.8285 6.2693)</td>\n",
       "      <td>False</td>\n",
       "      <td>False</td>\n",
       "      <td>True</td>\n",
       "      <td>False</td>\n",
       "    </tr>\n",
       "    <tr>\n",
       "      <th>1</th>\n",
       "      <td>28</td>\n",
       "      <td>PHL</td>\n",
       "      <td>Philippines</td>\n",
       "      <td>PHL.2_1</td>\n",
       "      <td>Agusan del Norte</td>\n",
       "      <td>None</td>\n",
       "      <td>PHL.2.1_1</td>\n",
       "      <td>Buenavista</td>\n",
       "      <td>None</td>\n",
       "      <td>None</td>\n",
       "      <td>...</td>\n",
       "      <td>634</td>\n",
       "      <td>mww</td>\n",
       "      <td>[125.8285, 6.2693, 120]</td>\n",
       "      <td>125.8285</td>\n",
       "      <td>6.2693</td>\n",
       "      <td>POINT (125.8285 6.2693)</td>\n",
       "      <td>False</td>\n",
       "      <td>False</td>\n",
       "      <td>True</td>\n",
       "      <td>False</td>\n",
       "    </tr>\n",
       "    <tr>\n",
       "      <th>2</th>\n",
       "      <td>33</td>\n",
       "      <td>PHL</td>\n",
       "      <td>Philippines</td>\n",
       "      <td>PHL.2_1</td>\n",
       "      <td>Agusan del Norte</td>\n",
       "      <td>None</td>\n",
       "      <td>PHL.2.6_1</td>\n",
       "      <td>Kitcharao</td>\n",
       "      <td>None</td>\n",
       "      <td>None</td>\n",
       "      <td>...</td>\n",
       "      <td>634</td>\n",
       "      <td>mww</td>\n",
       "      <td>[125.8285, 6.2693, 120]</td>\n",
       "      <td>125.8285</td>\n",
       "      <td>6.2693</td>\n",
       "      <td>POINT (125.8285 6.2693)</td>\n",
       "      <td>False</td>\n",
       "      <td>False</td>\n",
       "      <td>True</td>\n",
       "      <td>False</td>\n",
       "    </tr>\n",
       "    <tr>\n",
       "      <th>3</th>\n",
       "      <td>29</td>\n",
       "      <td>PHL</td>\n",
       "      <td>Philippines</td>\n",
       "      <td>PHL.2_1</td>\n",
       "      <td>Agusan del Norte</td>\n",
       "      <td>None</td>\n",
       "      <td>PHL.2.2_1</td>\n",
       "      <td>Butuan City</td>\n",
       "      <td>None</td>\n",
       "      <td>None</td>\n",
       "      <td>...</td>\n",
       "      <td>634</td>\n",
       "      <td>mww</td>\n",
       "      <td>[125.8285, 6.2693, 120]</td>\n",
       "      <td>125.8285</td>\n",
       "      <td>6.2693</td>\n",
       "      <td>POINT (125.8285 6.2693)</td>\n",
       "      <td>False</td>\n",
       "      <td>False</td>\n",
       "      <td>True</td>\n",
       "      <td>False</td>\n",
       "    </tr>\n",
       "    <tr>\n",
       "      <th>4</th>\n",
       "      <td>30</td>\n",
       "      <td>PHL</td>\n",
       "      <td>Philippines</td>\n",
       "      <td>PHL.2_1</td>\n",
       "      <td>Agusan del Norte</td>\n",
       "      <td>None</td>\n",
       "      <td>PHL.2.3_1</td>\n",
       "      <td>Cabadbaran City</td>\n",
       "      <td>None</td>\n",
       "      <td>None</td>\n",
       "      <td>...</td>\n",
       "      <td>634</td>\n",
       "      <td>mww</td>\n",
       "      <td>[125.8285, 6.2693, 120]</td>\n",
       "      <td>125.8285</td>\n",
       "      <td>6.2693</td>\n",
       "      <td>POINT (125.8285 6.2693)</td>\n",
       "      <td>False</td>\n",
       "      <td>False</td>\n",
       "      <td>True</td>\n",
       "      <td>False</td>\n",
       "    </tr>\n",
       "  </tbody>\n",
       "</table>\n",
       "<p>5 rows × 35 columns</p>\n",
       "</div>"
      ],
      "text/plain": [
       "    gid gid_0       name_0     gid_1            name_1 nl_name_1       gid_2  \\\n",
       "0  1514   PHL  Philippines  PHL.75_1   Surigao del Sur      None  PHL.75.1_1   \n",
       "1    28   PHL  Philippines   PHL.2_1  Agusan del Norte      None   PHL.2.1_1   \n",
       "2    33   PHL  Philippines   PHL.2_1  Agusan del Norte      None   PHL.2.6_1   \n",
       "3    29   PHL  Philippines   PHL.2_1  Agusan del Norte      None   PHL.2.2_1   \n",
       "4    30   PHL  Philippines   PHL.2_1  Agusan del Norte      None   PHL.2.3_1   \n",
       "\n",
       "            name_2 varname_2 nl_name_2  ...  sig magType  \\\n",
       "0           Barobo      None      None  ...  634     mww   \n",
       "1       Buenavista      None      None  ...  634     mww   \n",
       "2        Kitcharao      None      None  ...  634     mww   \n",
       "3      Butuan City      None      None  ...  634     mww   \n",
       "4  Cabadbaran City      None      None  ...  634     mww   \n",
       "\n",
       "               coordinates longitude latitude                    Point  light  \\\n",
       "0  [125.8285, 6.2693, 120]  125.8285   6.2693  POINT (125.8285 6.2693)  False   \n",
       "1  [125.8285, 6.2693, 120]  125.8285   6.2693  POINT (125.8285 6.2693)  False   \n",
       "2  [125.8285, 6.2693, 120]  125.8285   6.2693  POINT (125.8285 6.2693)  False   \n",
       "3  [125.8285, 6.2693, 120]  125.8285   6.2693  POINT (125.8285 6.2693)  False   \n",
       "4  [125.8285, 6.2693, 120]  125.8285   6.2693  POINT (125.8285 6.2693)  False   \n",
       "\n",
       "   moderate strong  major  \n",
       "0     False   True  False  \n",
       "1     False   True  False  \n",
       "2     False   True  False  \n",
       "3     False   True  False  \n",
       "4     False   True  False  \n",
       "\n",
       "[5 rows x 35 columns]"
      ]
     },
     "execution_count": 30,
     "metadata": {},
     "output_type": "execute_result"
    }
   ],
   "source": [
    "strong_eq_cities_affected.head()"
   ]
  },
  {
   "cell_type": "code",
   "execution_count": 31,
   "id": "e09272d6",
   "metadata": {
    "ExecuteTime": {
     "end_time": "2021-12-05T19:37:45.654611Z",
     "start_time": "2021-12-05T19:37:45.648094Z"
    }
   },
   "outputs": [
    {
     "data": {
      "text/plain": [
       "(2926, 35)"
      ]
     },
     "execution_count": 31,
     "metadata": {},
     "output_type": "execute_result"
    }
   ],
   "source": [
    "strong_eq_cities_affected.shape"
   ]
  },
  {
   "cell_type": "markdown",
   "id": "1442b800",
   "metadata": {
    "ExecuteTime": {
     "end_time": "2021-12-05T19:05:02.433883Z",
     "start_time": "2021-12-05T19:05:02.404701Z"
    }
   },
   "source": [
    "# Major - 200km"
   ]
  },
  {
   "cell_type": "code",
   "execution_count": 32,
   "id": "ebc8db2c",
   "metadata": {
    "ExecuteTime": {
     "end_time": "2021-12-05T19:37:49.876473Z",
     "start_time": "2021-12-05T19:37:45.659287Z"
    }
   },
   "outputs": [],
   "source": [
    "df_major_affected = gpd.read_postgis(\"\"\"\n",
    "  with epicenter as (\n",
    "  SELECT ST_transform(ST_SetSRID(ST_MakePoint(long, lat), 4326), 3123) as point,\n",
    "  ROW_NUMBER() OVER (ORDER BY (SELECT 1)) AS id\n",
    "  FROM json_to_recordset(%s) AS z(long double precision, lat double precision)\n",
    "  )\n",
    "  \n",
    "  select g.*, ha.point, ha.id\n",
    "  from gadm.ph as g\n",
    "  JOIN epicenter ha\n",
    "  ON ST_DWITHIN(ha.point, st_transform(g.geom, 3123), 200000)\n",
    "  \"\"\", params = (json_major,), con=conn, geom_col='geom')"
   ]
  },
  {
   "cell_type": "code",
   "execution_count": 33,
   "id": "067af6a3",
   "metadata": {
    "ExecuteTime": {
     "end_time": "2021-12-05T19:37:49.883217Z",
     "start_time": "2021-12-05T19:37:49.878193Z"
    }
   },
   "outputs": [
    {
     "data": {
      "text/plain": [
       "(1387, 17)"
      ]
     },
     "execution_count": 33,
     "metadata": {},
     "output_type": "execute_result"
    }
   ],
   "source": [
    "df_major_affected.shape"
   ]
  },
  {
   "cell_type": "code",
   "execution_count": 34,
   "id": "0d069338",
   "metadata": {
    "ExecuteTime": {
     "end_time": "2021-12-05T19:37:49.902245Z",
     "start_time": "2021-12-05T19:37:49.884983Z"
    }
   },
   "outputs": [
    {
     "data": {
      "text/html": [
       "<div>\n",
       "<style scoped>\n",
       "    .dataframe tbody tr th:only-of-type {\n",
       "        vertical-align: middle;\n",
       "    }\n",
       "\n",
       "    .dataframe tbody tr th {\n",
       "        vertical-align: top;\n",
       "    }\n",
       "\n",
       "    .dataframe thead th {\n",
       "        text-align: right;\n",
       "    }\n",
       "</style>\n",
       "<table border=\"1\" class=\"dataframe\">\n",
       "  <thead>\n",
       "    <tr style=\"text-align: right;\">\n",
       "      <th></th>\n",
       "      <th>mag</th>\n",
       "      <th>place</th>\n",
       "      <th>time</th>\n",
       "      <th>updated</th>\n",
       "      <th>felt</th>\n",
       "      <th>cdi</th>\n",
       "      <th>mmi</th>\n",
       "      <th>alert</th>\n",
       "      <th>sig</th>\n",
       "      <th>magType</th>\n",
       "      <th>coordinates</th>\n",
       "      <th>longitude</th>\n",
       "      <th>latitude</th>\n",
       "      <th>Point</th>\n",
       "      <th>light</th>\n",
       "      <th>moderate</th>\n",
       "      <th>strong</th>\n",
       "      <th>major</th>\n",
       "      <th>id</th>\n",
       "    </tr>\n",
       "  </thead>\n",
       "  <tbody>\n",
       "    <tr>\n",
       "      <th>198</th>\n",
       "      <td>7.1</td>\n",
       "      <td>60 km ENE of Pondaguitan, Philippines</td>\n",
       "      <td>2021-08-11 17:46:13.143</td>\n",
       "      <td>2021-12-04 06:24:52.059</td>\n",
       "      <td>77.0</td>\n",
       "      <td>9.1</td>\n",
       "      <td>6.777</td>\n",
       "      <td>green</td>\n",
       "      <td>846</td>\n",
       "      <td>mww</td>\n",
       "      <td>[126.7151, 6.4748, 55.14]</td>\n",
       "      <td>126.7151</td>\n",
       "      <td>6.4748</td>\n",
       "      <td>POINT (126.7151 6.4748)</td>\n",
       "      <td>False</td>\n",
       "      <td>False</td>\n",
       "      <td>False</td>\n",
       "      <td>True</td>\n",
       "      <td>0</td>\n",
       "    </tr>\n",
       "    <tr>\n",
       "      <th>1833</th>\n",
       "      <td>7.0</td>\n",
       "      <td>96 km ESE of Pondaguitan, Philippines</td>\n",
       "      <td>2018-12-29 03:39:09.740</td>\n",
       "      <td>2021-05-14 10:00:23.756</td>\n",
       "      <td>95.0</td>\n",
       "      <td>5.2</td>\n",
       "      <td>5.220</td>\n",
       "      <td>green</td>\n",
       "      <td>803</td>\n",
       "      <td>mww</td>\n",
       "      <td>[126.9209, 5.8983, 60.21]</td>\n",
       "      <td>126.9209</td>\n",
       "      <td>5.8983</td>\n",
       "      <td>POINT (126.9209 5.8983)</td>\n",
       "      <td>False</td>\n",
       "      <td>False</td>\n",
       "      <td>False</td>\n",
       "      <td>True</td>\n",
       "      <td>1</td>\n",
       "    </tr>\n",
       "  </tbody>\n",
       "</table>\n",
       "</div>"
      ],
      "text/plain": [
       "      mag                                  place                    time  \\\n",
       "198   7.1  60 km ENE of Pondaguitan, Philippines 2021-08-11 17:46:13.143   \n",
       "1833  7.0  96 km ESE of Pondaguitan, Philippines 2018-12-29 03:39:09.740   \n",
       "\n",
       "                     updated  felt  cdi    mmi  alert  sig magType  \\\n",
       "198  2021-12-04 06:24:52.059  77.0  9.1  6.777  green  846     mww   \n",
       "1833 2021-05-14 10:00:23.756  95.0  5.2  5.220  green  803     mww   \n",
       "\n",
       "                    coordinates  longitude  latitude                    Point  \\\n",
       "198   [126.7151, 6.4748, 55.14]   126.7151    6.4748  POINT (126.7151 6.4748)   \n",
       "1833  [126.9209, 5.8983, 60.21]   126.9209    5.8983  POINT (126.9209 5.8983)   \n",
       "\n",
       "      light  moderate  strong  major  id  \n",
       "198   False     False   False   True   0  \n",
       "1833  False     False   False   True   1  "
      ]
     },
     "execution_count": 34,
     "metadata": {},
     "output_type": "execute_result"
    }
   ],
   "source": [
    "ids= major_df.reset_index(drop=True).index\n",
    "major_df['id'] = ids\n",
    "major_df.head(2)"
   ]
  },
  {
   "cell_type": "code",
   "execution_count": 35,
   "id": "56fa9e77",
   "metadata": {
    "ExecuteTime": {
     "end_time": "2021-12-05T19:37:49.913855Z",
     "start_time": "2021-12-05T19:37:49.904368Z"
    }
   },
   "outputs": [],
   "source": [
    "major_eq_cities_affected = df_major_affected.merge(major_df, on = 'id')"
   ]
  },
  {
   "cell_type": "code",
   "execution_count": 36,
   "id": "2bb8e281",
   "metadata": {
    "ExecuteTime": {
     "end_time": "2021-12-05T19:37:49.934884Z",
     "start_time": "2021-12-05T19:37:49.916685Z"
    }
   },
   "outputs": [
    {
     "data": {
      "text/html": [
       "<div>\n",
       "<style scoped>\n",
       "    .dataframe tbody tr th:only-of-type {\n",
       "        vertical-align: middle;\n",
       "    }\n",
       "\n",
       "    .dataframe tbody tr th {\n",
       "        vertical-align: top;\n",
       "    }\n",
       "\n",
       "    .dataframe thead th {\n",
       "        text-align: right;\n",
       "    }\n",
       "</style>\n",
       "<table border=\"1\" class=\"dataframe\">\n",
       "  <thead>\n",
       "    <tr style=\"text-align: right;\">\n",
       "      <th></th>\n",
       "      <th>gid</th>\n",
       "      <th>gid_0</th>\n",
       "      <th>name_0</th>\n",
       "      <th>gid_1</th>\n",
       "      <th>name_1</th>\n",
       "      <th>nl_name_1</th>\n",
       "      <th>gid_2</th>\n",
       "      <th>name_2</th>\n",
       "      <th>varname_2</th>\n",
       "      <th>nl_name_2</th>\n",
       "      <th>...</th>\n",
       "      <th>sig</th>\n",
       "      <th>magType</th>\n",
       "      <th>coordinates</th>\n",
       "      <th>longitude</th>\n",
       "      <th>latitude</th>\n",
       "      <th>Point</th>\n",
       "      <th>light</th>\n",
       "      <th>moderate</th>\n",
       "      <th>strong</th>\n",
       "      <th>major</th>\n",
       "    </tr>\n",
       "  </thead>\n",
       "  <tbody>\n",
       "    <tr>\n",
       "      <th>0</th>\n",
       "      <td>28</td>\n",
       "      <td>PHL</td>\n",
       "      <td>Philippines</td>\n",
       "      <td>PHL.2_1</td>\n",
       "      <td>Agusan del Norte</td>\n",
       "      <td>None</td>\n",
       "      <td>PHL.2.1_1</td>\n",
       "      <td>Buenavista</td>\n",
       "      <td>None</td>\n",
       "      <td>None</td>\n",
       "      <td>...</td>\n",
       "      <td>1115</td>\n",
       "      <td>mww</td>\n",
       "      <td>[126.638, 10.811, 28]</td>\n",
       "      <td>126.638</td>\n",
       "      <td>10.811</td>\n",
       "      <td>POINT (126.638 10.811)</td>\n",
       "      <td>False</td>\n",
       "      <td>False</td>\n",
       "      <td>False</td>\n",
       "      <td>True</td>\n",
       "    </tr>\n",
       "    <tr>\n",
       "      <th>1</th>\n",
       "      <td>33</td>\n",
       "      <td>PHL</td>\n",
       "      <td>Philippines</td>\n",
       "      <td>PHL.2_1</td>\n",
       "      <td>Agusan del Norte</td>\n",
       "      <td>None</td>\n",
       "      <td>PHL.2.6_1</td>\n",
       "      <td>Kitcharao</td>\n",
       "      <td>None</td>\n",
       "      <td>None</td>\n",
       "      <td>...</td>\n",
       "      <td>1115</td>\n",
       "      <td>mww</td>\n",
       "      <td>[126.638, 10.811, 28]</td>\n",
       "      <td>126.638</td>\n",
       "      <td>10.811</td>\n",
       "      <td>POINT (126.638 10.811)</td>\n",
       "      <td>False</td>\n",
       "      <td>False</td>\n",
       "      <td>False</td>\n",
       "      <td>True</td>\n",
       "    </tr>\n",
       "  </tbody>\n",
       "</table>\n",
       "<p>2 rows × 35 columns</p>\n",
       "</div>"
      ],
      "text/plain": [
       "   gid gid_0       name_0    gid_1            name_1 nl_name_1      gid_2  \\\n",
       "0   28   PHL  Philippines  PHL.2_1  Agusan del Norte      None  PHL.2.1_1   \n",
       "1   33   PHL  Philippines  PHL.2_1  Agusan del Norte      None  PHL.2.6_1   \n",
       "\n",
       "       name_2 varname_2 nl_name_2  ...   sig magType            coordinates  \\\n",
       "0  Buenavista      None      None  ...  1115     mww  [126.638, 10.811, 28]   \n",
       "1   Kitcharao      None      None  ...  1115     mww  [126.638, 10.811, 28]   \n",
       "\n",
       "  longitude latitude                   Point  light  moderate strong major  \n",
       "0   126.638   10.811  POINT (126.638 10.811)  False     False  False  True  \n",
       "1   126.638   10.811  POINT (126.638 10.811)  False     False  False  True  \n",
       "\n",
       "[2 rows x 35 columns]"
      ]
     },
     "execution_count": 36,
     "metadata": {},
     "output_type": "execute_result"
    }
   ],
   "source": [
    "major_eq_cities_affected.head(2)"
   ]
  },
  {
   "cell_type": "markdown",
   "id": "1fcb3b5b",
   "metadata": {},
   "source": [
    "# Moderate - 20 km"
   ]
  },
  {
   "cell_type": "code",
   "execution_count": 37,
   "id": "7d19dc8f",
   "metadata": {
    "ExecuteTime": {
     "end_time": "2021-12-05T19:42:01.569832Z",
     "start_time": "2021-12-05T19:37:49.936226Z"
    }
   },
   "outputs": [],
   "source": [
    "df_moderate_affected = gpd.read_postgis(\"\"\"\n",
    "  with epicenter as (\n",
    "  SELECT ST_transform(ST_SetSRID(ST_MakePoint(long, lat), 4326), 3123) as point,\n",
    "  ROW_NUMBER() OVER (ORDER BY (SELECT 1)) AS id\n",
    "  FROM json_to_recordset(%s) AS z(long double precision, lat double precision)\n",
    "  )\n",
    "  \n",
    "  select g.*, ha.point, ha.id\n",
    "  from gadm.ph as g\n",
    "  JOIN epicenter ha\n",
    "  ON ST_DWITHIN(ha.point, st_transform(g.geom, 3123), 20000)\n",
    "  \"\"\", params = (json_moderate,), con=conn, geom_col='geom')"
   ]
  },
  {
   "cell_type": "code",
   "execution_count": 38,
   "id": "ea3e3483",
   "metadata": {
    "ExecuteTime": {
     "end_time": "2021-12-05T19:42:01.578214Z",
     "start_time": "2021-12-05T19:42:01.572092Z"
    }
   },
   "outputs": [
    {
     "data": {
      "text/plain": [
       "(2240, 17)"
      ]
     },
     "execution_count": 38,
     "metadata": {},
     "output_type": "execute_result"
    }
   ],
   "source": [
    "df_moderate_affected.shape"
   ]
  },
  {
   "cell_type": "code",
   "execution_count": 39,
   "id": "d2eea34e",
   "metadata": {
    "ExecuteTime": {
     "end_time": "2021-12-05T19:42:01.596723Z",
     "start_time": "2021-12-05T19:42:01.579689Z"
    }
   },
   "outputs": [],
   "source": [
    "ids= moderate_df.reset_index(drop=True).index\n",
    "moderate_df['id'] = ids\n",
    "moderate_eq_cities_affected = df_moderate_affected.merge(moderate_df, on = 'id')"
   ]
  },
  {
   "cell_type": "code",
   "execution_count": 40,
   "id": "ce90b25d",
   "metadata": {
    "ExecuteTime": {
     "end_time": "2021-12-05T19:42:01.618744Z",
     "start_time": "2021-12-05T19:42:01.598909Z"
    }
   },
   "outputs": [
    {
     "data": {
      "text/html": [
       "<div>\n",
       "<style scoped>\n",
       "    .dataframe tbody tr th:only-of-type {\n",
       "        vertical-align: middle;\n",
       "    }\n",
       "\n",
       "    .dataframe tbody tr th {\n",
       "        vertical-align: top;\n",
       "    }\n",
       "\n",
       "    .dataframe thead th {\n",
       "        text-align: right;\n",
       "    }\n",
       "</style>\n",
       "<table border=\"1\" class=\"dataframe\">\n",
       "  <thead>\n",
       "    <tr style=\"text-align: right;\">\n",
       "      <th></th>\n",
       "      <th>gid</th>\n",
       "      <th>gid_0</th>\n",
       "      <th>name_0</th>\n",
       "      <th>gid_1</th>\n",
       "      <th>name_1</th>\n",
       "      <th>nl_name_1</th>\n",
       "      <th>gid_2</th>\n",
       "      <th>name_2</th>\n",
       "      <th>varname_2</th>\n",
       "      <th>nl_name_2</th>\n",
       "      <th>...</th>\n",
       "      <th>sig</th>\n",
       "      <th>magType</th>\n",
       "      <th>coordinates</th>\n",
       "      <th>longitude</th>\n",
       "      <th>latitude</th>\n",
       "      <th>Point</th>\n",
       "      <th>light</th>\n",
       "      <th>moderate</th>\n",
       "      <th>strong</th>\n",
       "      <th>major</th>\n",
       "    </tr>\n",
       "  </thead>\n",
       "  <tbody>\n",
       "    <tr>\n",
       "      <th>0</th>\n",
       "      <td>1</td>\n",
       "      <td>PHL</td>\n",
       "      <td>Philippines</td>\n",
       "      <td>PHL.1_1</td>\n",
       "      <td>Abra</td>\n",
       "      <td>None</td>\n",
       "      <td>PHL.1.1_1</td>\n",
       "      <td>Bangued</td>\n",
       "      <td>None</td>\n",
       "      <td>None</td>\n",
       "      <td>...</td>\n",
       "      <td>474</td>\n",
       "      <td>mww</td>\n",
       "      <td>[119.8464, 16.4895, 37]</td>\n",
       "      <td>119.8464</td>\n",
       "      <td>16.4895</td>\n",
       "      <td>POINT (119.8464 16.4895)</td>\n",
       "      <td>False</td>\n",
       "      <td>True</td>\n",
       "      <td>False</td>\n",
       "      <td>False</td>\n",
       "    </tr>\n",
       "    <tr>\n",
       "      <th>1</th>\n",
       "      <td>6</td>\n",
       "      <td>PHL</td>\n",
       "      <td>Philippines</td>\n",
       "      <td>PHL.1_1</td>\n",
       "      <td>Abra</td>\n",
       "      <td>None</td>\n",
       "      <td>PHL.1.6_1</td>\n",
       "      <td>Danglas</td>\n",
       "      <td>None</td>\n",
       "      <td>None</td>\n",
       "      <td>...</td>\n",
       "      <td>474</td>\n",
       "      <td>mww</td>\n",
       "      <td>[119.8464, 16.4895, 37]</td>\n",
       "      <td>119.8464</td>\n",
       "      <td>16.4895</td>\n",
       "      <td>POINT (119.8464 16.4895)</td>\n",
       "      <td>False</td>\n",
       "      <td>True</td>\n",
       "      <td>False</td>\n",
       "      <td>False</td>\n",
       "    </tr>\n",
       "  </tbody>\n",
       "</table>\n",
       "<p>2 rows × 35 columns</p>\n",
       "</div>"
      ],
      "text/plain": [
       "   gid gid_0       name_0    gid_1 name_1 nl_name_1      gid_2   name_2  \\\n",
       "0    1   PHL  Philippines  PHL.1_1   Abra      None  PHL.1.1_1  Bangued   \n",
       "1    6   PHL  Philippines  PHL.1_1   Abra      None  PHL.1.6_1  Danglas   \n",
       "\n",
       "  varname_2 nl_name_2  ...  sig magType              coordinates longitude  \\\n",
       "0      None      None  ...  474     mww  [119.8464, 16.4895, 37]  119.8464   \n",
       "1      None      None  ...  474     mww  [119.8464, 16.4895, 37]  119.8464   \n",
       "\n",
       "  latitude                     Point  light  moderate strong  major  \n",
       "0  16.4895  POINT (119.8464 16.4895)  False      True  False  False  \n",
       "1  16.4895  POINT (119.8464 16.4895)  False      True  False  False  \n",
       "\n",
       "[2 rows x 35 columns]"
      ]
     },
     "execution_count": 40,
     "metadata": {},
     "output_type": "execute_result"
    }
   ],
   "source": [
    "moderate_eq_cities_affected.head(2)"
   ]
  },
  {
   "cell_type": "markdown",
   "id": "6c1dc21f",
   "metadata": {},
   "source": [
    "# Light - 5 km"
   ]
  },
  {
   "cell_type": "code",
   "execution_count": 41,
   "id": "3390a92a",
   "metadata": {
    "ExecuteTime": {
     "end_time": "2021-12-05T20:14:47.681764Z",
     "start_time": "2021-12-05T19:42:01.620592Z"
    }
   },
   "outputs": [],
   "source": [
    "df_light_affected = gpd.read_postgis(\"\"\"\n",
    "  with epicenter as (\n",
    "  SELECT ST_transform(ST_SetSRID(ST_MakePoint(long, lat), 4326), 3123) as point,\n",
    "  ROW_NUMBER() OVER (ORDER BY (SELECT 1)) AS id\n",
    "  FROM json_to_recordset(%s) AS z(long double precision, lat double precision)\n",
    "  )\n",
    "  \n",
    "  select g.*, ha.point, ha.id\n",
    "  from gadm.ph as g\n",
    "  JOIN epicenter ha\n",
    "  ON ST_DWITHIN(ha.point, st_transform(g.geom, 3123), 5000)\n",
    "  \"\"\", params = (json_light,), con=conn, geom_col='geom')"
   ]
  },
  {
   "cell_type": "code",
   "execution_count": 42,
   "id": "ecd451ac",
   "metadata": {
    "ExecuteTime": {
     "end_time": "2021-12-05T20:14:47.690133Z",
     "start_time": "2021-12-05T20:14:47.685027Z"
    }
   },
   "outputs": [
    {
     "data": {
      "text/plain": [
       "(3803, 17)"
      ]
     },
     "execution_count": 42,
     "metadata": {},
     "output_type": "execute_result"
    }
   ],
   "source": [
    "df_light_affected.shape"
   ]
  },
  {
   "cell_type": "code",
   "execution_count": 43,
   "id": "ff5ce143",
   "metadata": {
    "ExecuteTime": {
     "end_time": "2021-12-05T20:14:47.720770Z",
     "start_time": "2021-12-05T20:14:47.691904Z"
    }
   },
   "outputs": [],
   "source": [
    "ids= light_df.reset_index(drop=True).index\n",
    "light_df['id'] = ids\n",
    "light_eq_cities_affected = df_light_affected.merge(light_df, on = 'id')"
   ]
  },
  {
   "cell_type": "code",
   "execution_count": 44,
   "id": "9d7ca151",
   "metadata": {
    "ExecuteTime": {
     "end_time": "2021-12-05T20:14:47.742859Z",
     "start_time": "2021-12-05T20:14:47.723759Z"
    }
   },
   "outputs": [],
   "source": [
    "df_all_affected = pd.concat([light_eq_cities_affected, moderate_eq_cities_affected,\n",
    "          strong_eq_cities_affected, major_eq_cities_affected])"
   ]
  },
  {
   "cell_type": "code",
   "execution_count": 45,
   "id": "e36b5af2",
   "metadata": {
    "ExecuteTime": {
     "end_time": "2021-12-05T20:15:05.641252Z",
     "start_time": "2021-12-05T20:14:47.744673Z"
    }
   },
   "outputs": [],
   "source": [
    "df_all_affected.to_csv('affected_areas_v1.csv')"
   ]
  },
  {
   "cell_type": "code",
   "execution_count": 46,
   "id": "473ed8d8",
   "metadata": {
    "ExecuteTime": {
     "end_time": "2021-12-05T20:17:07.422576Z",
     "start_time": "2021-12-05T20:17:07.414293Z"
    }
   },
   "outputs": [
    {
     "data": {
      "text/plain": [
       "(10092, 35)"
      ]
     },
     "execution_count": 46,
     "metadata": {},
     "output_type": "execute_result"
    }
   ],
   "source": [
    "df_all_affected.shape"
   ]
  },
  {
   "cell_type": "code",
   "execution_count": 47,
   "id": "db183eb0",
   "metadata": {
    "ExecuteTime": {
     "end_time": "2021-12-06T05:40:50.566763Z",
     "start_time": "2021-12-06T05:40:50.522978Z"
    }
   },
   "outputs": [
    {
     "data": {
      "text/html": [
       "<div>\n",
       "<style scoped>\n",
       "    .dataframe tbody tr th:only-of-type {\n",
       "        vertical-align: middle;\n",
       "    }\n",
       "\n",
       "    .dataframe tbody tr th {\n",
       "        vertical-align: top;\n",
       "    }\n",
       "\n",
       "    .dataframe thead th {\n",
       "        text-align: right;\n",
       "    }\n",
       "</style>\n",
       "<table border=\"1\" class=\"dataframe\">\n",
       "  <thead>\n",
       "    <tr style=\"text-align: right;\">\n",
       "      <th></th>\n",
       "      <th>gid</th>\n",
       "      <th>gid_0</th>\n",
       "      <th>name_0</th>\n",
       "      <th>gid_1</th>\n",
       "      <th>name_1</th>\n",
       "      <th>nl_name_1</th>\n",
       "      <th>gid_2</th>\n",
       "      <th>name_2</th>\n",
       "      <th>varname_2</th>\n",
       "      <th>nl_name_2</th>\n",
       "      <th>...</th>\n",
       "      <th>sig</th>\n",
       "      <th>magType</th>\n",
       "      <th>coordinates</th>\n",
       "      <th>longitude</th>\n",
       "      <th>latitude</th>\n",
       "      <th>Point</th>\n",
       "      <th>light</th>\n",
       "      <th>moderate</th>\n",
       "      <th>strong</th>\n",
       "      <th>major</th>\n",
       "    </tr>\n",
       "  </thead>\n",
       "  <tbody>\n",
       "    <tr>\n",
       "      <th>0</th>\n",
       "      <td>3</td>\n",
       "      <td>PHL</td>\n",
       "      <td>Philippines</td>\n",
       "      <td>PHL.1_1</td>\n",
       "      <td>Abra</td>\n",
       "      <td>None</td>\n",
       "      <td>PHL.1.3_1</td>\n",
       "      <td>Bucay</td>\n",
       "      <td>None</td>\n",
       "      <td>None</td>\n",
       "      <td>...</td>\n",
       "      <td>326</td>\n",
       "      <td>mb</td>\n",
       "      <td>[125.704, 6.176, 122.7]</td>\n",
       "      <td>125.704</td>\n",
       "      <td>6.176</td>\n",
       "      <td>POINT (125.704 6.176)</td>\n",
       "      <td>True</td>\n",
       "      <td>False</td>\n",
       "      <td>False</td>\n",
       "      <td>False</td>\n",
       "    </tr>\n",
       "    <tr>\n",
       "      <th>1</th>\n",
       "      <td>7</td>\n",
       "      <td>PHL</td>\n",
       "      <td>Philippines</td>\n",
       "      <td>PHL.1_1</td>\n",
       "      <td>Abra</td>\n",
       "      <td>None</td>\n",
       "      <td>PHL.1.7_1</td>\n",
       "      <td>Dolores</td>\n",
       "      <td>None</td>\n",
       "      <td>None</td>\n",
       "      <td>...</td>\n",
       "      <td>326</td>\n",
       "      <td>mb</td>\n",
       "      <td>[125.704, 6.176, 122.7]</td>\n",
       "      <td>125.704</td>\n",
       "      <td>6.176</td>\n",
       "      <td>POINT (125.704 6.176)</td>\n",
       "      <td>True</td>\n",
       "      <td>False</td>\n",
       "      <td>False</td>\n",
       "      <td>False</td>\n",
       "    </tr>\n",
       "    <tr>\n",
       "      <th>2</th>\n",
       "      <td>10</td>\n",
       "      <td>PHL</td>\n",
       "      <td>Philippines</td>\n",
       "      <td>PHL.1_1</td>\n",
       "      <td>Abra</td>\n",
       "      <td>None</td>\n",
       "      <td>PHL.1.10_1</td>\n",
       "      <td>Lagangilang</td>\n",
       "      <td>None</td>\n",
       "      <td>None</td>\n",
       "      <td>...</td>\n",
       "      <td>326</td>\n",
       "      <td>mb</td>\n",
       "      <td>[125.704, 6.176, 122.7]</td>\n",
       "      <td>125.704</td>\n",
       "      <td>6.176</td>\n",
       "      <td>POINT (125.704 6.176)</td>\n",
       "      <td>True</td>\n",
       "      <td>False</td>\n",
       "      <td>False</td>\n",
       "      <td>False</td>\n",
       "    </tr>\n",
       "    <tr>\n",
       "      <th>3</th>\n",
       "      <td>22</td>\n",
       "      <td>PHL</td>\n",
       "      <td>Philippines</td>\n",
       "      <td>PHL.1_1</td>\n",
       "      <td>Abra</td>\n",
       "      <td>None</td>\n",
       "      <td>PHL.1.22_1</td>\n",
       "      <td>San Juan</td>\n",
       "      <td>None</td>\n",
       "      <td>None</td>\n",
       "      <td>...</td>\n",
       "      <td>326</td>\n",
       "      <td>mb</td>\n",
       "      <td>[125.704, 6.176, 122.7]</td>\n",
       "      <td>125.704</td>\n",
       "      <td>6.176</td>\n",
       "      <td>POINT (125.704 6.176)</td>\n",
       "      <td>True</td>\n",
       "      <td>False</td>\n",
       "      <td>False</td>\n",
       "      <td>False</td>\n",
       "    </tr>\n",
       "    <tr>\n",
       "      <th>4</th>\n",
       "      <td>24</td>\n",
       "      <td>PHL</td>\n",
       "      <td>Philippines</td>\n",
       "      <td>PHL.1_1</td>\n",
       "      <td>Abra</td>\n",
       "      <td>None</td>\n",
       "      <td>PHL.1.24_1</td>\n",
       "      <td>Tayum</td>\n",
       "      <td>None</td>\n",
       "      <td>None</td>\n",
       "      <td>...</td>\n",
       "      <td>326</td>\n",
       "      <td>mb</td>\n",
       "      <td>[125.704, 6.176, 122.7]</td>\n",
       "      <td>125.704</td>\n",
       "      <td>6.176</td>\n",
       "      <td>POINT (125.704 6.176)</td>\n",
       "      <td>True</td>\n",
       "      <td>False</td>\n",
       "      <td>False</td>\n",
       "      <td>False</td>\n",
       "    </tr>\n",
       "  </tbody>\n",
       "</table>\n",
       "<p>5 rows × 35 columns</p>\n",
       "</div>"
      ],
      "text/plain": [
       "   gid gid_0       name_0    gid_1 name_1 nl_name_1       gid_2       name_2  \\\n",
       "0    3   PHL  Philippines  PHL.1_1   Abra      None   PHL.1.3_1        Bucay   \n",
       "1    7   PHL  Philippines  PHL.1_1   Abra      None   PHL.1.7_1      Dolores   \n",
       "2   10   PHL  Philippines  PHL.1_1   Abra      None  PHL.1.10_1  Lagangilang   \n",
       "3   22   PHL  Philippines  PHL.1_1   Abra      None  PHL.1.22_1     San Juan   \n",
       "4   24   PHL  Philippines  PHL.1_1   Abra      None  PHL.1.24_1        Tayum   \n",
       "\n",
       "  varname_2 nl_name_2  ...  sig magType              coordinates longitude  \\\n",
       "0      None      None  ...  326      mb  [125.704, 6.176, 122.7]   125.704   \n",
       "1      None      None  ...  326      mb  [125.704, 6.176, 122.7]   125.704   \n",
       "2      None      None  ...  326      mb  [125.704, 6.176, 122.7]   125.704   \n",
       "3      None      None  ...  326      mb  [125.704, 6.176, 122.7]   125.704   \n",
       "4      None      None  ...  326      mb  [125.704, 6.176, 122.7]   125.704   \n",
       "\n",
       "  latitude                  Point  light  moderate strong  major  \n",
       "0    6.176  POINT (125.704 6.176)   True     False  False  False  \n",
       "1    6.176  POINT (125.704 6.176)   True     False  False  False  \n",
       "2    6.176  POINT (125.704 6.176)   True     False  False  False  \n",
       "3    6.176  POINT (125.704 6.176)   True     False  False  False  \n",
       "4    6.176  POINT (125.704 6.176)   True     False  False  False  \n",
       "\n",
       "[5 rows x 35 columns]"
      ]
     },
     "execution_count": 47,
     "metadata": {},
     "output_type": "execute_result"
    }
   ],
   "source": [
    "df_all_affected.head()"
   ]
  },
  {
   "cell_type": "code",
   "execution_count": 48,
   "id": "ab9c443d",
   "metadata": {
    "ExecuteTime": {
     "end_time": "2021-12-06T05:41:06.961431Z",
     "start_time": "2021-12-06T05:41:06.953705Z"
    }
   },
   "outputs": [
    {
     "data": {
      "text/plain": [
       "Index(['gid', 'gid_0', 'name_0', 'gid_1', 'name_1', 'nl_name_1', 'gid_2',\n",
       "       'name_2', 'varname_2', 'nl_name_2', 'type_2', 'engtype_2', 'cc_2',\n",
       "       'hasc_2', 'geom', 'point', 'id', 'mag', 'place', 'time', 'updated',\n",
       "       'felt', 'cdi', 'mmi', 'alert', 'sig', 'magType', 'coordinates',\n",
       "       'longitude', 'latitude', 'Point', 'light', 'moderate', 'strong',\n",
       "       'major'],\n",
       "      dtype='object')"
      ]
     },
     "execution_count": 48,
     "metadata": {},
     "output_type": "execute_result"
    }
   ],
   "source": [
    "df_all_affected.columns"
   ]
  },
  {
   "cell_type": "code",
   "execution_count": 49,
   "id": "df9d958f",
   "metadata": {
    "ExecuteTime": {
     "end_time": "2021-12-06T05:48:18.332455Z",
     "start_time": "2021-12-06T05:48:18.293887Z"
    }
   },
   "outputs": [],
   "source": [
    "features = ['name_0', 'name_1', 'name_2', 'geom', 'point', 'coordinates','mag', 'place', 'time', 'updated',\n",
    "       'felt', 'cdi', 'mmi', 'alert', 'sig', 'magType', 'coordinates',\n",
    "       'longitude', 'latitude', 'Point', 'light', 'moderate', 'strong',\n",
    "       'major']\n",
    "df_new = df_all_affected[features]"
   ]
  },
  {
   "cell_type": "code",
   "execution_count": 51,
   "id": "bcd7633d",
   "metadata": {
    "ExecuteTime": {
     "end_time": "2021-12-06T05:56:38.612245Z",
     "start_time": "2021-12-06T05:56:38.572893Z"
    }
   },
   "outputs": [
    {
     "data": {
      "text/html": [
       "<div>\n",
       "<style scoped>\n",
       "    .dataframe tbody tr th:only-of-type {\n",
       "        vertical-align: middle;\n",
       "    }\n",
       "\n",
       "    .dataframe tbody tr th {\n",
       "        vertical-align: top;\n",
       "    }\n",
       "\n",
       "    .dataframe thead th {\n",
       "        text-align: right;\n",
       "    }\n",
       "</style>\n",
       "<table border=\"1\" class=\"dataframe\">\n",
       "  <thead>\n",
       "    <tr style=\"text-align: right;\">\n",
       "      <th></th>\n",
       "      <th>name_0</th>\n",
       "      <th>name_1</th>\n",
       "      <th>name_2</th>\n",
       "      <th>geom</th>\n",
       "      <th>point</th>\n",
       "      <th>coordinates</th>\n",
       "      <th>mag</th>\n",
       "      <th>place</th>\n",
       "      <th>time</th>\n",
       "      <th>updated</th>\n",
       "      <th>...</th>\n",
       "      <th>sig</th>\n",
       "      <th>magType</th>\n",
       "      <th>coordinates</th>\n",
       "      <th>longitude</th>\n",
       "      <th>latitude</th>\n",
       "      <th>Point</th>\n",
       "      <th>light</th>\n",
       "      <th>moderate</th>\n",
       "      <th>strong</th>\n",
       "      <th>major</th>\n",
       "    </tr>\n",
       "  </thead>\n",
       "  <tbody>\n",
       "    <tr>\n",
       "      <th>0</th>\n",
       "      <td>Philippines</td>\n",
       "      <td>Abra</td>\n",
       "      <td>Bucay</td>\n",
       "      <td>MULTIPOLYGON (((120.70788 17.45395, 120.70621 ...</td>\n",
       "      <td>0101000020330C0000FE0B4B8FA0C71C41BD200D81D2BD...</td>\n",
       "      <td>[125.704, 6.176, 122.7]</td>\n",
       "      <td>4.6</td>\n",
       "      <td>3 km N of Lapuan, Philippines</td>\n",
       "      <td>2012-07-29 03:27:50</td>\n",
       "      <td>2014-11-07 01:48:24.913</td>\n",
       "      <td>...</td>\n",
       "      <td>326</td>\n",
       "      <td>mb</td>\n",
       "      <td>[125.704, 6.176, 122.7]</td>\n",
       "      <td>125.704</td>\n",
       "      <td>6.176</td>\n",
       "      <td>POINT (125.704 6.176)</td>\n",
       "      <td>True</td>\n",
       "      <td>False</td>\n",
       "      <td>False</td>\n",
       "      <td>False</td>\n",
       "    </tr>\n",
       "    <tr>\n",
       "      <th>1</th>\n",
       "      <td>Philippines</td>\n",
       "      <td>Abra</td>\n",
       "      <td>Dolores</td>\n",
       "      <td>MULTIPOLYGON (((120.70375 17.62533, 120.70188 ...</td>\n",
       "      <td>0101000020330C0000FE0B4B8FA0C71C41BD200D81D2BD...</td>\n",
       "      <td>[125.704, 6.176, 122.7]</td>\n",
       "      <td>4.6</td>\n",
       "      <td>3 km N of Lapuan, Philippines</td>\n",
       "      <td>2012-07-29 03:27:50</td>\n",
       "      <td>2014-11-07 01:48:24.913</td>\n",
       "      <td>...</td>\n",
       "      <td>326</td>\n",
       "      <td>mb</td>\n",
       "      <td>[125.704, 6.176, 122.7]</td>\n",
       "      <td>125.704</td>\n",
       "      <td>6.176</td>\n",
       "      <td>POINT (125.704 6.176)</td>\n",
       "      <td>True</td>\n",
       "      <td>False</td>\n",
       "      <td>False</td>\n",
       "      <td>False</td>\n",
       "    </tr>\n",
       "  </tbody>\n",
       "</table>\n",
       "<p>2 rows × 24 columns</p>\n",
       "</div>"
      ],
      "text/plain": [
       "        name_0 name_1   name_2  \\\n",
       "0  Philippines   Abra    Bucay   \n",
       "1  Philippines   Abra  Dolores   \n",
       "\n",
       "                                                geom  \\\n",
       "0  MULTIPOLYGON (((120.70788 17.45395, 120.70621 ...   \n",
       "1  MULTIPOLYGON (((120.70375 17.62533, 120.70188 ...   \n",
       "\n",
       "                                               point              coordinates  \\\n",
       "0  0101000020330C0000FE0B4B8FA0C71C41BD200D81D2BD...  [125.704, 6.176, 122.7]   \n",
       "1  0101000020330C0000FE0B4B8FA0C71C41BD200D81D2BD...  [125.704, 6.176, 122.7]   \n",
       "\n",
       "   mag                          place                time  \\\n",
       "0  4.6  3 km N of Lapuan, Philippines 2012-07-29 03:27:50   \n",
       "1  4.6  3 km N of Lapuan, Philippines 2012-07-29 03:27:50   \n",
       "\n",
       "                  updated  ...  sig  magType              coordinates  \\\n",
       "0 2014-11-07 01:48:24.913  ...  326       mb  [125.704, 6.176, 122.7]   \n",
       "1 2014-11-07 01:48:24.913  ...  326       mb  [125.704, 6.176, 122.7]   \n",
       "\n",
       "  longitude  latitude                  Point light  moderate  strong  major  \n",
       "0   125.704     6.176  POINT (125.704 6.176)  True     False   False  False  \n",
       "1   125.704     6.176  POINT (125.704 6.176)  True     False   False  False  \n",
       "\n",
       "[2 rows x 24 columns]"
      ]
     },
     "execution_count": 51,
     "metadata": {},
     "output_type": "execute_result"
    }
   ],
   "source": [
    "df_new.head(2)"
   ]
  },
  {
   "cell_type": "code",
   "execution_count": 57,
   "id": "f2505bff",
   "metadata": {
    "ExecuteTime": {
     "end_time": "2021-12-06T06:00:33.500168Z",
     "start_time": "2021-12-06T06:00:33.478112Z"
    }
   },
   "outputs": [],
   "source": [
    "df_new['light'] = df_new['light'].astype(int)\n",
    "df_new['moderate'] = df_new['moderate'].astype(int)\n",
    "df_new['strong'] = df_new['strong'].astype(int)\n",
    "df_new['major'] = df_new['major'].astype(int)"
   ]
  },
  {
   "cell_type": "code",
   "execution_count": 61,
   "id": "ff070836",
   "metadata": {
    "ExecuteTime": {
     "end_time": "2021-12-06T06:02:10.437960Z",
     "start_time": "2021-12-06T06:02:10.400895Z"
    }
   },
   "outputs": [
    {
     "data": {
      "text/plain": [
       "name_2        name_1              year\n",
       "Abra de Ilog  Occidental Mindoro  2011    5.075000\n",
       "                                  2012    5.366667\n",
       "                                  2014    4.700000\n",
       "                                  2015    4.750000\n",
       "                                  2016    4.675000\n",
       "                                            ...   \n",
       "Zarraga       Iloilo              2012    7.600000\n",
       "Zumarraga     Samar               2012    4.500000\n",
       "                                  2017    6.000000\n",
       "                                  2019    6.100000\n",
       "                                  2020    6.400000\n",
       "Name: mag, Length: 5090, dtype: float64"
      ]
     },
     "execution_count": 61,
     "metadata": {},
     "output_type": "execute_result"
    }
   ],
   "source": [
    "df_new['year'] = df_new['time'].dt.year\n",
    "df_new.groupby(['name_2', 'name_1', 'year'])['mag'].mean()"
   ]
  },
  {
   "cell_type": "code",
   "execution_count": 62,
   "id": "f34ef439",
   "metadata": {
    "ExecuteTime": {
     "end_time": "2021-12-06T06:02:54.315487Z",
     "start_time": "2021-12-06T06:02:36.254117Z"
    }
   },
   "outputs": [],
   "source": [
    "df_new.to_csv('cleaned_affected_areas_eq.csv')"
   ]
  }
 ],
 "metadata": {
  "kernelspec": {
   "display_name": "Python 3 (ipykernel)",
   "language": "python",
   "name": "python3"
  },
  "language_info": {
   "codemirror_mode": {
    "name": "ipython",
    "version": 3
   },
   "file_extension": ".py",
   "mimetype": "text/x-python",
   "name": "python",
   "nbconvert_exporter": "python",
   "pygments_lexer": "ipython3",
   "version": "3.9.13"
  },
  "toc": {
   "base_numbering": 1,
   "nav_menu": {},
   "number_sections": false,
   "sideBar": true,
   "skip_h1_title": false,
   "title_cell": "Table of Contents",
   "title_sidebar": "Contents",
   "toc_cell": false,
   "toc_position": {},
   "toc_section_display": true,
   "toc_window_display": false
  }
 },
 "nbformat": 4,
 "nbformat_minor": 5
}
