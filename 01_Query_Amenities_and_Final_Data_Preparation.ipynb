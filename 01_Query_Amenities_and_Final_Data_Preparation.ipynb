{
 "cells": [
  {
   "cell_type": "code",
   "execution_count": 1,
   "id": "4622d0e3",
   "metadata": {
    "ExecuteTime": {
     "end_time": "2021-12-06T09:42:01.557533Z",
     "start_time": "2021-12-06T09:42:00.487426Z"
    }
   },
   "outputs": [],
   "source": [
    "import requests\n",
    "import json\n",
    "import bs4\n",
    "import pandas as pd\n",
    "import datetime\n",
    "import sqlite3\n",
    "import ast\n",
    "import warnings\n",
    "\n",
    "from geopy.geocoders import Nominatim\n",
    "from datetime import datetime\n",
    "\n",
    "warnings.filterwarnings('ignore')"
   ]
  },
  {
   "cell_type": "code",
   "execution_count": 2,
   "id": "7401654d",
   "metadata": {
    "ExecuteTime": {
     "end_time": "2021-12-06T09:42:01.836471Z",
     "start_time": "2021-12-06T09:42:01.559925Z"
    }
   },
   "outputs": [],
   "source": [
    "import geopandas as gpd\n",
    "import psycopg2\n",
    "from shapely.geometry import Point, LineString, Polygon"
   ]
  },
  {
   "cell_type": "code",
   "execution_count": 3,
   "id": "c42ba08c",
   "metadata": {
    "ExecuteTime": {
     "end_time": "2021-12-06T09:42:01.849310Z",
     "start_time": "2021-12-06T09:42:01.840957Z"
    }
   },
   "outputs": [],
   "source": [
    "conn = psycopg2.connect(dbname=\"postgis\", \n",
    "                 user=\"gsa2022\", \n",
    "                 password=\"g5!V%T1Vmd\", \n",
    "                 host=\"192.168.212.99\", \n",
    "                 port=32771)"
   ]
  },
  {
   "cell_type": "markdown",
   "id": "ddb8cc96",
   "metadata": {},
   "source": [
    "# Goals\n",
    "If there are more amenities in an area, it could mean more damage in the infrastructures when a strong earthquake strikes. This notebook would focus on data preparation to be used in the analysis. Number of hospitals, schools and the top 20 amenities by counts will be explored per municipality.\n",
    "\n",
    "\n",
    "## Amenities count of all affected areas\n",
    "\n",
    "1. Number of hospitals\n",
    "2. Number of schools\n",
    "3. All top 20 amenities"
   ]
  },
  {
   "cell_type": "code",
   "execution_count": 4,
   "id": "48fe6afd",
   "metadata": {
    "ExecuteTime": {
     "end_time": "2021-12-06T09:42:02.551542Z",
     "start_time": "2021-12-06T09:42:01.853410Z"
    }
   },
   "outputs": [],
   "source": [
    "df_new= pd.read_csv('cleaned_affected_areas_eq.csv')"
   ]
  },
  {
   "cell_type": "code",
   "execution_count": 5,
   "id": "6973928b",
   "metadata": {
    "ExecuteTime": {
     "end_time": "2021-12-06T09:42:02.586141Z",
     "start_time": "2021-12-06T09:42:02.554034Z"
    }
   },
   "outputs": [
    {
     "data": {
      "text/html": [
       "<div>\n",
       "<style scoped>\n",
       "    .dataframe tbody tr th:only-of-type {\n",
       "        vertical-align: middle;\n",
       "    }\n",
       "\n",
       "    .dataframe tbody tr th {\n",
       "        vertical-align: top;\n",
       "    }\n",
       "\n",
       "    .dataframe thead th {\n",
       "        text-align: right;\n",
       "    }\n",
       "</style>\n",
       "<table border=\"1\" class=\"dataframe\">\n",
       "  <thead>\n",
       "    <tr style=\"text-align: right;\">\n",
       "      <th></th>\n",
       "      <th>Unnamed: 0</th>\n",
       "      <th>name_0</th>\n",
       "      <th>name_1</th>\n",
       "      <th>name_2</th>\n",
       "      <th>geom</th>\n",
       "      <th>point</th>\n",
       "      <th>coordinates</th>\n",
       "      <th>mag</th>\n",
       "      <th>place</th>\n",
       "      <th>time</th>\n",
       "      <th>...</th>\n",
       "      <th>magType</th>\n",
       "      <th>coordinates.1</th>\n",
       "      <th>longitude</th>\n",
       "      <th>latitude</th>\n",
       "      <th>Point</th>\n",
       "      <th>light</th>\n",
       "      <th>moderate</th>\n",
       "      <th>strong</th>\n",
       "      <th>major</th>\n",
       "      <th>year</th>\n",
       "    </tr>\n",
       "  </thead>\n",
       "  <tbody>\n",
       "    <tr>\n",
       "      <th>0</th>\n",
       "      <td>0</td>\n",
       "      <td>Philippines</td>\n",
       "      <td>Abra</td>\n",
       "      <td>Bucay</td>\n",
       "      <td>MULTIPOLYGON (((120.70787811 17.45395088, 120....</td>\n",
       "      <td>0101000020330C0000FE0B4B8FA0C71C41BD200D81D2BD...</td>\n",
       "      <td>[125.704, 6.176, 122.7]</td>\n",
       "      <td>4.6</td>\n",
       "      <td>3 km N of Lapuan, Philippines</td>\n",
       "      <td>2012-07-29 03:27:50.000</td>\n",
       "      <td>...</td>\n",
       "      <td>mb</td>\n",
       "      <td>[125.704, 6.176, 122.7]</td>\n",
       "      <td>125.704</td>\n",
       "      <td>6.176</td>\n",
       "      <td>POINT (125.704 6.176)</td>\n",
       "      <td>1</td>\n",
       "      <td>0</td>\n",
       "      <td>0</td>\n",
       "      <td>0</td>\n",
       "      <td>2012</td>\n",
       "    </tr>\n",
       "    <tr>\n",
       "      <th>1</th>\n",
       "      <td>1</td>\n",
       "      <td>Philippines</td>\n",
       "      <td>Abra</td>\n",
       "      <td>Dolores</td>\n",
       "      <td>MULTIPOLYGON (((120.70375061 17.62532997, 120....</td>\n",
       "      <td>0101000020330C0000FE0B4B8FA0C71C41BD200D81D2BD...</td>\n",
       "      <td>[125.704, 6.176, 122.7]</td>\n",
       "      <td>4.6</td>\n",
       "      <td>3 km N of Lapuan, Philippines</td>\n",
       "      <td>2012-07-29 03:27:50.000</td>\n",
       "      <td>...</td>\n",
       "      <td>mb</td>\n",
       "      <td>[125.704, 6.176, 122.7]</td>\n",
       "      <td>125.704</td>\n",
       "      <td>6.176</td>\n",
       "      <td>POINT (125.704 6.176)</td>\n",
       "      <td>1</td>\n",
       "      <td>0</td>\n",
       "      <td>0</td>\n",
       "      <td>0</td>\n",
       "      <td>2012</td>\n",
       "    </tr>\n",
       "  </tbody>\n",
       "</table>\n",
       "<p>2 rows × 26 columns</p>\n",
       "</div>"
      ],
      "text/plain": [
       "   Unnamed: 0       name_0 name_1   name_2  \\\n",
       "0           0  Philippines   Abra    Bucay   \n",
       "1           1  Philippines   Abra  Dolores   \n",
       "\n",
       "                                                geom  \\\n",
       "0  MULTIPOLYGON (((120.70787811 17.45395088, 120....   \n",
       "1  MULTIPOLYGON (((120.70375061 17.62532997, 120....   \n",
       "\n",
       "                                               point              coordinates  \\\n",
       "0  0101000020330C0000FE0B4B8FA0C71C41BD200D81D2BD...  [125.704, 6.176, 122.7]   \n",
       "1  0101000020330C0000FE0B4B8FA0C71C41BD200D81D2BD...  [125.704, 6.176, 122.7]   \n",
       "\n",
       "   mag                          place                     time  ... magType  \\\n",
       "0  4.6  3 km N of Lapuan, Philippines  2012-07-29 03:27:50.000  ...      mb   \n",
       "1  4.6  3 km N of Lapuan, Philippines  2012-07-29 03:27:50.000  ...      mb   \n",
       "\n",
       "             coordinates.1  longitude  latitude                  Point  light  \\\n",
       "0  [125.704, 6.176, 122.7]    125.704     6.176  POINT (125.704 6.176)      1   \n",
       "1  [125.704, 6.176, 122.7]    125.704     6.176  POINT (125.704 6.176)      1   \n",
       "\n",
       "  moderate strong  major  year  \n",
       "0        0      0      0  2012  \n",
       "1        0      0      0  2012  \n",
       "\n",
       "[2 rows x 26 columns]"
      ]
     },
     "execution_count": 5,
     "metadata": {},
     "output_type": "execute_result"
    }
   ],
   "source": [
    "df_new.head(2)"
   ]
  },
  {
   "cell_type": "code",
   "execution_count": 6,
   "id": "8cb0b417",
   "metadata": {
    "ExecuteTime": {
     "end_time": "2021-12-06T09:42:02.889170Z",
     "start_time": "2021-12-06T09:42:02.588024Z"
    }
   },
   "outputs": [],
   "source": [
    "#Code Here\n",
    "df_hospital = pd.read_sql(\"\"\"\n",
    "\n",
    "select g.name_1, g.name_2,\n",
    "       count(*) as hospital_count\n",
    "from gadm.ph as g\n",
    "join public.ph_point as p\n",
    "on ST_Within(p.way, g.geom)\n",
    "and p.amenity = 'hospital'\n",
    "group by name_1, name_2\n",
    "\"\"\", conn)\n"
   ]
  },
  {
   "cell_type": "code",
   "execution_count": 7,
   "id": "7a62d638",
   "metadata": {
    "ExecuteTime": {
     "end_time": "2021-12-06T09:42:02.913197Z",
     "start_time": "2021-12-06T09:42:02.894320Z"
    }
   },
   "outputs": [
    {
     "data": {
      "text/html": [
       "<div>\n",
       "<style scoped>\n",
       "    .dataframe tbody tr th:only-of-type {\n",
       "        vertical-align: middle;\n",
       "    }\n",
       "\n",
       "    .dataframe tbody tr th {\n",
       "        vertical-align: top;\n",
       "    }\n",
       "\n",
       "    .dataframe thead th {\n",
       "        text-align: right;\n",
       "    }\n",
       "</style>\n",
       "<table border=\"1\" class=\"dataframe\">\n",
       "  <thead>\n",
       "    <tr style=\"text-align: right;\">\n",
       "      <th></th>\n",
       "      <th>name_1</th>\n",
       "      <th>name_2</th>\n",
       "      <th>hospital_count</th>\n",
       "    </tr>\n",
       "  </thead>\n",
       "  <tbody>\n",
       "    <tr>\n",
       "      <th>0</th>\n",
       "      <td>Agusan del Norte</td>\n",
       "      <td>Butuan City</td>\n",
       "      <td>4</td>\n",
       "    </tr>\n",
       "    <tr>\n",
       "      <th>1</th>\n",
       "      <td>Agusan del Norte</td>\n",
       "      <td>Cabadbaran City</td>\n",
       "      <td>1</td>\n",
       "    </tr>\n",
       "    <tr>\n",
       "      <th>2</th>\n",
       "      <td>Agusan del Sur</td>\n",
       "      <td>Bayugan City</td>\n",
       "      <td>3</td>\n",
       "    </tr>\n",
       "    <tr>\n",
       "      <th>3</th>\n",
       "      <td>Agusan del Sur</td>\n",
       "      <td>Bunawan</td>\n",
       "      <td>1</td>\n",
       "    </tr>\n",
       "    <tr>\n",
       "      <th>4</th>\n",
       "      <td>Agusan del Sur</td>\n",
       "      <td>Esperanza</td>\n",
       "      <td>1</td>\n",
       "    </tr>\n",
       "    <tr>\n",
       "      <th>...</th>\n",
       "      <td>...</td>\n",
       "      <td>...</td>\n",
       "      <td>...</td>\n",
       "    </tr>\n",
       "    <tr>\n",
       "      <th>352</th>\n",
       "      <td>Zambales</td>\n",
       "      <td>Santa Cruz</td>\n",
       "      <td>1</td>\n",
       "    </tr>\n",
       "    <tr>\n",
       "      <th>353</th>\n",
       "      <td>Zambales</td>\n",
       "      <td>Subic</td>\n",
       "      <td>2</td>\n",
       "    </tr>\n",
       "    <tr>\n",
       "      <th>354</th>\n",
       "      <td>Zamboanga del Norte</td>\n",
       "      <td>Dipolog City</td>\n",
       "      <td>4</td>\n",
       "    </tr>\n",
       "    <tr>\n",
       "      <th>355</th>\n",
       "      <td>Zamboanga del Sur</td>\n",
       "      <td>Pagadian City</td>\n",
       "      <td>4</td>\n",
       "    </tr>\n",
       "    <tr>\n",
       "      <th>356</th>\n",
       "      <td>Zamboanga del Sur</td>\n",
       "      <td>Zamboanga City</td>\n",
       "      <td>2</td>\n",
       "    </tr>\n",
       "  </tbody>\n",
       "</table>\n",
       "<p>357 rows × 3 columns</p>\n",
       "</div>"
      ],
      "text/plain": [
       "                  name_1           name_2  hospital_count\n",
       "0       Agusan del Norte      Butuan City               4\n",
       "1       Agusan del Norte  Cabadbaran City               1\n",
       "2         Agusan del Sur     Bayugan City               3\n",
       "3         Agusan del Sur          Bunawan               1\n",
       "4         Agusan del Sur        Esperanza               1\n",
       "..                   ...              ...             ...\n",
       "352             Zambales       Santa Cruz               1\n",
       "353             Zambales            Subic               2\n",
       "354  Zamboanga del Norte     Dipolog City               4\n",
       "355    Zamboanga del Sur    Pagadian City               4\n",
       "356    Zamboanga del Sur   Zamboanga City               2\n",
       "\n",
       "[357 rows x 3 columns]"
      ]
     },
     "execution_count": 7,
     "metadata": {},
     "output_type": "execute_result"
    }
   ],
   "source": [
    "df_hospital"
   ]
  },
  {
   "cell_type": "code",
   "execution_count": 8,
   "id": "e10604f0",
   "metadata": {
    "ExecuteTime": {
     "end_time": "2021-12-06T09:42:03.210165Z",
     "start_time": "2021-12-06T09:42:02.915792Z"
    }
   },
   "outputs": [],
   "source": [
    "#Code Here\n",
    "df_school = pd.read_sql(\"\"\"\n",
    "\n",
    "select g.name_1, g.name_2,\n",
    "       count(*) as school_count\n",
    "from gadm.ph as g\n",
    "join public.ph_point as p\n",
    "on ST_Within(p.way, g.geom)\n",
    "and p.amenity = 'school'\n",
    "group by name_1, name_2\n",
    "\"\"\", conn)\n"
   ]
  },
  {
   "cell_type": "code",
   "execution_count": 9,
   "id": "fe34d3f9",
   "metadata": {
    "ExecuteTime": {
     "end_time": "2021-12-06T09:42:03.231758Z",
     "start_time": "2021-12-06T09:42:03.213852Z"
    }
   },
   "outputs": [
    {
     "data": {
      "text/html": [
       "<div>\n",
       "<style scoped>\n",
       "    .dataframe tbody tr th:only-of-type {\n",
       "        vertical-align: middle;\n",
       "    }\n",
       "\n",
       "    .dataframe tbody tr th {\n",
       "        vertical-align: top;\n",
       "    }\n",
       "\n",
       "    .dataframe thead th {\n",
       "        text-align: right;\n",
       "    }\n",
       "</style>\n",
       "<table border=\"1\" class=\"dataframe\">\n",
       "  <thead>\n",
       "    <tr style=\"text-align: right;\">\n",
       "      <th></th>\n",
       "      <th>name_1</th>\n",
       "      <th>name_2</th>\n",
       "      <th>school_count</th>\n",
       "    </tr>\n",
       "  </thead>\n",
       "  <tbody>\n",
       "    <tr>\n",
       "      <th>0</th>\n",
       "      <td>Occidental Mindoro</td>\n",
       "      <td>Paluan</td>\n",
       "      <td>1</td>\n",
       "    </tr>\n",
       "    <tr>\n",
       "      <th>1</th>\n",
       "      <td>Capiz</td>\n",
       "      <td>Mambusao</td>\n",
       "      <td>3</td>\n",
       "    </tr>\n",
       "    <tr>\n",
       "      <th>2</th>\n",
       "      <td>Ilocos Sur</td>\n",
       "      <td>Sinait</td>\n",
       "      <td>5</td>\n",
       "    </tr>\n",
       "    <tr>\n",
       "      <th>3</th>\n",
       "      <td>Davao Oriental</td>\n",
       "      <td>Governor Generoso</td>\n",
       "      <td>1</td>\n",
       "    </tr>\n",
       "    <tr>\n",
       "      <th>4</th>\n",
       "      <td>Northern Samar</td>\n",
       "      <td>Catarman</td>\n",
       "      <td>10</td>\n",
       "    </tr>\n",
       "    <tr>\n",
       "      <th>...</th>\n",
       "      <td>...</td>\n",
       "      <td>...</td>\n",
       "      <td>...</td>\n",
       "    </tr>\n",
       "    <tr>\n",
       "      <th>978</th>\n",
       "      <td>Bohol</td>\n",
       "      <td>Loboc</td>\n",
       "      <td>3</td>\n",
       "    </tr>\n",
       "    <tr>\n",
       "      <th>979</th>\n",
       "      <td>Capiz</td>\n",
       "      <td>Dumarao</td>\n",
       "      <td>2</td>\n",
       "    </tr>\n",
       "    <tr>\n",
       "      <th>980</th>\n",
       "      <td>Batangas</td>\n",
       "      <td>Lobo</td>\n",
       "      <td>1</td>\n",
       "    </tr>\n",
       "    <tr>\n",
       "      <th>981</th>\n",
       "      <td>Negros Oriental</td>\n",
       "      <td>Bais City</td>\n",
       "      <td>1</td>\n",
       "    </tr>\n",
       "    <tr>\n",
       "      <th>982</th>\n",
       "      <td>Batangas</td>\n",
       "      <td>Alitagtag</td>\n",
       "      <td>7</td>\n",
       "    </tr>\n",
       "  </tbody>\n",
       "</table>\n",
       "<p>983 rows × 3 columns</p>\n",
       "</div>"
      ],
      "text/plain": [
       "                 name_1             name_2  school_count\n",
       "0    Occidental Mindoro             Paluan             1\n",
       "1                 Capiz           Mambusao             3\n",
       "2            Ilocos Sur             Sinait             5\n",
       "3        Davao Oriental  Governor Generoso             1\n",
       "4        Northern Samar           Catarman            10\n",
       "..                  ...                ...           ...\n",
       "978               Bohol              Loboc             3\n",
       "979               Capiz            Dumarao             2\n",
       "980            Batangas               Lobo             1\n",
       "981     Negros Oriental          Bais City             1\n",
       "982            Batangas          Alitagtag             7\n",
       "\n",
       "[983 rows x 3 columns]"
      ]
     },
     "execution_count": 9,
     "metadata": {},
     "output_type": "execute_result"
    }
   ],
   "source": [
    "df_school"
   ]
  },
  {
   "cell_type": "code",
   "execution_count": 10,
   "id": "7f20e3b0",
   "metadata": {
    "ExecuteTime": {
     "end_time": "2021-12-06T09:42:03.300891Z",
     "start_time": "2021-12-06T09:42:03.234450Z"
    }
   },
   "outputs": [
    {
     "data": {
      "text/html": [
       "<div>\n",
       "<style scoped>\n",
       "    .dataframe tbody tr th:only-of-type {\n",
       "        vertical-align: middle;\n",
       "    }\n",
       "\n",
       "    .dataframe tbody tr th {\n",
       "        vertical-align: top;\n",
       "    }\n",
       "\n",
       "    .dataframe thead th {\n",
       "        text-align: right;\n",
       "    }\n",
       "</style>\n",
       "<table border=\"1\" class=\"dataframe\">\n",
       "  <thead>\n",
       "    <tr style=\"text-align: right;\">\n",
       "      <th></th>\n",
       "      <th>amenity</th>\n",
       "      <th>counts</th>\n",
       "    </tr>\n",
       "  </thead>\n",
       "  <tbody>\n",
       "    <tr>\n",
       "      <th>0</th>\n",
       "      <td>restaurant</td>\n",
       "      <td>8869</td>\n",
       "    </tr>\n",
       "    <tr>\n",
       "      <th>1</th>\n",
       "      <td>school</td>\n",
       "      <td>5853</td>\n",
       "    </tr>\n",
       "    <tr>\n",
       "      <th>2</th>\n",
       "      <td>bank</td>\n",
       "      <td>5369</td>\n",
       "    </tr>\n",
       "    <tr>\n",
       "      <th>3</th>\n",
       "      <td>fast_food</td>\n",
       "      <td>5249</td>\n",
       "    </tr>\n",
       "    <tr>\n",
       "      <th>4</th>\n",
       "      <td>place_of_worship</td>\n",
       "      <td>4652</td>\n",
       "    </tr>\n",
       "    <tr>\n",
       "      <th>5</th>\n",
       "      <td>fuel</td>\n",
       "      <td>3799</td>\n",
       "    </tr>\n",
       "    <tr>\n",
       "      <th>6</th>\n",
       "      <td>pharmacy</td>\n",
       "      <td>2956</td>\n",
       "    </tr>\n",
       "    <tr>\n",
       "      <th>7</th>\n",
       "      <td>cafe</td>\n",
       "      <td>2171</td>\n",
       "    </tr>\n",
       "    <tr>\n",
       "      <th>8</th>\n",
       "      <td>parking</td>\n",
       "      <td>1661</td>\n",
       "    </tr>\n",
       "    <tr>\n",
       "      <th>9</th>\n",
       "      <td>bar</td>\n",
       "      <td>1177</td>\n",
       "    </tr>\n",
       "  </tbody>\n",
       "</table>\n",
       "</div>"
      ],
      "text/plain": [
       "            amenity  counts\n",
       "0        restaurant    8869\n",
       "1            school    5853\n",
       "2              bank    5369\n",
       "3         fast_food    5249\n",
       "4  place_of_worship    4652\n",
       "5              fuel    3799\n",
       "6          pharmacy    2956\n",
       "7              cafe    2171\n",
       "8           parking    1661\n",
       "9               bar    1177"
      ]
     },
     "execution_count": 10,
     "metadata": {},
     "output_type": "execute_result"
    }
   ],
   "source": [
    "pd.read_sql(\"\"\"\n",
    "\n",
    "select amenity, count(*) as counts\n",
    "from public.ph_point\n",
    "where amenity is not null\n",
    "group by 1\n",
    "order by 2 desc\n",
    "limit 10\n",
    "\"\"\", con=conn)"
   ]
  },
  {
   "cell_type": "code",
   "execution_count": 11,
   "id": "be507c6b",
   "metadata": {
    "ExecuteTime": {
     "end_time": "2021-12-06T09:42:03.313966Z",
     "start_time": "2021-12-06T09:42:03.304372Z"
    }
   },
   "outputs": [
    {
     "data": {
      "text/plain": [
       "79"
      ]
     },
     "execution_count": 11,
     "metadata": {},
     "output_type": "execute_result"
    }
   ],
   "source": [
    "df_new.name_1.nunique()"
   ]
  },
  {
   "cell_type": "code",
   "execution_count": 60,
   "id": "53cad978",
   "metadata": {
    "ExecuteTime": {
     "end_time": "2021-12-06T09:56:56.313478Z",
     "start_time": "2021-12-06T09:56:36.595704Z"
    }
   },
   "outputs": [],
   "source": [
    "#Counts of all amenities\n",
    "df_all = gpd.read_postgis(\"\"\"\n",
    "select g.name_1, g.name_2, geom, count(*) as amenity_counts\n",
    "from gadm.ph as g\n",
    "join public.ph_point as p\n",
    "on ST_Within(p.way, g.geom)\n",
    "group by name_1, name_2, geom\n",
    "\"\"\", conn)\n"
   ]
  },
  {
   "cell_type": "code",
   "execution_count": 61,
   "id": "0691284a",
   "metadata": {
    "ExecuteTime": {
     "end_time": "2021-12-06T09:56:56.322575Z",
     "start_time": "2021-12-06T09:56:56.316680Z"
    }
   },
   "outputs": [
    {
     "data": {
      "text/plain": [
       "(1633, 4)"
      ]
     },
     "execution_count": 61,
     "metadata": {},
     "output_type": "execute_result"
    }
   ],
   "source": [
    "df_all.shape"
   ]
  },
  {
   "cell_type": "code",
   "execution_count": 62,
   "id": "b92f9cfb",
   "metadata": {
    "ExecuteTime": {
     "end_time": "2021-12-06T09:56:56.350240Z",
     "start_time": "2021-12-06T09:56:56.324187Z"
    }
   },
   "outputs": [
    {
     "data": {
      "text/html": [
       "<div>\n",
       "<style scoped>\n",
       "    .dataframe tbody tr th:only-of-type {\n",
       "        vertical-align: middle;\n",
       "    }\n",
       "\n",
       "    .dataframe tbody tr th {\n",
       "        vertical-align: top;\n",
       "    }\n",
       "\n",
       "    .dataframe thead th {\n",
       "        text-align: right;\n",
       "    }\n",
       "</style>\n",
       "<table border=\"1\" class=\"dataframe\">\n",
       "  <thead>\n",
       "    <tr style=\"text-align: right;\">\n",
       "      <th></th>\n",
       "      <th>name_1</th>\n",
       "      <th>name_2</th>\n",
       "      <th>geom</th>\n",
       "      <th>amenity_counts</th>\n",
       "      <th>school_count</th>\n",
       "      <th>hospital_count</th>\n",
       "    </tr>\n",
       "  </thead>\n",
       "  <tbody>\n",
       "    <tr>\n",
       "      <th>0</th>\n",
       "      <td>Abra</td>\n",
       "      <td>Bangued</td>\n",
       "      <td>MULTIPOLYGON (((120.62710 17.49300, 120.62177 ...</td>\n",
       "      <td>44</td>\n",
       "      <td>2.0</td>\n",
       "      <td>NaN</td>\n",
       "    </tr>\n",
       "    <tr>\n",
       "      <th>1</th>\n",
       "      <td>Abra</td>\n",
       "      <td>Boliney</td>\n",
       "      <td>MULTIPOLYGON (((120.99042 17.39802, 120.98631 ...</td>\n",
       "      <td>9</td>\n",
       "      <td>NaN</td>\n",
       "      <td>NaN</td>\n",
       "    </tr>\n",
       "    <tr>\n",
       "      <th>2</th>\n",
       "      <td>Abra</td>\n",
       "      <td>Bucay</td>\n",
       "      <td>MULTIPOLYGON (((120.70788 17.45395, 120.70621 ...</td>\n",
       "      <td>3</td>\n",
       "      <td>NaN</td>\n",
       "      <td>NaN</td>\n",
       "    </tr>\n",
       "    <tr>\n",
       "      <th>3</th>\n",
       "      <td>Abra</td>\n",
       "      <td>Bucloc</td>\n",
       "      <td>MULTIPOLYGON (((120.78956 17.41699, 120.78922 ...</td>\n",
       "      <td>6</td>\n",
       "      <td>NaN</td>\n",
       "      <td>NaN</td>\n",
       "    </tr>\n",
       "    <tr>\n",
       "      <th>4</th>\n",
       "      <td>Abra</td>\n",
       "      <td>Daguioman</td>\n",
       "      <td>MULTIPOLYGON (((120.92917 17.41307, 120.92464 ...</td>\n",
       "      <td>10</td>\n",
       "      <td>NaN</td>\n",
       "      <td>NaN</td>\n",
       "    </tr>\n",
       "  </tbody>\n",
       "</table>\n",
       "</div>"
      ],
      "text/plain": [
       "  name_1     name_2                                               geom  \\\n",
       "0   Abra    Bangued  MULTIPOLYGON (((120.62710 17.49300, 120.62177 ...   \n",
       "1   Abra    Boliney  MULTIPOLYGON (((120.99042 17.39802, 120.98631 ...   \n",
       "2   Abra      Bucay  MULTIPOLYGON (((120.70788 17.45395, 120.70621 ...   \n",
       "3   Abra     Bucloc  MULTIPOLYGON (((120.78956 17.41699, 120.78922 ...   \n",
       "4   Abra  Daguioman  MULTIPOLYGON (((120.92917 17.41307, 120.92464 ...   \n",
       "\n",
       "   amenity_counts  school_count  hospital_count  \n",
       "0              44           2.0             NaN  \n",
       "1               9           NaN             NaN  \n",
       "2               3           NaN             NaN  \n",
       "3               6           NaN             NaN  \n",
       "4              10           NaN             NaN  "
      ]
     },
     "execution_count": 62,
     "metadata": {},
     "output_type": "execute_result"
    }
   ],
   "source": [
    "data1 = df_all.merge(df_school, on=['name_1', 'name_2'], how='left')\n",
    "data2 = data1.merge(df_hospital, on=['name_1', 'name_2'], how='left')\n",
    "data2.head()"
   ]
  },
  {
   "cell_type": "code",
   "execution_count": 64,
   "id": "cab0ab51",
   "metadata": {
    "ExecuteTime": {
     "end_time": "2021-12-06T09:57:21.574252Z",
     "start_time": "2021-12-06T09:57:21.565580Z"
    }
   },
   "outputs": [
    {
     "data": {
      "text/plain": [
       "Index(['Unnamed: 0', 'name_0', 'name_1', 'name_2', 'geom', 'point',\n",
       "       'coordinates', 'mag', 'place', 'time', 'updated', 'felt', 'cdi', 'mmi',\n",
       "       'alert', 'sig', 'magType', 'coordinates.1', 'longitude', 'latitude',\n",
       "       'Point', 'light', 'moderate', 'strong', 'major', 'year'],\n",
       "      dtype='object')"
      ]
     },
     "execution_count": 64,
     "metadata": {},
     "output_type": "execute_result"
    }
   ],
   "source": [
    "df_new.columns"
   ]
  },
  {
   "cell_type": "code",
   "execution_count": 65,
   "id": "b1019e62",
   "metadata": {
    "ExecuteTime": {
     "end_time": "2021-12-06T09:57:21.901913Z",
     "start_time": "2021-12-06T09:57:21.847315Z"
    }
   },
   "outputs": [
    {
     "data": {
      "text/html": [
       "<div>\n",
       "<style scoped>\n",
       "    .dataframe tbody tr th:only-of-type {\n",
       "        vertical-align: middle;\n",
       "    }\n",
       "\n",
       "    .dataframe tbody tr th {\n",
       "        vertical-align: top;\n",
       "    }\n",
       "\n",
       "    .dataframe thead th {\n",
       "        text-align: right;\n",
       "    }\n",
       "</style>\n",
       "<table border=\"1\" class=\"dataframe\">\n",
       "  <thead>\n",
       "    <tr style=\"text-align: right;\">\n",
       "      <th></th>\n",
       "      <th>name_1</th>\n",
       "      <th>name_2</th>\n",
       "      <th>geom</th>\n",
       "      <th>amenity_counts</th>\n",
       "      <th>school_count</th>\n",
       "      <th>hospital_count</th>\n",
       "    </tr>\n",
       "  </thead>\n",
       "  <tbody>\n",
       "    <tr>\n",
       "      <th>0</th>\n",
       "      <td>Abra</td>\n",
       "      <td>Bangued</td>\n",
       "      <td>MULTIPOLYGON (((120.62710 17.49300, 120.62177 ...</td>\n",
       "      <td>44</td>\n",
       "      <td>2.0</td>\n",
       "      <td>0.0</td>\n",
       "    </tr>\n",
       "    <tr>\n",
       "      <th>1</th>\n",
       "      <td>Abra</td>\n",
       "      <td>Boliney</td>\n",
       "      <td>MULTIPOLYGON (((120.99042 17.39802, 120.98631 ...</td>\n",
       "      <td>9</td>\n",
       "      <td>0.0</td>\n",
       "      <td>0.0</td>\n",
       "    </tr>\n",
       "    <tr>\n",
       "      <th>2</th>\n",
       "      <td>Abra</td>\n",
       "      <td>Bucay</td>\n",
       "      <td>MULTIPOLYGON (((120.70788 17.45395, 120.70621 ...</td>\n",
       "      <td>3</td>\n",
       "      <td>0.0</td>\n",
       "      <td>0.0</td>\n",
       "    </tr>\n",
       "    <tr>\n",
       "      <th>3</th>\n",
       "      <td>Abra</td>\n",
       "      <td>Bucloc</td>\n",
       "      <td>MULTIPOLYGON (((120.78956 17.41699, 120.78922 ...</td>\n",
       "      <td>6</td>\n",
       "      <td>0.0</td>\n",
       "      <td>0.0</td>\n",
       "    </tr>\n",
       "    <tr>\n",
       "      <th>4</th>\n",
       "      <td>Abra</td>\n",
       "      <td>Daguioman</td>\n",
       "      <td>MULTIPOLYGON (((120.92917 17.41307, 120.92464 ...</td>\n",
       "      <td>10</td>\n",
       "      <td>0.0</td>\n",
       "      <td>0.0</td>\n",
       "    </tr>\n",
       "    <tr>\n",
       "      <th>...</th>\n",
       "      <td>...</td>\n",
       "      <td>...</td>\n",
       "      <td>...</td>\n",
       "      <td>...</td>\n",
       "      <td>...</td>\n",
       "      <td>...</td>\n",
       "    </tr>\n",
       "    <tr>\n",
       "      <th>1628</th>\n",
       "      <td>Zamboanga Sibugay</td>\n",
       "      <td>Roseller Lim</td>\n",
       "      <td>MULTIPOLYGON (((122.54519 7.68240, 122.54472 7...</td>\n",
       "      <td>14</td>\n",
       "      <td>0.0</td>\n",
       "      <td>0.0</td>\n",
       "    </tr>\n",
       "    <tr>\n",
       "      <th>1629</th>\n",
       "      <td>Zamboanga Sibugay</td>\n",
       "      <td>Siay</td>\n",
       "      <td>MULTIPOLYGON (((122.81555 7.72806, 122.81500 7...</td>\n",
       "      <td>2</td>\n",
       "      <td>0.0</td>\n",
       "      <td>0.0</td>\n",
       "    </tr>\n",
       "    <tr>\n",
       "      <th>1630</th>\n",
       "      <td>Zamboanga Sibugay</td>\n",
       "      <td>Talusan</td>\n",
       "      <td>MULTIPOLYGON (((122.91917 7.34111, 122.91861 7...</td>\n",
       "      <td>1</td>\n",
       "      <td>0.0</td>\n",
       "      <td>0.0</td>\n",
       "    </tr>\n",
       "    <tr>\n",
       "      <th>1631</th>\n",
       "      <td>Zamboanga Sibugay</td>\n",
       "      <td>Titay</td>\n",
       "      <td>MULTIPOLYGON (((122.59055 7.82854, 122.58292 7...</td>\n",
       "      <td>5</td>\n",
       "      <td>0.0</td>\n",
       "      <td>0.0</td>\n",
       "    </tr>\n",
       "    <tr>\n",
       "      <th>1632</th>\n",
       "      <td>Zamboanga Sibugay</td>\n",
       "      <td>Tungawan</td>\n",
       "      <td>MULTIPOLYGON (((122.41989 7.49679, 122.42042 7...</td>\n",
       "      <td>11</td>\n",
       "      <td>0.0</td>\n",
       "      <td>0.0</td>\n",
       "    </tr>\n",
       "  </tbody>\n",
       "</table>\n",
       "<p>1633 rows × 6 columns</p>\n",
       "</div>"
      ],
      "text/plain": [
       "                 name_1        name_2  \\\n",
       "0                  Abra       Bangued   \n",
       "1                  Abra       Boliney   \n",
       "2                  Abra         Bucay   \n",
       "3                  Abra        Bucloc   \n",
       "4                  Abra     Daguioman   \n",
       "...                 ...           ...   \n",
       "1628  Zamboanga Sibugay  Roseller Lim   \n",
       "1629  Zamboanga Sibugay          Siay   \n",
       "1630  Zamboanga Sibugay       Talusan   \n",
       "1631  Zamboanga Sibugay         Titay   \n",
       "1632  Zamboanga Sibugay      Tungawan   \n",
       "\n",
       "                                                   geom  amenity_counts  \\\n",
       "0     MULTIPOLYGON (((120.62710 17.49300, 120.62177 ...              44   \n",
       "1     MULTIPOLYGON (((120.99042 17.39802, 120.98631 ...               9   \n",
       "2     MULTIPOLYGON (((120.70788 17.45395, 120.70621 ...               3   \n",
       "3     MULTIPOLYGON (((120.78956 17.41699, 120.78922 ...               6   \n",
       "4     MULTIPOLYGON (((120.92917 17.41307, 120.92464 ...              10   \n",
       "...                                                 ...             ...   \n",
       "1628  MULTIPOLYGON (((122.54519 7.68240, 122.54472 7...              14   \n",
       "1629  MULTIPOLYGON (((122.81555 7.72806, 122.81500 7...               2   \n",
       "1630  MULTIPOLYGON (((122.91917 7.34111, 122.91861 7...               1   \n",
       "1631  MULTIPOLYGON (((122.59055 7.82854, 122.58292 7...               5   \n",
       "1632  MULTIPOLYGON (((122.41989 7.49679, 122.42042 7...              11   \n",
       "\n",
       "      school_count  hospital_count  \n",
       "0              2.0             0.0  \n",
       "1              0.0             0.0  \n",
       "2              0.0             0.0  \n",
       "3              0.0             0.0  \n",
       "4              0.0             0.0  \n",
       "...            ...             ...  \n",
       "1628           0.0             0.0  \n",
       "1629           0.0             0.0  \n",
       "1630           0.0             0.0  \n",
       "1631           0.0             0.0  \n",
       "1632           0.0             0.0  \n",
       "\n",
       "[1633 rows x 6 columns]"
      ]
     },
     "execution_count": 65,
     "metadata": {},
     "output_type": "execute_result"
    }
   ],
   "source": [
    "data2.fillna(0)"
   ]
  },
  {
   "cell_type": "code",
   "execution_count": 66,
   "id": "0f5f673c",
   "metadata": {
    "ExecuteTime": {
     "end_time": "2021-12-06T09:57:22.303328Z",
     "start_time": "2021-12-06T09:57:22.267539Z"
    }
   },
   "outputs": [
    {
     "data": {
      "text/html": [
       "<div>\n",
       "<style scoped>\n",
       "    .dataframe tbody tr th:only-of-type {\n",
       "        vertical-align: middle;\n",
       "    }\n",
       "\n",
       "    .dataframe tbody tr th {\n",
       "        vertical-align: top;\n",
       "    }\n",
       "\n",
       "    .dataframe thead th {\n",
       "        text-align: right;\n",
       "    }\n",
       "</style>\n",
       "<table border=\"1\" class=\"dataframe\">\n",
       "  <thead>\n",
       "    <tr style=\"text-align: right;\">\n",
       "      <th></th>\n",
       "      <th>pop</th>\n",
       "      <th>tot_local_sources</th>\n",
       "      <th>tot_tax_revenue</th>\n",
       "      <th>tot_current_oper_income</th>\n",
       "      <th>total_oper_expenses</th>\n",
       "      <th>net_oper_income</th>\n",
       "      <th>total_non_income_receipts</th>\n",
       "      <th>capital_expenditure</th>\n",
       "      <th>total_non_oper_expenditures</th>\n",
       "      <th>cash_balance_end</th>\n",
       "      <th>shp_province</th>\n",
       "      <th>shp_municipality</th>\n",
       "    </tr>\n",
       "  </thead>\n",
       "  <tbody>\n",
       "    <tr>\n",
       "      <th>0</th>\n",
       "      <td>48163.0</td>\n",
       "      <td>74.045920</td>\n",
       "      <td>36.556294</td>\n",
       "      <td>230.577076</td>\n",
       "      <td>206.848717</td>\n",
       "      <td>23.728359</td>\n",
       "      <td>0.0</td>\n",
       "      <td>16.202464</td>\n",
       "      <td>21.181116</td>\n",
       "      <td>15.758681</td>\n",
       "      <td>Abra</td>\n",
       "      <td>Bangued</td>\n",
       "    </tr>\n",
       "    <tr>\n",
       "      <th>1</th>\n",
       "      <td>3573.0</td>\n",
       "      <td>0.115667</td>\n",
       "      <td>0.035633</td>\n",
       "      <td>56.689883</td>\n",
       "      <td>54.409910</td>\n",
       "      <td>2.279973</td>\n",
       "      <td>0.0</td>\n",
       "      <td>0.000000</td>\n",
       "      <td>0.030000</td>\n",
       "      <td>20.369743</td>\n",
       "      <td>Abra</td>\n",
       "      <td>Boliney</td>\n",
       "    </tr>\n",
       "    <tr>\n",
       "      <th>2</th>\n",
       "      <td>17115.0</td>\n",
       "      <td>1.736411</td>\n",
       "      <td>1.019565</td>\n",
       "      <td>93.647242</td>\n",
       "      <td>66.222389</td>\n",
       "      <td>27.424853</td>\n",
       "      <td>0.0</td>\n",
       "      <td>19.560034</td>\n",
       "      <td>20.792182</td>\n",
       "      <td>6.632671</td>\n",
       "      <td>Abra</td>\n",
       "      <td>Bucay</td>\n",
       "    </tr>\n",
       "    <tr>\n",
       "      <th>3</th>\n",
       "      <td>2501.0</td>\n",
       "      <td>0.273689</td>\n",
       "      <td>0.129150</td>\n",
       "      <td>44.789104</td>\n",
       "      <td>29.633181</td>\n",
       "      <td>15.155923</td>\n",
       "      <td>0.0</td>\n",
       "      <td>0.479569</td>\n",
       "      <td>0.656569</td>\n",
       "      <td>24.348356</td>\n",
       "      <td>Abra</td>\n",
       "      <td>Bucloc</td>\n",
       "    </tr>\n",
       "    <tr>\n",
       "      <th>4</th>\n",
       "      <td>2088.0</td>\n",
       "      <td>0.643801</td>\n",
       "      <td>0.277660</td>\n",
       "      <td>51.242322</td>\n",
       "      <td>47.848486</td>\n",
       "      <td>3.393836</td>\n",
       "      <td>0.0</td>\n",
       "      <td>0.000000</td>\n",
       "      <td>0.000000</td>\n",
       "      <td>6.511575</td>\n",
       "      <td>Abra</td>\n",
       "      <td>Daguioman</td>\n",
       "    </tr>\n",
       "  </tbody>\n",
       "</table>\n",
       "</div>"
      ],
      "text/plain": [
       "       pop  tot_local_sources  tot_tax_revenue  tot_current_oper_income  \\\n",
       "0  48163.0          74.045920        36.556294               230.577076   \n",
       "1   3573.0           0.115667         0.035633                56.689883   \n",
       "2  17115.0           1.736411         1.019565                93.647242   \n",
       "3   2501.0           0.273689         0.129150                44.789104   \n",
       "4   2088.0           0.643801         0.277660                51.242322   \n",
       "\n",
       "   total_oper_expenses  net_oper_income  total_non_income_receipts  \\\n",
       "0           206.848717        23.728359                        0.0   \n",
       "1            54.409910         2.279973                        0.0   \n",
       "2            66.222389        27.424853                        0.0   \n",
       "3            29.633181        15.155923                        0.0   \n",
       "4            47.848486         3.393836                        0.0   \n",
       "\n",
       "   capital_expenditure  total_non_oper_expenditures  cash_balance_end  \\\n",
       "0            16.202464                    21.181116         15.758681   \n",
       "1             0.000000                     0.030000         20.369743   \n",
       "2            19.560034                    20.792182          6.632671   \n",
       "3             0.479569                     0.656569         24.348356   \n",
       "4             0.000000                     0.000000          6.511575   \n",
       "\n",
       "  shp_province shp_municipality  \n",
       "0         Abra          Bangued  \n",
       "1         Abra          Boliney  \n",
       "2         Abra            Bucay  \n",
       "3         Abra           Bucloc  \n",
       "4         Abra        Daguioman  "
      ]
     },
     "execution_count": 66,
     "metadata": {},
     "output_type": "execute_result"
    }
   ],
   "source": [
    "finance_df= pd.read_csv(\"financial_pop.csv\")\n",
    "finance_df.head()"
   ]
  },
  {
   "cell_type": "code",
   "execution_count": 67,
   "id": "7ed1acf5",
   "metadata": {
    "ExecuteTime": {
     "end_time": "2021-12-06T09:57:22.829140Z",
     "start_time": "2021-12-06T09:57:22.820106Z"
    }
   },
   "outputs": [
    {
     "data": {
      "text/plain": [
       "Index(['pop', 'tot_local_sources', 'tot_tax_revenue',\n",
       "       'tot_current_oper_income', 'total_oper_expenses', 'net_oper_income',\n",
       "       'total_non_income_receipts', 'capital_expenditure',\n",
       "       'total_non_oper_expenditures', 'cash_balance_end', 'shp_province',\n",
       "       'shp_municipality'],\n",
       "      dtype='object')"
      ]
     },
     "execution_count": 67,
     "metadata": {},
     "output_type": "execute_result"
    }
   ],
   "source": [
    "finance_df.columns"
   ]
  },
  {
   "cell_type": "code",
   "execution_count": 68,
   "id": "bf21a738",
   "metadata": {
    "ExecuteTime": {
     "end_time": "2021-12-06T09:57:23.313286Z",
     "start_time": "2021-12-06T09:57:23.305034Z"
    }
   },
   "outputs": [
    {
     "data": {
      "text/plain": [
       "(1627, 12)"
      ]
     },
     "execution_count": 68,
     "metadata": {},
     "output_type": "execute_result"
    }
   ],
   "source": [
    "finance_df.shape"
   ]
  },
  {
   "cell_type": "code",
   "execution_count": 69,
   "id": "1e66694a",
   "metadata": {
    "ExecuteTime": {
     "end_time": "2021-12-06T09:57:23.893434Z",
     "start_time": "2021-12-06T09:57:23.829039Z"
    }
   },
   "outputs": [
    {
     "data": {
      "text/html": [
       "<div>\n",
       "<style scoped>\n",
       "    .dataframe tbody tr th:only-of-type {\n",
       "        vertical-align: middle;\n",
       "    }\n",
       "\n",
       "    .dataframe tbody tr th {\n",
       "        vertical-align: top;\n",
       "    }\n",
       "\n",
       "    .dataframe thead th {\n",
       "        text-align: right;\n",
       "    }\n",
       "</style>\n",
       "<table border=\"1\" class=\"dataframe\">\n",
       "  <thead>\n",
       "    <tr style=\"text-align: right;\">\n",
       "      <th></th>\n",
       "      <th>name_1</th>\n",
       "      <th>name_2</th>\n",
       "      <th>geom</th>\n",
       "      <th>amenity_counts</th>\n",
       "      <th>school_count</th>\n",
       "      <th>hospital_count</th>\n",
       "      <th>pop</th>\n",
       "      <th>tot_tax_revenue</th>\n",
       "      <th>tot_current_oper_income</th>\n",
       "      <th>shp_province</th>\n",
       "      <th>shp_municipality</th>\n",
       "    </tr>\n",
       "  </thead>\n",
       "  <tbody>\n",
       "    <tr>\n",
       "      <th>0</th>\n",
       "      <td>Abra</td>\n",
       "      <td>Bangued</td>\n",
       "      <td>MULTIPOLYGON (((120.62710 17.49300, 120.62177 ...</td>\n",
       "      <td>44</td>\n",
       "      <td>2.0</td>\n",
       "      <td>0.0</td>\n",
       "      <td>48163.0</td>\n",
       "      <td>36.556294</td>\n",
       "      <td>230.577076</td>\n",
       "      <td>Abra</td>\n",
       "      <td>Bangued</td>\n",
       "    </tr>\n",
       "    <tr>\n",
       "      <th>1</th>\n",
       "      <td>Abra</td>\n",
       "      <td>Boliney</td>\n",
       "      <td>MULTIPOLYGON (((120.99042 17.39802, 120.98631 ...</td>\n",
       "      <td>9</td>\n",
       "      <td>0.0</td>\n",
       "      <td>0.0</td>\n",
       "      <td>3573.0</td>\n",
       "      <td>0.035633</td>\n",
       "      <td>56.689883</td>\n",
       "      <td>Abra</td>\n",
       "      <td>Boliney</td>\n",
       "    </tr>\n",
       "    <tr>\n",
       "      <th>2</th>\n",
       "      <td>Abra</td>\n",
       "      <td>Bucay</td>\n",
       "      <td>MULTIPOLYGON (((120.70788 17.45395, 120.70621 ...</td>\n",
       "      <td>3</td>\n",
       "      <td>0.0</td>\n",
       "      <td>0.0</td>\n",
       "      <td>17115.0</td>\n",
       "      <td>1.019565</td>\n",
       "      <td>93.647242</td>\n",
       "      <td>Abra</td>\n",
       "      <td>Bucay</td>\n",
       "    </tr>\n",
       "    <tr>\n",
       "      <th>3</th>\n",
       "      <td>Abra</td>\n",
       "      <td>Bucloc</td>\n",
       "      <td>MULTIPOLYGON (((120.78956 17.41699, 120.78922 ...</td>\n",
       "      <td>6</td>\n",
       "      <td>0.0</td>\n",
       "      <td>0.0</td>\n",
       "      <td>2501.0</td>\n",
       "      <td>0.129150</td>\n",
       "      <td>44.789104</td>\n",
       "      <td>Abra</td>\n",
       "      <td>Bucloc</td>\n",
       "    </tr>\n",
       "    <tr>\n",
       "      <th>4</th>\n",
       "      <td>Abra</td>\n",
       "      <td>Daguioman</td>\n",
       "      <td>MULTIPOLYGON (((120.92917 17.41307, 120.92464 ...</td>\n",
       "      <td>10</td>\n",
       "      <td>0.0</td>\n",
       "      <td>0.0</td>\n",
       "      <td>2088.0</td>\n",
       "      <td>0.277660</td>\n",
       "      <td>51.242322</td>\n",
       "      <td>Abra</td>\n",
       "      <td>Daguioman</td>\n",
       "    </tr>\n",
       "    <tr>\n",
       "      <th>...</th>\n",
       "      <td>...</td>\n",
       "      <td>...</td>\n",
       "      <td>...</td>\n",
       "      <td>...</td>\n",
       "      <td>...</td>\n",
       "      <td>...</td>\n",
       "      <td>...</td>\n",
       "      <td>...</td>\n",
       "      <td>...</td>\n",
       "      <td>...</td>\n",
       "      <td>...</td>\n",
       "    </tr>\n",
       "    <tr>\n",
       "      <th>1628</th>\n",
       "      <td>Zamboanga Sibugay</td>\n",
       "      <td>Roseller Lim</td>\n",
       "      <td>MULTIPOLYGON (((122.54519 7.68240, 122.54472 7...</td>\n",
       "      <td>14</td>\n",
       "      <td>0.0</td>\n",
       "      <td>0.0</td>\n",
       "      <td>43646.0</td>\n",
       "      <td>2.543219</td>\n",
       "      <td>121.506087</td>\n",
       "      <td>Zamboanga Sibugay</td>\n",
       "      <td>Roseller Lim</td>\n",
       "    </tr>\n",
       "    <tr>\n",
       "      <th>1629</th>\n",
       "      <td>Zamboanga Sibugay</td>\n",
       "      <td>Siay</td>\n",
       "      <td>MULTIPOLYGON (((122.81555 7.72806, 122.81500 7...</td>\n",
       "      <td>2</td>\n",
       "      <td>0.0</td>\n",
       "      <td>0.0</td>\n",
       "      <td>41572.0</td>\n",
       "      <td>2.042040</td>\n",
       "      <td>124.253050</td>\n",
       "      <td>Zamboanga Sibugay</td>\n",
       "      <td>Siay</td>\n",
       "    </tr>\n",
       "    <tr>\n",
       "      <th>1630</th>\n",
       "      <td>Zamboanga Sibugay</td>\n",
       "      <td>Talusan</td>\n",
       "      <td>MULTIPOLYGON (((122.91917 7.34111, 122.91861 7...</td>\n",
       "      <td>1</td>\n",
       "      <td>0.0</td>\n",
       "      <td>0.0</td>\n",
       "      <td>29969.0</td>\n",
       "      <td>0.395521</td>\n",
       "      <td>67.680146</td>\n",
       "      <td>Zamboanga Sibugay</td>\n",
       "      <td>Talusan</td>\n",
       "    </tr>\n",
       "    <tr>\n",
       "      <th>1631</th>\n",
       "      <td>Zamboanga Sibugay</td>\n",
       "      <td>Titay</td>\n",
       "      <td>MULTIPOLYGON (((122.59055 7.82854, 122.58292 7...</td>\n",
       "      <td>5</td>\n",
       "      <td>0.0</td>\n",
       "      <td>0.0</td>\n",
       "      <td>49673.0</td>\n",
       "      <td>3.092784</td>\n",
       "      <td>155.822081</td>\n",
       "      <td>Zamboanga Sibugay</td>\n",
       "      <td>Titay</td>\n",
       "    </tr>\n",
       "    <tr>\n",
       "      <th>1632</th>\n",
       "      <td>Zamboanga Sibugay</td>\n",
       "      <td>Tungawan</td>\n",
       "      <td>MULTIPOLYGON (((122.41989 7.49679, 122.42042 7...</td>\n",
       "      <td>11</td>\n",
       "      <td>0.0</td>\n",
       "      <td>0.0</td>\n",
       "      <td>42030.0</td>\n",
       "      <td>2.384430</td>\n",
       "      <td>146.306603</td>\n",
       "      <td>Zamboanga Sibugay</td>\n",
       "      <td>Tungawan</td>\n",
       "    </tr>\n",
       "  </tbody>\n",
       "</table>\n",
       "<p>1633 rows × 11 columns</p>\n",
       "</div>"
      ],
      "text/plain": [
       "                 name_1        name_2  \\\n",
       "0                  Abra       Bangued   \n",
       "1                  Abra       Boliney   \n",
       "2                  Abra         Bucay   \n",
       "3                  Abra        Bucloc   \n",
       "4                  Abra     Daguioman   \n",
       "...                 ...           ...   \n",
       "1628  Zamboanga Sibugay  Roseller Lim   \n",
       "1629  Zamboanga Sibugay          Siay   \n",
       "1630  Zamboanga Sibugay       Talusan   \n",
       "1631  Zamboanga Sibugay         Titay   \n",
       "1632  Zamboanga Sibugay      Tungawan   \n",
       "\n",
       "                                                   geom  amenity_counts  \\\n",
       "0     MULTIPOLYGON (((120.62710 17.49300, 120.62177 ...              44   \n",
       "1     MULTIPOLYGON (((120.99042 17.39802, 120.98631 ...               9   \n",
       "2     MULTIPOLYGON (((120.70788 17.45395, 120.70621 ...               3   \n",
       "3     MULTIPOLYGON (((120.78956 17.41699, 120.78922 ...               6   \n",
       "4     MULTIPOLYGON (((120.92917 17.41307, 120.92464 ...              10   \n",
       "...                                                 ...             ...   \n",
       "1628  MULTIPOLYGON (((122.54519 7.68240, 122.54472 7...              14   \n",
       "1629  MULTIPOLYGON (((122.81555 7.72806, 122.81500 7...               2   \n",
       "1630  MULTIPOLYGON (((122.91917 7.34111, 122.91861 7...               1   \n",
       "1631  MULTIPOLYGON (((122.59055 7.82854, 122.58292 7...               5   \n",
       "1632  MULTIPOLYGON (((122.41989 7.49679, 122.42042 7...              11   \n",
       "\n",
       "      school_count  hospital_count      pop  tot_tax_revenue  \\\n",
       "0              2.0             0.0  48163.0        36.556294   \n",
       "1              0.0             0.0   3573.0         0.035633   \n",
       "2              0.0             0.0  17115.0         1.019565   \n",
       "3              0.0             0.0   2501.0         0.129150   \n",
       "4              0.0             0.0   2088.0         0.277660   \n",
       "...            ...             ...      ...              ...   \n",
       "1628           0.0             0.0  43646.0         2.543219   \n",
       "1629           0.0             0.0  41572.0         2.042040   \n",
       "1630           0.0             0.0  29969.0         0.395521   \n",
       "1631           0.0             0.0  49673.0         3.092784   \n",
       "1632           0.0             0.0  42030.0         2.384430   \n",
       "\n",
       "      tot_current_oper_income       shp_province shp_municipality  \n",
       "0                  230.577076               Abra          Bangued  \n",
       "1                   56.689883               Abra          Boliney  \n",
       "2                   93.647242               Abra            Bucay  \n",
       "3                   44.789104               Abra           Bucloc  \n",
       "4                   51.242322               Abra        Daguioman  \n",
       "...                       ...                ...              ...  \n",
       "1628               121.506087  Zamboanga Sibugay     Roseller Lim  \n",
       "1629               124.253050  Zamboanga Sibugay             Siay  \n",
       "1630                67.680146  Zamboanga Sibugay          Talusan  \n",
       "1631               155.822081  Zamboanga Sibugay            Titay  \n",
       "1632               146.306603  Zamboanga Sibugay         Tungawan  \n",
       "\n",
       "[1633 rows x 11 columns]"
      ]
     },
     "execution_count": 69,
     "metadata": {},
     "output_type": "execute_result"
    }
   ],
   "source": [
    "#Lets merge the population column to our data \n",
    "data = pd.merge(data2, finance_df[['pop','tot_tax_revenue',\n",
    "                                'tot_current_oper_income', 'shp_province',\n",
    "                                 'shp_municipality']],\n",
    "                     how='left',\n",
    "                     left_on=['name_1', 'name_2'],\n",
    "                     right_on = ['shp_province',\n",
    "                               'shp_municipality']\n",
    "                    )\n",
    "dataset = data.fillna(0)\n",
    "dataset"
   ]
  },
  {
   "cell_type": "code",
   "execution_count": 70,
   "id": "e458c256",
   "metadata": {
    "ExecuteTime": {
     "end_time": "2021-12-06T09:57:30.870505Z",
     "start_time": "2021-12-06T09:57:30.840335Z"
    }
   },
   "outputs": [
    {
     "data": {
      "text/html": [
       "<div>\n",
       "<style scoped>\n",
       "    .dataframe tbody tr th:only-of-type {\n",
       "        vertical-align: middle;\n",
       "    }\n",
       "\n",
       "    .dataframe tbody tr th {\n",
       "        vertical-align: top;\n",
       "    }\n",
       "\n",
       "    .dataframe thead th {\n",
       "        text-align: right;\n",
       "    }\n",
       "</style>\n",
       "<table border=\"1\" class=\"dataframe\">\n",
       "  <thead>\n",
       "    <tr style=\"text-align: right;\">\n",
       "      <th></th>\n",
       "      <th>name_1</th>\n",
       "      <th>name_2</th>\n",
       "      <th>geom</th>\n",
       "      <th>amenity_counts</th>\n",
       "      <th>school_count</th>\n",
       "      <th>hospital_count</th>\n",
       "      <th>pop</th>\n",
       "      <th>tot_tax_revenue</th>\n",
       "      <th>tot_current_oper_income</th>\n",
       "    </tr>\n",
       "  </thead>\n",
       "  <tbody>\n",
       "    <tr>\n",
       "      <th>0</th>\n",
       "      <td>Abra</td>\n",
       "      <td>Bangued</td>\n",
       "      <td>MULTIPOLYGON (((120.62710 17.49300, 120.62177 ...</td>\n",
       "      <td>44</td>\n",
       "      <td>2.0</td>\n",
       "      <td>NaN</td>\n",
       "      <td>48163.0</td>\n",
       "      <td>36.556294</td>\n",
       "      <td>230.577076</td>\n",
       "    </tr>\n",
       "    <tr>\n",
       "      <th>1</th>\n",
       "      <td>Abra</td>\n",
       "      <td>Boliney</td>\n",
       "      <td>MULTIPOLYGON (((120.99042 17.39802, 120.98631 ...</td>\n",
       "      <td>9</td>\n",
       "      <td>NaN</td>\n",
       "      <td>NaN</td>\n",
       "      <td>3573.0</td>\n",
       "      <td>0.035633</td>\n",
       "      <td>56.689883</td>\n",
       "    </tr>\n",
       "    <tr>\n",
       "      <th>2</th>\n",
       "      <td>Abra</td>\n",
       "      <td>Bucay</td>\n",
       "      <td>MULTIPOLYGON (((120.70788 17.45395, 120.70621 ...</td>\n",
       "      <td>3</td>\n",
       "      <td>NaN</td>\n",
       "      <td>NaN</td>\n",
       "      <td>17115.0</td>\n",
       "      <td>1.019565</td>\n",
       "      <td>93.647242</td>\n",
       "    </tr>\n",
       "    <tr>\n",
       "      <th>3</th>\n",
       "      <td>Abra</td>\n",
       "      <td>Bucloc</td>\n",
       "      <td>MULTIPOLYGON (((120.78956 17.41699, 120.78922 ...</td>\n",
       "      <td>6</td>\n",
       "      <td>NaN</td>\n",
       "      <td>NaN</td>\n",
       "      <td>2501.0</td>\n",
       "      <td>0.129150</td>\n",
       "      <td>44.789104</td>\n",
       "    </tr>\n",
       "    <tr>\n",
       "      <th>4</th>\n",
       "      <td>Abra</td>\n",
       "      <td>Daguioman</td>\n",
       "      <td>MULTIPOLYGON (((120.92917 17.41307, 120.92464 ...</td>\n",
       "      <td>10</td>\n",
       "      <td>NaN</td>\n",
       "      <td>NaN</td>\n",
       "      <td>2088.0</td>\n",
       "      <td>0.277660</td>\n",
       "      <td>51.242322</td>\n",
       "    </tr>\n",
       "  </tbody>\n",
       "</table>\n",
       "</div>"
      ],
      "text/plain": [
       "  name_1     name_2                                               geom  \\\n",
       "0   Abra    Bangued  MULTIPOLYGON (((120.62710 17.49300, 120.62177 ...   \n",
       "1   Abra    Boliney  MULTIPOLYGON (((120.99042 17.39802, 120.98631 ...   \n",
       "2   Abra      Bucay  MULTIPOLYGON (((120.70788 17.45395, 120.70621 ...   \n",
       "3   Abra     Bucloc  MULTIPOLYGON (((120.78956 17.41699, 120.78922 ...   \n",
       "4   Abra  Daguioman  MULTIPOLYGON (((120.92917 17.41307, 120.92464 ...   \n",
       "\n",
       "   amenity_counts  school_count  hospital_count      pop  tot_tax_revenue  \\\n",
       "0              44           2.0             NaN  48163.0        36.556294   \n",
       "1               9           NaN             NaN   3573.0         0.035633   \n",
       "2               3           NaN             NaN  17115.0         1.019565   \n",
       "3               6           NaN             NaN   2501.0         0.129150   \n",
       "4              10           NaN             NaN   2088.0         0.277660   \n",
       "\n",
       "   tot_current_oper_income  \n",
       "0               230.577076  \n",
       "1                56.689883  \n",
       "2                93.647242  \n",
       "3                44.789104  \n",
       "4                51.242322  "
      ]
     },
     "execution_count": 70,
     "metadata": {},
     "output_type": "execute_result"
    }
   ],
   "source": [
    "data.drop(columns=['shp_province','shp_municipality'], axis=1, inplace=True)\n",
    "data.head()"
   ]
  },
  {
   "cell_type": "code",
   "execution_count": 71,
   "id": "a0f6b4df",
   "metadata": {
    "ExecuteTime": {
     "end_time": "2021-12-06T09:58:05.601104Z",
     "start_time": "2021-12-06T09:58:05.564967Z"
    }
   },
   "outputs": [],
   "source": [
    "data['pop_density'] = data['pop'] / data.area"
   ]
  },
  {
   "cell_type": "code",
   "execution_count": 72,
   "id": "e06bfc68",
   "metadata": {
    "ExecuteTime": {
     "end_time": "2021-12-06T09:58:12.875254Z",
     "start_time": "2021-12-06T09:58:12.846432Z"
    }
   },
   "outputs": [
    {
     "data": {
      "text/html": [
       "<div>\n",
       "<style scoped>\n",
       "    .dataframe tbody tr th:only-of-type {\n",
       "        vertical-align: middle;\n",
       "    }\n",
       "\n",
       "    .dataframe tbody tr th {\n",
       "        vertical-align: top;\n",
       "    }\n",
       "\n",
       "    .dataframe thead th {\n",
       "        text-align: right;\n",
       "    }\n",
       "</style>\n",
       "<table border=\"1\" class=\"dataframe\">\n",
       "  <thead>\n",
       "    <tr style=\"text-align: right;\">\n",
       "      <th></th>\n",
       "      <th>name_1</th>\n",
       "      <th>name_2</th>\n",
       "      <th>geom</th>\n",
       "      <th>amenity_counts</th>\n",
       "      <th>school_count</th>\n",
       "      <th>hospital_count</th>\n",
       "      <th>pop</th>\n",
       "      <th>tot_tax_revenue</th>\n",
       "      <th>tot_current_oper_income</th>\n",
       "      <th>pop_density</th>\n",
       "    </tr>\n",
       "  </thead>\n",
       "  <tbody>\n",
       "    <tr>\n",
       "      <th>0</th>\n",
       "      <td>Abra</td>\n",
       "      <td>Bangued</td>\n",
       "      <td>MULTIPOLYGON (((120.62710 17.49300, 120.62177 ...</td>\n",
       "      <td>44</td>\n",
       "      <td>2.0</td>\n",
       "      <td>NaN</td>\n",
       "      <td>48163.0</td>\n",
       "      <td>36.556294</td>\n",
       "      <td>230.577076</td>\n",
       "      <td>4.575788e+06</td>\n",
       "    </tr>\n",
       "    <tr>\n",
       "      <th>1</th>\n",
       "      <td>Abra</td>\n",
       "      <td>Boliney</td>\n",
       "      <td>MULTIPOLYGON (((120.99042 17.39802, 120.98631 ...</td>\n",
       "      <td>9</td>\n",
       "      <td>NaN</td>\n",
       "      <td>NaN</td>\n",
       "      <td>3573.0</td>\n",
       "      <td>0.035633</td>\n",
       "      <td>56.689883</td>\n",
       "      <td>2.300790e+05</td>\n",
       "    </tr>\n",
       "  </tbody>\n",
       "</table>\n",
       "</div>"
      ],
      "text/plain": [
       "  name_1   name_2                                               geom  \\\n",
       "0   Abra  Bangued  MULTIPOLYGON (((120.62710 17.49300, 120.62177 ...   \n",
       "1   Abra  Boliney  MULTIPOLYGON (((120.99042 17.39802, 120.98631 ...   \n",
       "\n",
       "   amenity_counts  school_count  hospital_count      pop  tot_tax_revenue  \\\n",
       "0              44           2.0             NaN  48163.0        36.556294   \n",
       "1               9           NaN             NaN   3573.0         0.035633   \n",
       "\n",
       "   tot_current_oper_income   pop_density  \n",
       "0               230.577076  4.575788e+06  \n",
       "1                56.689883  2.300790e+05  "
      ]
     },
     "execution_count": 72,
     "metadata": {},
     "output_type": "execute_result"
    }
   ],
   "source": [
    "data.head(2)"
   ]
  },
  {
   "cell_type": "code",
   "execution_count": 73,
   "id": "2e1a73ef",
   "metadata": {
    "ExecuteTime": {
     "end_time": "2021-12-06T09:58:28.337828Z",
     "start_time": "2021-12-06T09:58:25.303409Z"
    }
   },
   "outputs": [],
   "source": [
    "data.to_csv('amenities_and_finance_v1.csv')"
   ]
  },
  {
   "cell_type": "markdown",
   "id": "1ac0a458",
   "metadata": {},
   "source": [
    "# Data Preparation\n",
    "## Merge Earthquake Dataset + Finance + Amenities"
   ]
  },
  {
   "cell_type": "code",
   "execution_count": 74,
   "id": "71a3d4fa",
   "metadata": {
    "ExecuteTime": {
     "end_time": "2021-12-06T09:58:28.501548Z",
     "start_time": "2021-12-06T09:58:28.342196Z"
    }
   },
   "outputs": [],
   "source": [
    "df_earthquake = pd.read_csv('ph_earthquake.csv')"
   ]
  },
  {
   "cell_type": "code",
   "execution_count": 75,
   "id": "a8c24feb",
   "metadata": {
    "ExecuteTime": {
     "end_time": "2021-12-06T09:58:28.520006Z",
     "start_time": "2021-12-06T09:58:28.503257Z"
    }
   },
   "outputs": [
    {
     "data": {
      "text/html": [
       "<div>\n",
       "<style scoped>\n",
       "    .dataframe tbody tr th:only-of-type {\n",
       "        vertical-align: middle;\n",
       "    }\n",
       "\n",
       "    .dataframe tbody tr th {\n",
       "        vertical-align: top;\n",
       "    }\n",
       "\n",
       "    .dataframe thead th {\n",
       "        text-align: right;\n",
       "    }\n",
       "</style>\n",
       "<table border=\"1\" class=\"dataframe\">\n",
       "  <thead>\n",
       "    <tr style=\"text-align: right;\">\n",
       "      <th></th>\n",
       "      <th>Unnamed: 0</th>\n",
       "      <th>province</th>\n",
       "      <th>municipality</th>\n",
       "      <th>Point</th>\n",
       "      <th>geom</th>\n",
       "      <th>coordinates</th>\n",
       "      <th>magnitude</th>\n",
       "      <th>time</th>\n",
       "      <th>mean_mag_2010</th>\n",
       "      <th>mean_mag_2011</th>\n",
       "      <th>...</th>\n",
       "      <th>major_2012</th>\n",
       "      <th>major_2013</th>\n",
       "      <th>major_2014</th>\n",
       "      <th>major_2015</th>\n",
       "      <th>major_2016</th>\n",
       "      <th>major_2017</th>\n",
       "      <th>major_2018</th>\n",
       "      <th>major_2019</th>\n",
       "      <th>major_2020</th>\n",
       "      <th>major_2021</th>\n",
       "    </tr>\n",
       "  </thead>\n",
       "  <tbody>\n",
       "    <tr>\n",
       "      <th>0</th>\n",
       "      <td>0</td>\n",
       "      <td>Abra</td>\n",
       "      <td>Bangued</td>\n",
       "      <td>['POINT (119.8464 16.4895)']</td>\n",
       "      <td>MULTIPOLYGON (((120.62709808 17.49300003, 120....</td>\n",
       "      <td>[119.8464, 16.4895, 37]</td>\n",
       "      <td>[5.5]</td>\n",
       "      <td>['2015-11-07 19:40:13.550']</td>\n",
       "      <td>0.0</td>\n",
       "      <td>0.0</td>\n",
       "      <td>...</td>\n",
       "      <td>0</td>\n",
       "      <td>0</td>\n",
       "      <td>0</td>\n",
       "      <td>1</td>\n",
       "      <td>0</td>\n",
       "      <td>0</td>\n",
       "      <td>0</td>\n",
       "      <td>0</td>\n",
       "      <td>0</td>\n",
       "      <td>0</td>\n",
       "    </tr>\n",
       "    <tr>\n",
       "      <th>1</th>\n",
       "      <td>1</td>\n",
       "      <td>Abra</td>\n",
       "      <td>Bucay</td>\n",
       "      <td>['POINT (125.704 6.176)', 'POINT (123.325 14.9...</td>\n",
       "      <td>MULTIPOLYGON (((120.70787811 17.45395088, 120....</td>\n",
       "      <td>[125.704, 6.176, 122.7]</td>\n",
       "      <td>[4.6, 5.3]</td>\n",
       "      <td>['2012-07-29 03:27:50.000', '2013-05-01 05:37:...</td>\n",
       "      <td>0.0</td>\n",
       "      <td>0.0</td>\n",
       "      <td>...</td>\n",
       "      <td>1</td>\n",
       "      <td>1</td>\n",
       "      <td>0</td>\n",
       "      <td>0</td>\n",
       "      <td>0</td>\n",
       "      <td>0</td>\n",
       "      <td>0</td>\n",
       "      <td>0</td>\n",
       "      <td>0</td>\n",
       "      <td>0</td>\n",
       "    </tr>\n",
       "  </tbody>\n",
       "</table>\n",
       "<p>2 rows × 92 columns</p>\n",
       "</div>"
      ],
      "text/plain": [
       "   Unnamed: 0 province municipality  \\\n",
       "0           0     Abra      Bangued   \n",
       "1           1     Abra        Bucay   \n",
       "\n",
       "                                               Point  \\\n",
       "0                       ['POINT (119.8464 16.4895)']   \n",
       "1  ['POINT (125.704 6.176)', 'POINT (123.325 14.9...   \n",
       "\n",
       "                                                geom              coordinates  \\\n",
       "0  MULTIPOLYGON (((120.62709808 17.49300003, 120....  [119.8464, 16.4895, 37]   \n",
       "1  MULTIPOLYGON (((120.70787811 17.45395088, 120....  [125.704, 6.176, 122.7]   \n",
       "\n",
       "    magnitude                                               time  \\\n",
       "0       [5.5]                        ['2015-11-07 19:40:13.550']   \n",
       "1  [4.6, 5.3]  ['2012-07-29 03:27:50.000', '2013-05-01 05:37:...   \n",
       "\n",
       "   mean_mag_2010  mean_mag_2011  ...  major_2012  major_2013  major_2014  \\\n",
       "0            0.0            0.0  ...           0           0           0   \n",
       "1            0.0            0.0  ...           1           1           0   \n",
       "\n",
       "   major_2015  major_2016  major_2017  major_2018  major_2019  major_2020  \\\n",
       "0           1           0           0           0           0           0   \n",
       "1           0           0           0           0           0           0   \n",
       "\n",
       "   major_2021  \n",
       "0           0  \n",
       "1           0  \n",
       "\n",
       "[2 rows x 92 columns]"
      ]
     },
     "execution_count": 75,
     "metadata": {},
     "output_type": "execute_result"
    }
   ],
   "source": [
    "df_earthquake.head(2)"
   ]
  },
  {
   "cell_type": "code",
   "execution_count": 76,
   "id": "f81033d1",
   "metadata": {
    "ExecuteTime": {
     "end_time": "2021-12-06T09:58:28.527133Z",
     "start_time": "2021-12-06T09:58:28.522176Z"
    }
   },
   "outputs": [
    {
     "data": {
      "text/plain": [
       "Index(['Unnamed: 0', 'province', 'municipality', 'Point', 'geom',\n",
       "       'coordinates', 'magnitude', 'time', 'mean_mag_2010', 'mean_mag_2011',\n",
       "       'mean_mag_2012', 'mean_mag_2013', 'mean_mag_2014', 'mean_mag_2015',\n",
       "       'mean_mag_2016', 'mean_mag_2017', 'mean_mag_2018', 'mean_mag_2019',\n",
       "       'mean_mag_2020', 'mean_mag_2021', 'max_mag_2010', 'max_mag_2011',\n",
       "       'max_mag_2012', 'max_mag_2013', 'max_mag_2014', 'max_mag_2015',\n",
       "       'max_mag_2016', 'max_mag_2017', 'max_mag_2018', 'max_mag_2019',\n",
       "       'max_mag_2020', 'max_mag_2021', 'min_mag_2010', 'min_mag_2011',\n",
       "       'min_mag_2012', 'min_mag_2013', 'min_mag_2014', 'min_mag_2015',\n",
       "       'min_mag_2016', 'min_mag_2017', 'min_mag_2018', 'min_mag_2019',\n",
       "       'min_mag_2020', 'min_mag_2021', 'light_2010', 'light_2011',\n",
       "       'light_2012', 'light_2013', 'light_2014', 'light_2015', 'light_2016',\n",
       "       'light_2017', 'light_2018', 'light_2019', 'light_2020', 'light_2021',\n",
       "       'moderate_2010', 'moderate_2011', 'moderate_2012', 'moderate_2013',\n",
       "       'moderate_2014', 'moderate_2015', 'moderate_2016', 'moderate_2017',\n",
       "       'moderate_2018', 'moderate_2019', 'moderate_2020', 'moderate_2021',\n",
       "       'strong_2010', 'strong_2011', 'strong_2012', 'strong_2013',\n",
       "       'strong_2014', 'strong_2015', 'strong_2016', 'strong_2017',\n",
       "       'strong_2018', 'strong_2019', 'strong_2020', 'strong_2021',\n",
       "       'major_2010', 'major_2011', 'major_2012', 'major_2013', 'major_2014',\n",
       "       'major_2015', 'major_2016', 'major_2017', 'major_2018', 'major_2019',\n",
       "       'major_2020', 'major_2021'],\n",
       "      dtype='object')"
      ]
     },
     "execution_count": 76,
     "metadata": {},
     "output_type": "execute_result"
    }
   ],
   "source": [
    "df_earthquake.columns"
   ]
  },
  {
   "cell_type": "code",
   "execution_count": 77,
   "id": "f1f06ba6",
   "metadata": {
    "ExecuteTime": {
     "end_time": "2021-12-06T09:58:29.013503Z",
     "start_time": "2021-12-06T09:58:29.005602Z"
    }
   },
   "outputs": [],
   "source": [
    "data.rename(columns={'name_1': 'province', 'name_2': 'municipality'}, inplace=True)"
   ]
  },
  {
   "cell_type": "code",
   "execution_count": 80,
   "id": "966ff93f",
   "metadata": {
    "ExecuteTime": {
     "end_time": "2021-12-06T09:58:30.651400Z",
     "start_time": "2021-12-06T09:58:30.629575Z"
    }
   },
   "outputs": [],
   "source": [
    "# merge earthquake data and amenities data\n",
    "dataset = data.merge(df_earthquake, on=['province', 'municipality'], how='left')"
   ]
  },
  {
   "cell_type": "code",
   "execution_count": 81,
   "id": "bb15b00c",
   "metadata": {
    "ExecuteTime": {
     "end_time": "2021-12-06T09:58:31.121124Z",
     "start_time": "2021-12-06T09:58:31.079798Z"
    }
   },
   "outputs": [
    {
     "data": {
      "text/html": [
       "<div>\n",
       "<style scoped>\n",
       "    .dataframe tbody tr th:only-of-type {\n",
       "        vertical-align: middle;\n",
       "    }\n",
       "\n",
       "    .dataframe tbody tr th {\n",
       "        vertical-align: top;\n",
       "    }\n",
       "\n",
       "    .dataframe thead th {\n",
       "        text-align: right;\n",
       "    }\n",
       "</style>\n",
       "<table border=\"1\" class=\"dataframe\">\n",
       "  <thead>\n",
       "    <tr style=\"text-align: right;\">\n",
       "      <th></th>\n",
       "      <th>province</th>\n",
       "      <th>municipality</th>\n",
       "      <th>geom_x</th>\n",
       "      <th>amenity_counts</th>\n",
       "      <th>school_count</th>\n",
       "      <th>hospital_count</th>\n",
       "      <th>pop</th>\n",
       "      <th>tot_tax_revenue</th>\n",
       "      <th>tot_current_oper_income</th>\n",
       "      <th>pop_density</th>\n",
       "      <th>...</th>\n",
       "      <th>major_2012</th>\n",
       "      <th>major_2013</th>\n",
       "      <th>major_2014</th>\n",
       "      <th>major_2015</th>\n",
       "      <th>major_2016</th>\n",
       "      <th>major_2017</th>\n",
       "      <th>major_2018</th>\n",
       "      <th>major_2019</th>\n",
       "      <th>major_2020</th>\n",
       "      <th>major_2021</th>\n",
       "    </tr>\n",
       "  </thead>\n",
       "  <tbody>\n",
       "    <tr>\n",
       "      <th>0</th>\n",
       "      <td>Abra</td>\n",
       "      <td>Bangued</td>\n",
       "      <td>MULTIPOLYGON (((120.62710 17.49300, 120.62177 ...</td>\n",
       "      <td>44</td>\n",
       "      <td>2.0</td>\n",
       "      <td>NaN</td>\n",
       "      <td>48163.0</td>\n",
       "      <td>36.556294</td>\n",
       "      <td>230.577076</td>\n",
       "      <td>4.575788e+06</td>\n",
       "      <td>...</td>\n",
       "      <td>0.0</td>\n",
       "      <td>0.0</td>\n",
       "      <td>0.0</td>\n",
       "      <td>1.0</td>\n",
       "      <td>0.0</td>\n",
       "      <td>0.0</td>\n",
       "      <td>0.0</td>\n",
       "      <td>0.0</td>\n",
       "      <td>0.0</td>\n",
       "      <td>0.0</td>\n",
       "    </tr>\n",
       "    <tr>\n",
       "      <th>1</th>\n",
       "      <td>Abra</td>\n",
       "      <td>Boliney</td>\n",
       "      <td>MULTIPOLYGON (((120.99042 17.39802, 120.98631 ...</td>\n",
       "      <td>9</td>\n",
       "      <td>NaN</td>\n",
       "      <td>NaN</td>\n",
       "      <td>3573.0</td>\n",
       "      <td>0.035633</td>\n",
       "      <td>56.689883</td>\n",
       "      <td>2.300790e+05</td>\n",
       "      <td>...</td>\n",
       "      <td>NaN</td>\n",
       "      <td>NaN</td>\n",
       "      <td>NaN</td>\n",
       "      <td>NaN</td>\n",
       "      <td>NaN</td>\n",
       "      <td>NaN</td>\n",
       "      <td>NaN</td>\n",
       "      <td>NaN</td>\n",
       "      <td>NaN</td>\n",
       "      <td>NaN</td>\n",
       "    </tr>\n",
       "    <tr>\n",
       "      <th>2</th>\n",
       "      <td>Abra</td>\n",
       "      <td>Bucay</td>\n",
       "      <td>MULTIPOLYGON (((120.70788 17.45395, 120.70621 ...</td>\n",
       "      <td>3</td>\n",
       "      <td>NaN</td>\n",
       "      <td>NaN</td>\n",
       "      <td>17115.0</td>\n",
       "      <td>1.019565</td>\n",
       "      <td>93.647242</td>\n",
       "      <td>1.926863e+06</td>\n",
       "      <td>...</td>\n",
       "      <td>1.0</td>\n",
       "      <td>1.0</td>\n",
       "      <td>0.0</td>\n",
       "      <td>0.0</td>\n",
       "      <td>0.0</td>\n",
       "      <td>0.0</td>\n",
       "      <td>0.0</td>\n",
       "      <td>0.0</td>\n",
       "      <td>0.0</td>\n",
       "      <td>0.0</td>\n",
       "    </tr>\n",
       "    <tr>\n",
       "      <th>3</th>\n",
       "      <td>Abra</td>\n",
       "      <td>Bucloc</td>\n",
       "      <td>MULTIPOLYGON (((120.78956 17.41699, 120.78922 ...</td>\n",
       "      <td>6</td>\n",
       "      <td>NaN</td>\n",
       "      <td>NaN</td>\n",
       "      <td>2501.0</td>\n",
       "      <td>0.129150</td>\n",
       "      <td>44.789104</td>\n",
       "      <td>5.735264e+05</td>\n",
       "      <td>...</td>\n",
       "      <td>NaN</td>\n",
       "      <td>NaN</td>\n",
       "      <td>NaN</td>\n",
       "      <td>NaN</td>\n",
       "      <td>NaN</td>\n",
       "      <td>NaN</td>\n",
       "      <td>NaN</td>\n",
       "      <td>NaN</td>\n",
       "      <td>NaN</td>\n",
       "      <td>NaN</td>\n",
       "    </tr>\n",
       "    <tr>\n",
       "      <th>4</th>\n",
       "      <td>Abra</td>\n",
       "      <td>Daguioman</td>\n",
       "      <td>MULTIPOLYGON (((120.92917 17.41307, 120.92464 ...</td>\n",
       "      <td>10</td>\n",
       "      <td>NaN</td>\n",
       "      <td>NaN</td>\n",
       "      <td>2088.0</td>\n",
       "      <td>0.277660</td>\n",
       "      <td>51.242322</td>\n",
       "      <td>2.523502e+05</td>\n",
       "      <td>...</td>\n",
       "      <td>NaN</td>\n",
       "      <td>NaN</td>\n",
       "      <td>NaN</td>\n",
       "      <td>NaN</td>\n",
       "      <td>NaN</td>\n",
       "      <td>NaN</td>\n",
       "      <td>NaN</td>\n",
       "      <td>NaN</td>\n",
       "      <td>NaN</td>\n",
       "      <td>NaN</td>\n",
       "    </tr>\n",
       "  </tbody>\n",
       "</table>\n",
       "<p>5 rows × 100 columns</p>\n",
       "</div>"
      ],
      "text/plain": [
       "  province municipality                                             geom_x  \\\n",
       "0     Abra      Bangued  MULTIPOLYGON (((120.62710 17.49300, 120.62177 ...   \n",
       "1     Abra      Boliney  MULTIPOLYGON (((120.99042 17.39802, 120.98631 ...   \n",
       "2     Abra        Bucay  MULTIPOLYGON (((120.70788 17.45395, 120.70621 ...   \n",
       "3     Abra       Bucloc  MULTIPOLYGON (((120.78956 17.41699, 120.78922 ...   \n",
       "4     Abra    Daguioman  MULTIPOLYGON (((120.92917 17.41307, 120.92464 ...   \n",
       "\n",
       "   amenity_counts  school_count  hospital_count      pop  tot_tax_revenue  \\\n",
       "0              44           2.0             NaN  48163.0        36.556294   \n",
       "1               9           NaN             NaN   3573.0         0.035633   \n",
       "2               3           NaN             NaN  17115.0         1.019565   \n",
       "3               6           NaN             NaN   2501.0         0.129150   \n",
       "4              10           NaN             NaN   2088.0         0.277660   \n",
       "\n",
       "   tot_current_oper_income   pop_density  ...  major_2012 major_2013  \\\n",
       "0               230.577076  4.575788e+06  ...         0.0        0.0   \n",
       "1                56.689883  2.300790e+05  ...         NaN        NaN   \n",
       "2                93.647242  1.926863e+06  ...         1.0        1.0   \n",
       "3                44.789104  5.735264e+05  ...         NaN        NaN   \n",
       "4                51.242322  2.523502e+05  ...         NaN        NaN   \n",
       "\n",
       "  major_2014 major_2015 major_2016 major_2017  major_2018  major_2019  \\\n",
       "0        0.0        1.0        0.0        0.0         0.0         0.0   \n",
       "1        NaN        NaN        NaN        NaN         NaN         NaN   \n",
       "2        0.0        0.0        0.0        0.0         0.0         0.0   \n",
       "3        NaN        NaN        NaN        NaN         NaN         NaN   \n",
       "4        NaN        NaN        NaN        NaN         NaN         NaN   \n",
       "\n",
       "   major_2020  major_2021  \n",
       "0         0.0         0.0  \n",
       "1         NaN         NaN  \n",
       "2         0.0         0.0  \n",
       "3         NaN         NaN  \n",
       "4         NaN         NaN  \n",
       "\n",
       "[5 rows x 100 columns]"
      ]
     },
     "execution_count": 81,
     "metadata": {},
     "output_type": "execute_result"
    }
   ],
   "source": [
    "dataset.head()"
   ]
  },
  {
   "cell_type": "code",
   "execution_count": 85,
   "id": "6ec99945",
   "metadata": {
    "ExecuteTime": {
     "end_time": "2021-12-06T10:01:37.452959Z",
     "start_time": "2021-12-06T10:01:37.416186Z"
    }
   },
   "outputs": [
    {
     "name": "stdout",
     "output_type": "stream",
     "text": [
      "<class 'pandas.core.frame.DataFrame'>\n",
      "Int64Index: 1633 entries, 0 to 1632\n",
      "Data columns (total 100 columns):\n",
      " #   Column                   Non-Null Count  Dtype   \n",
      "---  ------                   --------------  -----   \n",
      " 0   province                 1633 non-null   object  \n",
      " 1   municipality             1633 non-null   object  \n",
      " 2   geom_x                   1633 non-null   geometry\n",
      " 3   amenity_counts           1633 non-null   int64   \n",
      " 4   school_count             983 non-null    float64 \n",
      " 5   hospital_count           357 non-null    float64 \n",
      " 6   pop                      1571 non-null   float64 \n",
      " 7   tot_tax_revenue          1608 non-null   float64 \n",
      " 8   tot_current_oper_income  1608 non-null   float64 \n",
      " 9   pop_density              1571 non-null   float64 \n",
      " 10  Unnamed: 0               1406 non-null   float64 \n",
      " 11  Point                    1406 non-null   object  \n",
      " 12  geom_y                   1406 non-null   object  \n",
      " 13  coordinates              1406 non-null   object  \n",
      " 14  magnitude                1406 non-null   object  \n",
      " 15  time                     1406 non-null   object  \n",
      " 16  mean_mag_2010            1406 non-null   float64 \n",
      " 17  mean_mag_2011            1406 non-null   float64 \n",
      " 18  mean_mag_2012            1406 non-null   float64 \n",
      " 19  mean_mag_2013            1406 non-null   float64 \n",
      " 20  mean_mag_2014            1406 non-null   float64 \n",
      " 21  mean_mag_2015            1406 non-null   float64 \n",
      " 22  mean_mag_2016            1406 non-null   float64 \n",
      " 23  mean_mag_2017            1406 non-null   float64 \n",
      " 24  mean_mag_2018            1406 non-null   float64 \n",
      " 25  mean_mag_2019            1406 non-null   float64 \n",
      " 26  mean_mag_2020            1406 non-null   float64 \n",
      " 27  mean_mag_2021            1406 non-null   float64 \n",
      " 28  max_mag_2010             1406 non-null   float64 \n",
      " 29  max_mag_2011             1406 non-null   float64 \n",
      " 30  max_mag_2012             1406 non-null   float64 \n",
      " 31  max_mag_2013             1406 non-null   float64 \n",
      " 32  max_mag_2014             1406 non-null   float64 \n",
      " 33  max_mag_2015             1406 non-null   float64 \n",
      " 34  max_mag_2016             1406 non-null   float64 \n",
      " 35  max_mag_2017             1406 non-null   float64 \n",
      " 36  max_mag_2018             1406 non-null   float64 \n",
      " 37  max_mag_2019             1406 non-null   float64 \n",
      " 38  max_mag_2020             1406 non-null   float64 \n",
      " 39  max_mag_2021             1406 non-null   float64 \n",
      " 40  min_mag_2010             1406 non-null   float64 \n",
      " 41  min_mag_2011             1406 non-null   float64 \n",
      " 42  min_mag_2012             1406 non-null   float64 \n",
      " 43  min_mag_2013             1406 non-null   float64 \n",
      " 44  min_mag_2014             1406 non-null   float64 \n",
      " 45  min_mag_2015             1406 non-null   float64 \n",
      " 46  min_mag_2016             1406 non-null   float64 \n",
      " 47  min_mag_2017             1406 non-null   float64 \n",
      " 48  min_mag_2018             1406 non-null   float64 \n",
      " 49  min_mag_2019             1406 non-null   float64 \n",
      " 50  min_mag_2020             1406 non-null   float64 \n",
      " 51  min_mag_2021             1406 non-null   float64 \n",
      " 52  light_2010               1406 non-null   float64 \n",
      " 53  light_2011               1406 non-null   float64 \n",
      " 54  light_2012               1406 non-null   float64 \n",
      " 55  light_2013               1406 non-null   float64 \n",
      " 56  light_2014               1406 non-null   float64 \n",
      " 57  light_2015               1406 non-null   float64 \n",
      " 58  light_2016               1406 non-null   float64 \n",
      " 59  light_2017               1406 non-null   float64 \n",
      " 60  light_2018               1406 non-null   float64 \n",
      " 61  light_2019               1406 non-null   float64 \n",
      " 62  light_2020               1406 non-null   float64 \n",
      " 63  light_2021               1406 non-null   float64 \n",
      " 64  moderate_2010            1406 non-null   float64 \n",
      " 65  moderate_2011            1406 non-null   float64 \n",
      " 66  moderate_2012            1406 non-null   float64 \n",
      " 67  moderate_2013            1406 non-null   float64 \n",
      " 68  moderate_2014            1406 non-null   float64 \n",
      " 69  moderate_2015            1406 non-null   float64 \n",
      " 70  moderate_2016            1406 non-null   float64 \n",
      " 71  moderate_2017            1406 non-null   float64 \n",
      " 72  moderate_2018            1406 non-null   float64 \n",
      " 73  moderate_2019            1406 non-null   float64 \n",
      " 74  moderate_2020            1406 non-null   float64 \n",
      " 75  moderate_2021            1406 non-null   float64 \n",
      " 76  strong_2010              1406 non-null   float64 \n",
      " 77  strong_2011              1406 non-null   float64 \n",
      " 78  strong_2012              1406 non-null   float64 \n",
      " 79  strong_2013              1406 non-null   float64 \n",
      " 80  strong_2014              1406 non-null   float64 \n",
      " 81  strong_2015              1406 non-null   float64 \n",
      " 82  strong_2016              1406 non-null   float64 \n",
      " 83  strong_2017              1406 non-null   float64 \n",
      " 84  strong_2018              1406 non-null   float64 \n",
      " 85  strong_2019              1406 non-null   float64 \n",
      " 86  strong_2020              1406 non-null   float64 \n",
      " 87  strong_2021              1406 non-null   float64 \n",
      " 88  major_2010               1406 non-null   float64 \n",
      " 89  major_2011               1406 non-null   float64 \n",
      " 90  major_2012               1406 non-null   float64 \n",
      " 91  major_2013               1406 non-null   float64 \n",
      " 92  major_2014               1406 non-null   float64 \n",
      " 93  major_2015               1406 non-null   float64 \n",
      " 94  major_2016               1406 non-null   float64 \n",
      " 95  major_2017               1406 non-null   float64 \n",
      " 96  major_2018               1406 non-null   float64 \n",
      " 97  major_2019               1406 non-null   float64 \n",
      " 98  major_2020               1406 non-null   float64 \n",
      " 99  major_2021               1406 non-null   float64 \n",
      "dtypes: float64(91), geometry(1), int64(1), object(7)\n",
      "memory usage: 1.3+ MB\n"
     ]
    }
   ],
   "source": [
    "dataset.info()"
   ]
  },
  {
   "cell_type": "code",
   "execution_count": 86,
   "id": "efe920e9",
   "metadata": {
    "ExecuteTime": {
     "end_time": "2021-12-06T10:02:52.061583Z",
     "start_time": "2021-12-06T10:02:52.048919Z"
    }
   },
   "outputs": [],
   "source": [
    "dataset.drop(columns=['geom_y'], axis=1, inplace=True)\n",
    "dataset.rename(columns={'geom_x': 'geom'}, inplace=True)"
   ]
  },
  {
   "cell_type": "code",
   "execution_count": 87,
   "id": "39b4b3b0",
   "metadata": {
    "ExecuteTime": {
     "end_time": "2021-12-06T10:02:55.914601Z",
     "start_time": "2021-12-06T10:02:52.776892Z"
    }
   },
   "outputs": [],
   "source": [
    "dataset.to_csv('dataset_for_clustering.csv')"
   ]
  },
  {
   "cell_type": "code",
   "execution_count": 117,
   "id": "22e4db49",
   "metadata": {
    "ExecuteTime": {
     "end_time": "2021-12-06T11:14:48.331477Z",
     "start_time": "2021-12-06T11:14:47.961747Z"
    }
   },
   "outputs": [],
   "source": [
    "dataset = pd.read_csv('dataset_for_clustering.csv')"
   ]
  },
  {
   "cell_type": "code",
   "execution_count": 118,
   "id": "f98de125",
   "metadata": {
    "ExecuteTime": {
     "end_time": "2021-12-06T11:14:48.931193Z",
     "start_time": "2021-12-06T11:14:48.921597Z"
    }
   },
   "outputs": [
    {
     "data": {
      "text/plain": [
       "Index(['Unnamed: 0', 'province', 'municipality', 'geom', 'amenity_counts',\n",
       "       'school_count', 'hospital_count', 'pop', 'tot_tax_revenue',\n",
       "       'tot_current_oper_income', 'pop_density', 'Unnamed: 0.1', 'Point',\n",
       "       'coordinates', 'magnitude', 'time', 'mean_mag_2010', 'mean_mag_2011',\n",
       "       'mean_mag_2012', 'mean_mag_2013', 'mean_mag_2014', 'mean_mag_2015',\n",
       "       'mean_mag_2016', 'mean_mag_2017', 'mean_mag_2018', 'mean_mag_2019',\n",
       "       'mean_mag_2020', 'mean_mag_2021', 'max_mag_2010', 'max_mag_2011',\n",
       "       'max_mag_2012', 'max_mag_2013', 'max_mag_2014', 'max_mag_2015',\n",
       "       'max_mag_2016', 'max_mag_2017', 'max_mag_2018', 'max_mag_2019',\n",
       "       'max_mag_2020', 'max_mag_2021', 'min_mag_2010', 'min_mag_2011',\n",
       "       'min_mag_2012', 'min_mag_2013', 'min_mag_2014', 'min_mag_2015',\n",
       "       'min_mag_2016', 'min_mag_2017', 'min_mag_2018', 'min_mag_2019',\n",
       "       'min_mag_2020', 'min_mag_2021', 'light_2010', 'light_2011',\n",
       "       'light_2012', 'light_2013', 'light_2014', 'light_2015', 'light_2016',\n",
       "       'light_2017', 'light_2018', 'light_2019', 'light_2020', 'light_2021',\n",
       "       'moderate_2010', 'moderate_2011', 'moderate_2012', 'moderate_2013',\n",
       "       'moderate_2014', 'moderate_2015', 'moderate_2016', 'moderate_2017',\n",
       "       'moderate_2018', 'moderate_2019', 'moderate_2020', 'moderate_2021',\n",
       "       'strong_2010', 'strong_2011', 'strong_2012', 'strong_2013',\n",
       "       'strong_2014', 'strong_2015', 'strong_2016', 'strong_2017',\n",
       "       'strong_2018', 'strong_2019', 'strong_2020', 'strong_2021',\n",
       "       'major_2010', 'major_2011', 'major_2012', 'major_2013', 'major_2014',\n",
       "       'major_2015', 'major_2016', 'major_2017', 'major_2018', 'major_2019',\n",
       "       'major_2020', 'major_2021'],\n",
       "      dtype='object')"
      ]
     },
     "execution_count": 118,
     "metadata": {},
     "output_type": "execute_result"
    }
   ],
   "source": [
    "# The columns of the dataset\n",
    "dataset.columns"
   ]
  },
  {
   "cell_type": "code",
   "execution_count": 119,
   "id": "13a7b9a9",
   "metadata": {
    "ExecuteTime": {
     "end_time": "2021-12-06T11:14:51.776449Z",
     "start_time": "2021-12-06T11:14:51.771031Z"
    }
   },
   "outputs": [],
   "source": [
    "import numpy as np"
   ]
  },
  {
   "cell_type": "code",
   "execution_count": 120,
   "id": "d7df2b18",
   "metadata": {
    "ExecuteTime": {
     "end_time": "2021-12-06T11:15:00.847363Z",
     "start_time": "2021-12-06T11:15:00.790775Z"
    }
   },
   "outputs": [],
   "source": [
    "dataset.fillna('[0]', inplace=True)"
   ]
  },
  {
   "cell_type": "code",
   "execution_count": 121,
   "id": "6496ef9e",
   "metadata": {
    "ExecuteTime": {
     "end_time": "2021-12-06T11:15:02.233775Z",
     "start_time": "2021-12-06T11:15:02.188544Z"
    }
   },
   "outputs": [
    {
     "data": {
      "text/plain": [
       "Unnamed: 0        0\n",
       "province          0\n",
       "municipality      0\n",
       "geom              0\n",
       "amenity_counts    0\n",
       "                 ..\n",
       "major_2017        0\n",
       "major_2018        0\n",
       "major_2019        0\n",
       "major_2020        0\n",
       "major_2021        0\n",
       "Length: 100, dtype: int64"
      ]
     },
     "execution_count": 121,
     "metadata": {},
     "output_type": "execute_result"
    }
   ],
   "source": [
    "dataset.isna().sum()"
   ]
  },
  {
   "cell_type": "code",
   "execution_count": 125,
   "id": "7358e94f",
   "metadata": {
    "ExecuteTime": {
     "end_time": "2021-12-06T12:52:25.181379Z",
     "start_time": "2021-12-06T12:52:25.170045Z"
    }
   },
   "outputs": [],
   "source": [
    "dataset['magnitude'] = dataset['magnitude'].apply(lambda x: np.array(x))"
   ]
  },
  {
   "cell_type": "code",
   "execution_count": 131,
   "id": "83dd5964",
   "metadata": {
    "ExecuteTime": {
     "end_time": "2021-12-06T12:57:08.552345Z",
     "start_time": "2021-12-06T12:57:08.506927Z"
    }
   },
   "outputs": [],
   "source": [
    "dataset['magnitude'] = dataset['magnitude'].apply(lambda x: ast.literal_eval(x))"
   ]
  },
  {
   "cell_type": "code",
   "execution_count": null,
   "id": "6d943c04",
   "metadata": {},
   "outputs": [],
   "source": [
    "c = [x for x in a if x < b]"
   ]
  },
  {
   "cell_type": "code",
   "execution_count": 142,
   "id": "53a0d561",
   "metadata": {
    "ExecuteTime": {
     "end_time": "2021-12-06T13:15:34.976157Z",
     "start_time": "2021-12-06T13:15:34.064987Z"
    }
   },
   "outputs": [],
   "source": [
    "dataset['upper_90_mag'] = dataset['magnitude'].apply(lambda x: [i for i in x if i <= np.quantile(x, 0.90)])"
   ]
  },
  {
   "cell_type": "code",
   "execution_count": 143,
   "id": "0be3bbcb",
   "metadata": {
    "ExecuteTime": {
     "end_time": "2021-12-06T13:15:47.694303Z",
     "start_time": "2021-12-06T13:15:47.023719Z"
    }
   },
   "outputs": [],
   "source": [
    "# Final dataset to be used for analysis\n",
    "dataset.to_csv('dataset_for_clustering.csv')"
   ]
  },
  {
   "cell_type": "code",
   "execution_count": null,
   "id": "c241d158",
   "metadata": {},
   "outputs": [],
   "source": []
  }
 ],
 "metadata": {
  "kernelspec": {
   "display_name": "Python 3 (ipykernel)",
   "language": "python",
   "name": "python3"
  },
  "language_info": {
   "codemirror_mode": {
    "name": "ipython",
    "version": 3
   },
   "file_extension": ".py",
   "mimetype": "text/x-python",
   "name": "python",
   "nbconvert_exporter": "python",
   "pygments_lexer": "ipython3",
   "version": "3.9.13"
  },
  "toc": {
   "base_numbering": 1,
   "nav_menu": {},
   "number_sections": true,
   "sideBar": true,
   "skip_h1_title": false,
   "title_cell": "Table of Contents",
   "title_sidebar": "Contents",
   "toc_cell": false,
   "toc_position": {},
   "toc_section_display": true,
   "toc_window_display": false
  }
 },
 "nbformat": 4,
 "nbformat_minor": 5
}
